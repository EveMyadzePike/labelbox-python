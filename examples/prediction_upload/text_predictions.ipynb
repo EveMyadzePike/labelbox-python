{
  "cells": [
    {
      "cell_type": "markdown",
      "id": "a6a048e8-b5fe-418b-aec4-829b5b6802e5",
      "metadata": {
        "id": "a6a048e8-b5fe-418b-aec4-829b5b6802e5"
      },
      "source": [
        "<td>\n",
        "   <a target=\"_blank\" href=\"https://labelbox.com\" ><img src=\"https://labelbox.com/static/images/logo-v4.svg\" width=190/></a>\n",
        "</td>"
      ]
    },
    {
      "cell_type": "markdown",
      "id": "51cf1362-1cde-4749-aac7-5fb94473baa7",
      "metadata": {
        "id": "51cf1362-1cde-4749-aac7-5fb94473baa7"
      },
      "source": [
        "<td>\n",
        "<a href=\"https://colab.research.google.com/github/Labelbox/labelbox-python/blob/develop/examples/prediction_upload/text-prediction.ipynb\" target=\"_blank\"><img\n",
        "src=\"https://colab.research.google.com/assets/colab-badge.svg\" alt=\"Open In Colab\"></a>\n",
        "</td>\n",
        "\n",
        "<td>\n",
        "<a href=\"https://github.com/Labelbox/labelbox-python/blob/develop/examples/prediction_upload/text-prediction.ipynb\" target=\"_blank\"><img\n",
        "src=\"https://img.shields.io/badge/GitHub-100000?logo=github&logoColor=white\" alt=\"GitHub\"></a>\n",
        "</td>"
      ]
    },
    {
      "cell_type": "markdown",
      "id": "339795d3-e36c-4470-8605-62bfdd5eea29",
      "metadata": {
        "id": "339795d3-e36c-4470-8605-62bfdd5eea29"
      },
      "source": [
        "# Text Prediction Import\n",
        "* This notebook walks you through the process of uploading model predictions to a Model Run. This notebook provides an example for each supported prediction type for text assets. \n",
        "\n",
        "A Model Run is a container for the predictions, annotations and metrics of a specific experiment in your ML model development cycle."
      ]
    },
    {
      "cell_type": "markdown",
      "id": "e76f007b-9465-4acd-9008-20e25e4a4b98",
      "metadata": {
        "id": "e76f007b-9465-4acd-9008-20e25e4a4b98"
      },
      "source": [
        "* For information on what types of predictions are supported per data type, refer to this documentation:\n",
        "    * https://docs.labelbox.com/docs/upload-model-predictions#step-6-create-the-predictions-payload"
      ]
    },
    {
      "cell_type": "markdown",
      "id": "f53d50fc-8d3c-452b-9aaf-f6170aaa5576",
      "metadata": {
        "id": "f53d50fc-8d3c-452b-9aaf-f6170aaa5576"
      },
      "source": [
        "* Notes:\n",
        "    * If you are importing more than 1,000 mask predictions at a time, consider submitting separate jobs, as they can take longer than other prediction types to import.\n",
        "    * After the execution of this notebook a complete Model Run with predictions will be created in your organization. "
      ]
    },
    {
      "cell_type": "markdown",
      "id": "5effdaa3-e701-4804-aa33-bbbaed99eb92",
      "metadata": {
        "id": "5effdaa3-e701-4804-aa33-bbbaed99eb92"
      },
      "source": [
        "# Installs"
      ]
    },
    {
      "cell_type": "code",
      "execution_count": 1,
      "id": "4d63074b-2379-48af-b9d6-2a66190f03c4",
      "metadata": {
        "id": "4d63074b-2379-48af-b9d6-2a66190f03c4"
      },
      "outputs": [],
      "source": [
        "!pip install -q 'labelbox[data]'"
      ]
    },
    {
      "cell_type": "markdown",
      "id": "6f3cdca1-524f-4247-a63b-2d4371b0257d",
      "metadata": {
        "id": "6f3cdca1-524f-4247-a63b-2d4371b0257d"
      },
      "source": [
        "# Imports"
      ]
    },
    {
      "cell_type": "code",
      "execution_count": 2,
      "id": "01fca8c9-0680-4a9c-a11e-1b49f31e9121",
      "metadata": {
        "id": "01fca8c9-0680-4a9c-a11e-1b49f31e9121",
        "colab": {
          "base_uri": "https://localhost:8080/"
        },
        "outputId": "192cbd39-3d13-40bc-c585-f4c5bfd600e0"
      },
      "outputs": [
        {
          "output_type": "stream",
          "name": "stdout",
          "text": [
            "3.33.1\n"
          ]
        }
      ],
      "source": [
        "import labelbox\n",
        "from labelbox.schema.ontology import OntologyBuilder, Tool, Classification, Option\n",
        "from labelbox.schema.queue_mode import QueueMode\n",
        "from labelbox import Client, LabelingFrontend, LabelImport, MediaType\n",
        "from labelbox.data.annotation_types import (\n",
        "    Label, TextData, ObjectAnnotation, TextEntity,\n",
        "    Radio, Checklist, Text,\n",
        "    ClassificationAnnotation, ClassificationAnswer\n",
        ")\n",
        "from labelbox.data.serialization import NDJsonConverter\n",
        "import json\n",
        "import uuid\n",
        "import copy\n",
        "import numpy as np\n",
        "print(labelbox.__version__)"
      ]
    },
    {
      "cell_type": "markdown",
      "id": "a72d96e8-33ce-434d-b330-393e1c31702a",
      "metadata": {
        "id": "a72d96e8-33ce-434d-b330-393e1c31702a"
      },
      "source": [
        "# API Key and Client\n",
        "Provide a valid api key below in order to properly connect to the Labelbox Client."
      ]
    },
    {
      "cell_type": "code",
      "execution_count": 3,
      "id": "86003724-4807-4281-95c1-5284a6f9609f",
      "metadata": {
        "id": "86003724-4807-4281-95c1-5284a6f9609f"
      },
      "outputs": [],
      "source": [
        "# Add your api key as a string\n",
        "API_KEY = \"\"\n",
        "client = Client(api_key=API_KEY)"
      ]
    },
    {
      "cell_type": "markdown",
      "id": "960998ac-bde4-4184-8b7d-26d8e019cc7f",
      "metadata": {
        "id": "960998ac-bde4-4184-8b7d-26d8e019cc7f"
      },
      "source": [
        "---- \n",
        "### Steps\n",
        "1. Make sure project is setup\n",
        "2. Collect annotations\n",
        "3. Upload"
      ]
    },
    {
      "cell_type": "markdown",
      "id": "82a7381b-2409-4ed3-9d25-881a1e1d8ca6",
      "metadata": {
        "id": "82a7381b-2409-4ed3-9d25-881a1e1d8ca6"
      },
      "source": [
        "### Create a Model Run (for predictions) and a Project (for annotations)"
      ]
    },
    {
      "cell_type": "markdown",
      "id": "d51fd2e1-bf5f-4c61-bca1-929f43b076ed",
      "metadata": {
        "id": "d51fd2e1-bf5f-4c61-bca1-929f43b076ed"
      },
      "source": [
        "We will be creating \n",
        "- a Model and a Model Run to contain model predictions\n",
        "- a project to contain annotations"
      ]
    },
    {
      "cell_type": "markdown",
      "source": [
        "First, we create an ontology with all the possible tools and classifications supported for text. The official list of supported predictions and annotations that can be uploaded can be found:\n",
        "- [predictions that can be uploaded to a Model Run](https://docs.labelbox.com/docs/upload-model-predictions#step-6-create-the-predictions-payload)\n",
        "- [annotations that can be imported in a project as ground-truths](https://docs.labelbox.com/docs/import-ground-truth)\n",
        "\n",
        "Note: the ontology of the Model Run does not need to match the ontology of the project. However, only the features present in the Model Run ontology can be uploaded as predictions and annotations to the Model Run."
      ],
      "metadata": {
        "id": "49i_juOUr6av"
      },
      "id": "49i_juOUr6av"
    },
    {
      "cell_type": "code",
      "execution_count": 4,
      "id": "f9f9287c-aad7-4914-bc87-1453fb8bce81",
      "metadata": {
        "id": "f9f9287c-aad7-4914-bc87-1453fb8bce81"
      },
      "outputs": [],
      "source": [
        "ontology_builder = OntologyBuilder(\n",
        "    tools=[\n",
        "        Tool(tool=Tool.Type.NER, name=\"named_entity\")\n",
        "        ],\n",
        "  classifications=[ # List of Classification objects\n",
        "    Classification( # Text classification given the name \"text\"\n",
        "      class_type=Classification.Type.TEXT,\n",
        "      instructions=\"text\"), \n",
        "    Classification( # Checklist classification given the name \"text\" with two options: \"first_checklist_answer\" and \"second_checklist_answer\"\n",
        "      class_type=Classification.Type.CHECKLIST, \n",
        "      instructions=\"checklist\", \n",
        "      options=[\n",
        "        Option(value=\"first_checklist_answer\"),\n",
        "        Option(value=\"second_checklist_answer\")            \n",
        "      ]\n",
        "    ), \n",
        "    Classification( # Radio classification given the name \"text\" with two options: \"first_radio_answer\" and \"second_radio_answer\"\n",
        "      class_type=Classification.Type.RADIO, \n",
        "      instructions=\"radio\", \n",
        "      options=[\n",
        "        Option(value=\"first_radio_answer\"),\n",
        "        Option(value=\"second_radio_answer\")\n",
        "      ]\n",
        "    )\n",
        "  ]\n",
        ")\n",
        "\n",
        "ontology = client.create_ontology(\"Ontology Text\", ontology_builder.asdict())"
      ]
    },
    {
      "cell_type": "markdown",
      "source": [
        "We create a Model and a Model Run, to contain the predictions. "
      ],
      "metadata": {
        "id": "1GdimALBuzRU"
      },
      "id": "1GdimALBuzRU"
    },
    {
      "cell_type": "code",
      "source": [
        "# create Model\n",
        "model = client.create_model(name=\"text_model_run\", \n",
        "                            ontology_id=ontology.uid)\n",
        "# create Model Run\n",
        "model_run = model.create_model_run(\"iteration 1\")"
      ],
      "metadata": {
        "id": "hANaXddn5Krs"
      },
      "id": "hANaXddn5Krs",
      "execution_count": 6,
      "outputs": []
    },
    {
      "cell_type": "markdown",
      "source": [
        "We create a project, to contain the annotations."
      ],
      "metadata": {
        "id": "EC_D3TFX5LBo"
      },
      "id": "EC_D3TFX5LBo"
    },
    {
      "cell_type": "code",
      "execution_count": 7,
      "id": "044e9194-d21d-403e-b64c-047c1063b0fe",
      "metadata": {
        "id": "044e9194-d21d-403e-b64c-047c1063b0fe"
      },
      "outputs": [],
      "source": [
        "# Create a Labelbox project\n",
        "project = client.create_project(name=\"text_project\",                                    \n",
        "                                    queue_mode=QueueMode.Batch,\n",
        "                                    # Quality Settings setup \n",
        "                                    auto_audit_percentage=1,\n",
        "                                    auto_audit_number_of_labels=1,\n",
        "                                    media_type=MediaType.Text)\n",
        "project.setup_editor(ontology)"
      ]
    },
    {
      "cell_type": "markdown",
      "source": [
        "### Create a dataset with a data row\n",
        "We will upload predictions and annotations on this data row. "
      ],
      "metadata": {
        "id": "o9JbDSBH5fsF"
      },
      "id": "o9JbDSBH5fsF"
    },
    {
      "cell_type": "code",
      "source": [
        "# # Create one Labelbox dataset\n",
        "dataset = client.create_dataset(name=\"text_prediction_import_demo_dataset\")\n",
        "# Grab an example text and create a Labelbox data row in the dataset\n",
        "uploads = {\n",
        "        \"row_data\": \"https://storage.googleapis.com/labelbox-sample-datasets/nlp/lorem-ipsum.txt\",\n",
        "            # To learn more about Global Keys : https://docs.labelbox.com/docs/global-keys\n",
        "        \"global_key\": \"TEST-ID-%id\" % uuid.uuid1()\n",
        "    }\n",
        "data_row = dataset.create_data_row(uploads)\n",
        "print(data_row)"
      ],
      "metadata": {
        "colab": {
          "base_uri": "https://localhost:8080/"
        },
        "id": "WCFSlblL5gDc",
        "outputId": "07b79f3d-07a1-4eb8-fd0a-c8ab7dfdaf13"
      },
      "id": "WCFSlblL5gDc",
      "execution_count": 8,
      "outputs": [
        {
          "output_type": "stream",
          "name": "stdout",
          "text": [
            "<DataRow {\n",
            "    \"created_at\": \"2022-12-22 12:50:56+00:00\",\n",
            "    \"external_id\": null,\n",
            "    \"global_key\": \"TEST-ID-94148969945369179048273565686632808460d\",\n",
            "    \"media_attributes\": {},\n",
            "    \"metadata\": [],\n",
            "    \"metadata_fields\": [],\n",
            "    \"row_data\": \"https://storage.googleapis.com/labelbox-sample-datasets/nlp/lorem-ipsum.txt\",\n",
            "    \"uid\": \"clbz312d2212e07wldd4zf01r\",\n",
            "    \"updated_at\": \"2022-12-22 12:50:56+00:00\"\n",
            "}>\n"
          ]
        }
      ]
    },
    {
      "cell_type": "markdown",
      "source": [
        "### Send the data row to the Model Run and to the project"
      ],
      "metadata": {
        "id": "8eRGvN8ynJD6"
      },
      "id": "8eRGvN8ynJD6"
    },
    {
      "cell_type": "markdown",
      "source": [
        "Get the data row IDs that we just uploaded"
      ],
      "metadata": {
        "id": "U-yBDwZuBn_M"
      },
      "id": "U-yBDwZuBn_M"
    },
    {
      "cell_type": "code",
      "source": [
        "# Data row ID(s) to send to the Model Run and to the project.\n",
        "datarow_ids = [dr.uid for dr in list(dataset.export_data_rows())]\n",
        "print(\"datarow_ids: \",datarow_ids)"
      ],
      "metadata": {
        "colab": {
          "base_uri": "https://localhost:8080/"
        },
        "id": "nphpP2OmBnGQ",
        "outputId": "fed77309-8e3a-47c9-b92c-d00ddf305b44"
      },
      "id": "nphpP2OmBnGQ",
      "execution_count": 9,
      "outputs": [
        {
          "output_type": "stream",
          "name": "stdout",
          "text": [
            "datarow_ids:  ['clbz312d2212e07wldd4zf01r']\n"
          ]
        }
      ]
    },
    {
      "cell_type": "markdown",
      "source": [
        "Send the data row to the Model Run"
      ],
      "metadata": {
        "id": "38FLeQKMBF9z"
      },
      "id": "38FLeQKMBF9z"
    },
    {
      "cell_type": "code",
      "source": [
        "model_run.upsert_data_rows(datarow_ids)"
      ],
      "metadata": {
        "colab": {
          "base_uri": "https://localhost:8080/"
        },
        "id": "T1vk_EvzBI3u",
        "outputId": "4a4a6d46-a041-43bf-d8bd-c7e7aea44db5"
      },
      "id": "T1vk_EvzBI3u",
      "execution_count": 10,
      "outputs": [
        {
          "output_type": "execute_result",
          "data": {
            "text/plain": [
              "True"
            ]
          },
          "metadata": {},
          "execution_count": 10
        }
      ]
    },
    {
      "cell_type": "markdown",
      "source": [
        "Send the data row to the project"
      ],
      "metadata": {
        "id": "5D7wBx41BJa9"
      },
      "id": "5D7wBx41BJa9"
    },
    {
      "cell_type": "code",
      "source": [
        "project.create_batch(\n",
        "  \"first-batch\", # Each batch in a project must have a unique name\n",
        "  datarow_ids, # A list of data rows or data row ids\n",
        "  5 # priority between 1(Highest) - 5(lowest)\n",
        ")"
      ],
      "metadata": {
        "id": "yfNPsINLnPcO",
        "colab": {
          "base_uri": "https://localhost:8080/"
        },
        "outputId": "ddd45aea-ddfa-4f3d-e249-850234288c29"
      },
      "id": "yfNPsINLnPcO",
      "execution_count": 11,
      "outputs": [
        {
          "output_type": "execute_result",
          "data": {
            "text/plain": [
              "<Batch ID: 4c011d00-81f7-11ed-a456-496beef28f21>"
            ]
          },
          "metadata": {},
          "execution_count": 11
        }
      ]
    },
    {
      "cell_type": "markdown",
      "id": "8da94c48-72a5-4535-ab66-6d14b0b79aed",
      "metadata": {
        "id": "8da94c48-72a5-4535-ab66-6d14b0b79aed"
      },
      "source": [
        "### Create the predictions payload\n",
        "We will upload it to the Model Run.\n",
        "\n",
        "\n",
        "It is recommended to use the Python SDK's annotation types when importing labels into Labelbox."
      ]
    },
    {
      "cell_type": "markdown",
      "id": "ee9b9191-6c0d-4cba-859b-e2e9a1b887c8",
      "metadata": {
        "id": "ee9b9191-6c0d-4cba-859b-e2e9a1b887c8"
      },
      "source": [
        "Object predictions"
      ]
    },
    {
      "cell_type": "code",
      "source": [
        "# Confidence scores are optional.\n",
        "# If no confidence is provided, \n",
        "# the prediction will be treated as if the confidence score equals 1\n",
        "\n",
        "named_entity = TextEntity(start=12,end=22)\n",
        "named_entity_prediction = ObjectAnnotation(value=named_entity, name=\"named_entity\")"
      ],
      "metadata": {
        "id": "qzBqhV4Pv3yp"
      },
      "id": "qzBqhV4Pv3yp",
      "execution_count": 12,
      "outputs": []
    },
    {
      "cell_type": "markdown",
      "id": "291f9c97-37ba-42f5-b8f0-e118bdc5c848",
      "metadata": {
        "id": "291f9c97-37ba-42f5-b8f0-e118bdc5c848"
      },
      "source": [
        "Classification predictions"
      ]
    },
    {
      "cell_type": "code",
      "source": [
        "# Confidence scores are optional.\n",
        "# If no confidence is provided, \n",
        "# the prediction will be treated as if the confidence score equals 1\n",
        "\n",
        "checklist_prediction=ClassificationAnnotation(\n",
        "    value=Checklist(\n",
        "        answer=[ # List of the checklist answers in your ontology\n",
        "            ClassificationAnswer(\n",
        "                name=\"first_checklist_answer\",\n",
        "                confidence=0.5\n",
        "            ),\n",
        "            ClassificationAnswer(\n",
        "                name=\"second_checklist_answer\",\n",
        "                confidence=0.5\n",
        "            )\n",
        "        ]\n",
        "    ), \n",
        "    name=\"checklist\" # Name of the classification in your ontology\n",
        ")\n",
        "\n",
        "radio_prediction=ClassificationAnnotation(\n",
        "    value=Radio(\n",
        "        answer=ClassificationAnswer(\n",
        "            name=\"first_radio_answer\", # Name of the radio answer in your ontology\n",
        "            confidence=0.5\n",
        "        )\n",
        "    ), \n",
        "    name=\"radio\" # Name of the classification in your ontology\n",
        ")\n",
        "\n",
        "# Confidence is not supported for text prediction\n",
        "text_prediction=ClassificationAnnotation(\n",
        "    value=Text( # String value for the text annotation\n",
        "        answer=\"the answer to the text question\",\n",
        "    ), \n",
        "    name=\"text\" # Name of the classification in your ontology\n",
        ")\n"
      ],
      "metadata": {
        "id": "f2RtQQPCymOB"
      },
      "id": "f2RtQQPCymOB",
      "execution_count": 13,
      "outputs": []
    },
    {
      "cell_type": "markdown",
      "id": "15bd593b-509d-4114-af95-ae0be081c42d",
      "metadata": {
        "id": "15bd593b-509d-4114-af95-ae0be081c42d"
      },
      "source": [
        "Create a Label object with all of the predictions created previously."
      ]
    },
    {
      "cell_type": "code",
      "execution_count": 14,
      "id": "6d72fe25-ff7e-4e0a-94cf-095e4df73da0",
      "metadata": {
        "id": "6d72fe25-ff7e-4e0a-94cf-095e4df73da0",
        "colab": {
          "base_uri": "https://localhost:8080/"
        },
        "outputId": "6bb7469b-172b-4c07-9b12-8179dd825779"
      },
      "outputs": [
        {
          "output_type": "execute_result",
          "data": {
            "text/plain": [
              "{'uid': None,\n",
              " 'data': TextData(file_path=None,text=None,url=None),\n",
              " 'annotations': [ObjectAnnotation(confidence=None, name='named_entity', feature_schema_id=None, extra={}, value=TextEntity(start=12, end=22, extra={}), classifications=[]),\n",
              "  ClassificationAnnotation(name='text', feature_schema_id=None, extra={}, value=Text(answer='the answer to the text question')),\n",
              "  ClassificationAnnotation(name='checklist', feature_schema_id=None, extra={}, value=Checklist(name='checklist', answer=[ClassificationAnswer(confidence=0.5, name='first_checklist_answer', feature_schema_id=None, extra={}, keyframe=None), ClassificationAnswer(confidence=0.5, name='second_checklist_answer', feature_schema_id=None, extra={}, keyframe=None)])),\n",
              "  ClassificationAnnotation(name='radio', feature_schema_id=None, extra={}, value=Radio(answer=ClassificationAnswer(confidence=0.5, name='first_radio_answer', feature_schema_id=None, extra={}, keyframe=None)))],\n",
              " 'extra': {}}"
            ]
          },
          "metadata": {},
          "execution_count": 14
        }
      ],
      "source": [
        "# Create a Label object by identifying the applicavle data row in Labelbox and providing a list of annotations\n",
        "label_prediction = Label(\n",
        "    data=TextData(\n",
        "        uid=data_row.uid),\n",
        "    annotations = [\n",
        "        named_entity_prediction,\n",
        "        text_prediction, checklist_prediction, radio_prediction,\n",
        "    ]\n",
        ")\n",
        "\n",
        "# Create urls to mask data for upload\n",
        "def signing_function(obj_bytes: bytes) -> str:\n",
        "    url = client.upload_data(content=obj_bytes, sign=True)\n",
        "    return url\n",
        "\n",
        "label_prediction.add_url_to_masks(signing_function)\n",
        "\n",
        "label_prediction.__dict__"
      ]
    },
    {
      "cell_type": "markdown",
      "metadata": {
        "id": "gAva__YCCzjL"
      },
      "source": [
        "### Create the annotations payload\n",
        "We will upload it to the project.\n",
        "\n",
        "It is recommended to use the Python SDK's annotation types when importing labels into Labelbox."
      ],
      "id": "gAva__YCCzjL"
    },
    {
      "cell_type": "markdown",
      "metadata": {
        "id": "wbhzltpNCzjL"
      },
      "source": [
        "Object annotations"
      ],
      "id": "wbhzltpNCzjL"
    },
    {
      "cell_type": "code",
      "source": [
        "named_entity = TextEntity(start=10,end=20)\n",
        "named_entity_annotation = ObjectAnnotation(value=named_entity, name=\"named_entity\")"
      ],
      "metadata": {
        "id": "apatq9StCzjM"
      },
      "execution_count": 15,
      "outputs": [],
      "id": "apatq9StCzjM"
    },
    {
      "cell_type": "markdown",
      "metadata": {
        "id": "aqSYAaBiCzjN"
      },
      "source": [
        "Classification annotations"
      ],
      "id": "aqSYAaBiCzjN"
    },
    {
      "cell_type": "code",
      "source": [
        "text_annotation=ClassificationAnnotation(\n",
        "    value=Text( # String value for the text annotation\n",
        "        answer=\"the answer to the text question\" \n",
        "    ), \n",
        "    name=\"text\" # Name of the classification in your ontology\n",
        ")\n",
        "\n",
        "checklist_annotation=ClassificationAnnotation(\n",
        "    value=Checklist(\n",
        "        answer=[ # List of the checklist answers in your ontology\n",
        "            ClassificationAnswer(name=\"first_checklist_answer\"),\n",
        "            ClassificationAnswer(name=\"second_checklist_answer\")\n",
        "        ]\n",
        "    ), \n",
        "    name=\"checklist\" # Name of the classification in your ontology\n",
        ")\n",
        "\n",
        "radio_annotation=ClassificationAnnotation(\n",
        "    value=Radio(\n",
        "        answer=ClassificationAnswer(\n",
        "            name=\"second_radio_answer\" # Name of the radio answer in your ontology\n",
        "        )\n",
        "    ), \n",
        "    name=\"radio\" # Name of the classification in your ontology\n",
        ")"
      ],
      "metadata": {
        "id": "9NAdIp6OCzjN"
      },
      "execution_count": 16,
      "outputs": [],
      "id": "9NAdIp6OCzjN"
    },
    {
      "cell_type": "markdown",
      "metadata": {
        "id": "zMcYJxpMCzjN"
      },
      "source": [
        "Create a Label object with all of the annotations created previously."
      ],
      "id": "zMcYJxpMCzjN"
    },
    {
      "cell_type": "code",
      "execution_count": 17,
      "metadata": {
        "colab": {
          "base_uri": "https://localhost:8080/"
        },
        "outputId": "2313ab66-5266-4979-817f-44bb604d6ad6",
        "id": "OHofSRa1CzjN"
      },
      "outputs": [
        {
          "output_type": "execute_result",
          "data": {
            "text/plain": [
              "{'uid': None,\n",
              " 'data': TextData(file_path=None,text=None,url=None),\n",
              " 'annotations': [ObjectAnnotation(confidence=None, name='named_entity', feature_schema_id=None, extra={}, value=TextEntity(start=10, end=20, extra={}), classifications=[]),\n",
              "  ClassificationAnnotation(name='text', feature_schema_id=None, extra={}, value=Text(answer='the answer to the text question')),\n",
              "  ClassificationAnnotation(name='checklist', feature_schema_id=None, extra={}, value=Checklist(name='checklist', answer=[ClassificationAnswer(confidence=None, name='first_checklist_answer', feature_schema_id=None, extra={}, keyframe=None), ClassificationAnswer(confidence=None, name='second_checklist_answer', feature_schema_id=None, extra={}, keyframe=None)])),\n",
              "  ClassificationAnnotation(name='radio', feature_schema_id=None, extra={}, value=Radio(answer=ClassificationAnswer(confidence=None, name='second_radio_answer', feature_schema_id=None, extra={}, keyframe=None)))],\n",
              " 'extra': {}}"
            ]
          },
          "metadata": {},
          "execution_count": 17
        }
      ],
      "source": [
        "# Create a Label object by identifying the applicavle data row in Labelbox and providing a list of annotations\n",
        "label_annotation = Label(\n",
        "    data=TextData(\n",
        "        uid=data_row.uid),\n",
        "    annotations = [\n",
        "        named_entity_annotation,\n",
        "        text_annotation, checklist_annotation, radio_annotation\n",
        "    ]\n",
        ")\n",
        "\n",
        "# Create urls to mask data for upload\n",
        "def signing_function(obj_bytes: bytes) -> str:\n",
        "    url = client.upload_data(content=obj_bytes, sign=True)\n",
        "    return url\n",
        "\n",
        "label_annotation.add_url_to_masks(signing_function)\n",
        "\n",
        "label_annotation.__dict__"
      ],
      "id": "OHofSRa1CzjN"
    },
    {
      "cell_type": "markdown",
      "source": [
        "### Import the annotations payload in the project"
      ],
      "metadata": {
        "id": "KIEvdVzTGL09"
      },
      "id": "KIEvdVzTGL09"
    },
    {
      "cell_type": "code",
      "source": [
        "## Create a label list \n",
        "label_list_annotation = [label_annotation]\n",
        "\n",
        "# Convert the annotation label from a Labelbox class object to the underlying NDJSON format required for upload - uploads can be directly built in this syntax as well\n",
        "ndjson_annotation = list(NDJsonConverter.serialize(label_list_annotation))\n",
        "\n",
        "# Upload the annotation label to the project using Label Import\n",
        "upload_job_annotation = LabelImport.create_from_objects(\n",
        "    client = client,\n",
        "    project_id = project.uid,\n",
        "    name=\"annotation_import_job\",\n",
        "    labels=ndjson_annotation)\n",
        "\n",
        "# This will provide information only after the upload_job is complete, so we do not need to worry about having to rerun\n",
        "upload_job_annotation.wait_until_done()\n",
        "# Errors will appear for annotation uploads that failed.\n",
        "print(\"Errors:\", upload_job_annotation.errors)"
      ],
      "metadata": {
        "colab": {
          "base_uri": "https://localhost:8080/"
        },
        "id": "d_95gQMAGJXq",
        "outputId": "a78b56c6-f80e-4561-b4fe-1641ddf828a6"
      },
      "id": "d_95gQMAGJXq",
      "execution_count": 18,
      "outputs": [
        {
          "output_type": "stream",
          "name": "stdout",
          "text": [
            "Errors: []\n"
          ]
        }
      ]
    },
    {
      "cell_type": "markdown",
      "source": [
        "### Send the annotations to the Model Run"
      ],
      "metadata": {
        "id": "tcQpab5_GR72"
      },
      "id": "tcQpab5_GR72"
    },
    {
      "cell_type": "markdown",
      "source": [
        "Get the label IDs that we just uploaded\n"
      ],
      "metadata": {
        "id": "5I45AW4OHJvq"
      },
      "id": "5I45AW4OHJvq"
    },
    {
      "cell_type": "code",
      "source": [
        "# get the labels id from the project\n",
        "label_ids = [x['ID'] for x in project.export_labels(download=True)]\n",
        "print(\"label_ids: \",label_ids)"
      ],
      "metadata": {
        "colab": {
          "base_uri": "https://localhost:8080/"
        },
        "id": "wGwk8s0SHiIg",
        "outputId": "06c5c0eb-c5e0-4167-ed74-9d7df704a382"
      },
      "id": "wGwk8s0SHiIg",
      "execution_count": 19,
      "outputs": [
        {
          "output_type": "stream",
          "name": "stdout",
          "text": [
            "label_ids:  ['clbz31a0f07k90g3ehh4pgghf']\n"
          ]
        }
      ]
    },
    {
      "cell_type": "code",
      "source": [
        "model_run.upsert_labels(label_ids)"
      ],
      "metadata": {
        "colab": {
          "base_uri": "https://localhost:8080/"
        },
        "id": "nZVuxM5yGR73",
        "outputId": "75d32863-89b3-4855-a6e7-8aeeb3677ed8"
      },
      "execution_count": 20,
      "outputs": [
        {
          "output_type": "execute_result",
          "data": {
            "text/plain": [
              "True"
            ]
          },
          "metadata": {},
          "execution_count": 20
        }
      ],
      "id": "nZVuxM5yGR73"
    },
    {
      "cell_type": "markdown",
      "source": [
        "### Upload the predictions payload to the Model Run"
      ],
      "metadata": {
        "id": "mFlJY439GSHl"
      },
      "id": "mFlJY439GSHl"
    },
    {
      "cell_type": "code",
      "source": [
        "## Create a label list \n",
        "label_list_prediction = [label_prediction]\n",
        "\n",
        "# Convert the prediction label from a Labelbox class object to the underlying NDJSON format required for upload - uploads can be directly built in this syntax as well\n",
        "ndjson_prediction = list(NDJsonConverter.serialize(label_list_prediction))\n",
        "\n",
        "# Upload the prediction label to the Model Run\n",
        "upload_job_prediction = model_run.add_predictions(\n",
        "    name=\"prediction_upload_job\"+str(uuid.uuid4()),\n",
        "    predictions=ndjson_prediction)\n",
        "\n",
        "# Errors will appear for annotation uploads that failed.\n",
        "print(\"Errors:\", upload_job_prediction.errors)\n"
      ],
      "metadata": {
        "colab": {
          "base_uri": "https://localhost:8080/"
        },
        "id": "HFgB6qaSGSHm",
        "outputId": "90670294-c0df-4f3b-99c1-a435632ec62c"
      },
      "execution_count": 21,
      "outputs": [
        {
          "output_type": "stream",
          "name": "stdout",
          "text": [
            "Errors: []\n"
          ]
        }
      ],
      "id": "HFgB6qaSGSHm"
    },
    {
      "cell_type": "markdown",
      "source": [
        "## Cleanup "
      ],
      "metadata": {
        "id": "OhgYk6byutP4"
      },
      "id": "OhgYk6byutP4"
    },
    {
      "cell_type": "code",
      "source": [
        "# mal_project.delete()\n",
        "# li_project.delete()\n",
        "# dataset.delete()"
      ],
      "metadata": {
        "id": "_9FDSkrhur2q"
      },
      "id": "_9FDSkrhur2q",
      "execution_count": 22,
      "outputs": []
    },
    {
      "cell_type": "code",
      "source": [],
      "metadata": {
        "id": "3PQniVD44Qxa"
      },
      "id": "3PQniVD44Qxa",
      "execution_count": 22,
      "outputs": []
    }
  ],
  "metadata": {
    "colab": {
      "provenance": []
    },
    "kernelspec": {
      "display_name": "Python 3.9.2 64-bit",
      "language": "python",
      "name": "python3"
    },
    "language_info": {
      "codemirror_mode": {
        "name": "ipython",
        "version": 3
      },
      "file_extension": ".py",
      "mimetype": "text/x-python",
      "name": "python",
      "nbconvert_exporter": "python",
      "pygments_lexer": "ipython3",
      "version": "3.9.2"
    },
    "vscode": {
      "interpreter": {
        "hash": "397704579725e15f5c7cb49fe5f0341eb7531c82d19f2c29d197e8b64ab5776b"
      }
    }
  },
  "nbformat": 4,
  "nbformat_minor": 5
}