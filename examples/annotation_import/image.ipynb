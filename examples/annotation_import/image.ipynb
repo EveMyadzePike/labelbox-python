{
  "nbformat": 4,
  "nbformat_minor": 5,
  "metadata": {},
  "cells": [
    {
      "metadata": {},
      "source": [
        "<td>\n",
        "   <a target=\"_blank\" href=\"https://labelbox.com\" ><img src=\"https://labelbox.com/blog/content/images/2021/02/logo-v4.svg\" width=256/></a>\n",
        "</td>"
      ],
      "cell_type": "markdown"
    },
    {
      "metadata": {},
      "source": [
        "<td>\n",
        "<a href=\"https://colab.research.google.com/github/Labelbox/labelbox-python/blob/master/examples/annotation_import/image.ipynb\" target=\"_blank\"><img\n",
        "src=\"https://colab.research.google.com/assets/colab-badge.svg\" alt=\"Open In Colab\"></a>\n",
        "</td>\n",
        "\n",
        "\n",
        "\n",
        "\n",
        "<td>\n",
        "<a href=\"https://github.com/Labelbox/labelbox-python/tree/master/examples/annotation_import/image.ipynb\" target=\"_blank\"><img\n",
        "src=\"https://img.shields.io/badge/GitHub-100000?logo=github&logoColor=white\" alt=\"GitHub\"></a>\n",
        "</td>"
      ],
      "cell_type": "markdown"
    },
    {
      "metadata": {},
      "source": [
        "# Image Annotation Import\n",
        "This notebook will provide examples of each supported annotation type for image assets. \n",
        "\n",
        "### [Model-assisted labeling (MAL)](https://docs.labelbox.com/v4/docs/model-assisted-labeling)\n",
        "* This workflow allows you to import computer-generated predictions (or simply annotations created outside of Labelbox) as pre-labels on an asset. \n",
        "The imported annotations will be pre-populated in the labeling editor. However, in order to convert the pre-labels to real annotations, a human labeler will still need to open the Data Row in the Editor and submit it. This functionality is designed to speed up human labeling.\n",
        "\n",
        "\n",
        "### [Import ground truth](https://docs.labelbox.com/v4/docs/import-ground-truth)\n",
        "* This  workflow functionality allows you to bulk import your ground truth annotations from an external or third-party labeling system into Labelbox Annotate. Using the label import API to import external data is a useful way to consolidate and migrate all annotations into Labelbox as a single source of truth.\n",
        "\n",
        "\n",
        "### Python Annotation types vs NDJSON\n",
        "**Python Annotation Type (recommended)**\n",
        "- Provides a seamless transition between third-party platforms, machine learning pipelines, and Labelbox.\n",
        "\n",
        "- Allows you to build annotations locally with local file paths, numpy arrays, or URLs\n",
        "\n",
        "- Easily convert Python Annotation Type format to NDJSON format to quickly import annotations to Labelbox\n",
        "\n",
        "- It supports one-level nested classification (free text / radio / checklist) under the object or classification annotation.\n",
        "\n",
        "**NDJSON**\n",
        "- Skip formatting annotation payload in the Python Annotation Types format just to convert back to NDJSON\n",
        "\n",
        "- Ability to create the payload in the NDJSON import format directly\n",
        "\n",
        "- It supports any levels of nested classification (free text / radio / checklist) under the object or classification annotation."
      ],
      "cell_type": "markdown"
    },
    {
      "metadata": {},
      "source": [
        "## Imports"
      ],
      "cell_type": "markdown"
    },
    {
      "metadata": {},
      "source": [
        "!pip install -q 'labelbox[data]'"
      ],
      "cell_type": "code",
      "outputs": [
        {
          "name": "stderr",
          "output_type": "stream",
          "text": [
            "374.53s - pydevd: Sending message related to process being replaced timed-out after 5 seconds\n"
          ]
        }
      ],
      "execution_count": null
    },
    {
      "metadata": {},
      "source": [
        "import labelbox as lb\n",
        "import labelbox.types as lb_types\n",
        "import uuid\n",
        "import numpy as np\n"
      ],
      "cell_type": "code",
      "outputs": [],
      "execution_count": null
    },
    {
      "metadata": {},
      "source": [
        "## Replace with your API KEY\n",
        "\n",
        "Guides on [Create an API key](https://docs.labelbox.com/docs/create-an-api-key)"
      ],
      "cell_type": "markdown"
    },
    {
      "metadata": {},
      "source": [
        "API_KEY = \"\"\n",
        "client = lb.Client(API_KEY)"
      ],
      "cell_type": "code",
      "outputs": [],
      "execution_count": null
    },
    {
      "metadata": {},
      "source": [
        "## Supported Annotations for Image\n"
      ],
      "cell_type": "markdown"
    },
    {
      "metadata": {},
      "source": [
        "### Supported Annotation Types"
      ],
      "cell_type": "markdown"
    },
    {
      "metadata": {},
      "source": [
        "########### Radio Classification ###########\n",
        "\n",
        "# Python annotation\n",
        "radio_annotation = lb_types.ClassificationAnnotation(\n",
        "    name=\"radio_question\", \n",
        "    value=lb_types.Radio(answer = lb_types.ClassificationAnswer(name = \"second_radio_answer\"))\n",
        ")\n",
        "\n",
        "\n",
        "# NDJSON\n",
        "radio_annotation_ndjson = {\n",
        "  'name': 'radio_question',\n",
        "  'answer': {'name': 'second_radio_answer'}\n",
        "} "
      ],
      "cell_type": "code",
      "outputs": [],
      "execution_count": null
    },
    {
      "metadata": {},
      "source": [
        "########## Nested Radio and Checklist Classification is only supported with NDJSON tools##########\n",
        "\n",
        "# NDJSON \n",
        "nested_radio_annotation_ndjson = {\n",
        "  \"name\": \"nested_radio_question\",\n",
        "  \"answer\": {\"name\": \"first_radio_answer\"},\n",
        "  \"classifications\" : [\n",
        "   {'name': 'sub_radio_question', 'answer': {'name': 'first_sub_radio_answer'}}\n",
        "   ]\n",
        "}\n",
        "\n",
        "\n",
        "nested_checklist_annotation_ndjson = {\n",
        "  \"name\": \"nested_checklist_question\",\n",
        "  \"answer\": [{\n",
        "      \"name\": \"first_checklist_answer\", \n",
        "      \"classifications\" : [\n",
        "        {\n",
        "          \"name\": \"sub_checklist_question\", \n",
        "          \"answer\": {\"name\": \"first_sub_checklist_answer\"}\n",
        "        }          \n",
        "      ]         \n",
        "  }]\n",
        "}\n"
      ],
      "cell_type": "code",
      "outputs": [],
      "execution_count": null
    },
    {
      "metadata": {},
      "source": [
        "############ Checklist question ############\n",
        "\n",
        "# Python Annotations\n",
        "# Python Annotations\n",
        "checklist_annotation= lb_types.ClassificationAnnotation(\n",
        "  name=\"checklist_question\", # must match your ontology feature's name\n",
        "  value=lb_types.Checklist(\n",
        "      answer = [\n",
        "        lb_types.ClassificationAnswer(\n",
        "            name = \"first_checklist_answer\"\n",
        "        ), \n",
        "        lb_types.ClassificationAnswer(\n",
        "            name = \"second_checklist_answer\"\n",
        "        )\n",
        "      ]\n",
        "    )\n",
        " )\n",
        "\n",
        "# NDJSON\n",
        "checklist_annotation_ndjson = {\n",
        "  'name': 'checklist_question',\n",
        "  'answer': [\n",
        "    {'name': 'first_checklist_answer'},\n",
        "    {'name': 'second_checklist_answer'}\n",
        "  ]\n",
        "}"
      ],
      "cell_type": "code",
      "outputs": [],
      "execution_count": null
    },
    {
      "metadata": {},
      "source": [
        "############# Free text Classification #############\n",
        "\n",
        "# Python annotation\n",
        "text_annotation = lb_types.ClassificationAnnotation(\n",
        "  name=\"free_text\",  # must match your ontology feature's name\n",
        "  value=lb_types.Text(answer=\"sample text\")\n",
        ")\n",
        "\n",
        "\n",
        "# NDJSON\n",
        "text_annotation_ndjson = {\n",
        "  'name': 'free_text',\n",
        "  'answer': 'sample text',\n",
        "}"
      ],
      "cell_type": "code",
      "outputs": [],
      "execution_count": null
    },
    {
      "metadata": {},
      "source": [
        "####### Bounding box #######\n",
        "\n",
        "\n",
        "# Python Annotation \n",
        "bbox_annotation = lb_types.ObjectAnnotation(\n",
        "  name = \"bounding_box\",  # must match your ontology feature's name\n",
        "  value = lb_types.Rectangle(\n",
        "        start=lb_types.Point(x=977, y=1690), # Top left\n",
        "        end=lb_types.Point(x=330, y=225), # Bottom right\n",
        "    )\n",
        ")\n",
        "\n",
        "#NDJSON \n",
        "bbox_annotation_ndjson = {\n",
        "  'name': 'bounding_box',\n",
        "  'bbox': {\n",
        "          \"top\": 977,\n",
        "          \"left\": 1690,\n",
        "          \"height\": 330,\n",
        "          \"width\": 225\n",
        "      }\n",
        "}\n"
      ],
      "cell_type": "code",
      "outputs": [],
      "execution_count": null
    },
    {
      "metadata": {},
      "source": [
        "# Bounding box with nested classification\n",
        "bbox_with_radio_subclass_annotation = lb_types.ObjectAnnotation(\n",
        "    name=\"bbox_with_radio_subclass\",\n",
        "    value=lb_types.Rectangle(\n",
        "        start=lb_types.Point(x=933, y=541), # Top left\n",
        "        end=lb_types.Point(x=191, y=330), # Bottom right\n",
        "    ),\n",
        "    classifications=[\n",
        "    \tlb_types.ClassificationAnnotation(\n",
        "        \tname=\"sub_radio_question\",\n",
        "      \t\tvalue=lb_types.Radio(answer=lb_types.ClassificationAnswer(name=\"first_sub_radio_answer\"))\n",
        "    )\n",
        "  ]\n",
        ")\n",
        "\n",
        "\n",
        "## NDJSON\n",
        "bbox_with_radio_subclass_ndjson = {\n",
        "    \"name\": \"bbox_with_radio_subclass\", \n",
        "    \"classifications\": [{\n",
        "        \"name\": \"sub_radio_question\",\n",
        "        \"answer\": \n",
        "            { \"name\":\"first_sub_radio_answer\" }\n",
        "         \n",
        "    }],\n",
        "    \"bbox\": {\n",
        "          \"top\": 933,\n",
        "          \"left\": 541,\n",
        "          \"height\": 191,\n",
        "          \"width\": 330\n",
        "        }\n",
        "}"
      ],
      "cell_type": "code",
      "outputs": [],
      "execution_count": null
    },
    {
      "metadata": {},
      "source": [
        "########## Polygon ##########\n",
        "# Python AnotationTypes \n",
        "polygon_annotation = lb_types.ObjectAnnotation(\n",
        "  name = \"polygon\",  # must match your ontology feature's name \n",
        "  value=lb_types.Polygon( # Coordinates for the verticies of your polygon\n",
        "        points=[lb_types.Point(x=1489.581,y=183.934), lb_types.Point(x=2278.306,y=256.885), lb_types.Point(x=2428.197,y=200.437), lb_types.Point(x=2560.0,y=335.419),\n",
        "                lb_types.Point(x=2557.386,y=503.165), lb_types.Point(x=2320.596,y=503.103), lb_types.Point(x=2156.083, y=628.943), lb_types.Point(x=2161.111,y=785.519),\n",
        "                lb_types.Point(x=2002.115, y=894.647), lb_types.Point(x=1838.456,y=877.874), lb_types.Point(x=1436.53,y=874.636), lb_types.Point(x=1411.403,y=758.579),\n",
        "                lb_types.Point(x=1353.853,y=751.74), lb_types.Point(x=1345.264, y=453.461), lb_types.Point(x=1426.011,y=421.129)]\n",
        "    ),\n",
        ")\n",
        "\n",
        "\n",
        "\n",
        "# NDJSON\n",
        "\n",
        "polygon_annotation_ndjson = {\n",
        "  'name': 'polygon',\n",
        "  'polygon': [\n",
        "    {'x': 1489.581, 'y': 183.934},\n",
        "    {'x': 2278.306, 'y': 256.885},\n",
        "    {'x': 2428.197, 'y': 200.437},\n",
        "    {'x': 2560.0, 'y': 335.419},\n",
        "    {'x': 2557.386, 'y': 503.165},\n",
        "    {'x': 2320.596, 'y': 503.103},\n",
        "    {'x': 2156.083, 'y': 628.943},\n",
        "    {'x': 2161.111, 'y': 785.519},\n",
        "    {'x': 2002.115, 'y': 894.647},\n",
        "    {'x': 1838.456, 'y': 877.874},\n",
        "    {'x': 1436.53, 'y': 874.636},\n",
        "    {'x': 1411.403, 'y': 758.579},\n",
        "    {'x': 1353.853, 'y': 751.74},\n",
        "    {'x': 1345.264, 'y': 453.461},\n",
        "    {'x': 1426.011, 'y': 421.129},\n",
        "    {'x': 1489.581, 'y': 183.934}\n",
        "  ]\n",
        "}"
      ],
      "cell_type": "code",
      "outputs": [],
      "execution_count": null
    },
    {
      "metadata": {},
      "source": [
        "######### Mask #########\n",
        "\n",
        "\n",
        "# Python \n",
        "# Identifying what values in the numpy array correspond to the mask annotation\n",
        "color = (0, 0, 0)\n",
        "\n",
        "# convert a polygon to mask\n",
        "im_height, im_width = 100,100 #need to provide the height and width of image.\n",
        "mask_data = lb_types.MaskData(arr=\n",
        "                     polygon_annotation.value.draw(height=im_height,width=im_width,color=color))\n",
        "\n",
        "# convert a 2D array to 3D array\n",
        "arr_2d = np.zeros((100,100), dtype='uint8')\n",
        "mask_data = lb_types.MaskData.from_2D_arr(arr_2d)\n",
        "\n",
        "# a 3D array where 3rd axis is RGB values.\n",
        "mask_data = lb_types.MaskData(arr= np.zeros([400,450,3],dtype='uint8'))\n",
        "\n",
        "mask_annotation = lb_types.ObjectAnnotation(\n",
        "  name = \"mask\", # must match your ontology feature's name\n",
        "  value=lb_types.Mask(mask=mask_data, color=color),\n",
        ")\n",
        "\n",
        "\n",
        "# NDJSON\n",
        "mask_annotation_ndjson = {\n",
        "  'name': 'mask',\n",
        "  'classifications': [],\n",
        "  'mask': {'instanceURI': 'https://storage.labelbox.com/cjhfn5y6s0pk507024nz1ocys%2F1d60856c-59b7-3060-2754-83f7e93e0d01-1?Expires=1666901963361&KeyName=labelbox-assets-key-3&Signature=t-2s2DB4YjFuWEFak0wxYqfBfZA',\n",
        "  'colorRGB': (0, 0, 0)}\n",
        "}\n",
        "\n"
      ],
      "cell_type": "code",
      "outputs": [],
      "execution_count": null
    },
    {
      "metadata": {},
      "source": [
        "######## Point Annotation ########\n",
        "\n",
        "# Python Annotation\n",
        "point_annotation = lb_types.ObjectAnnotation(\n",
        "  name = \"point\",  # must match your ontology feature's name\n",
        "  value = lb_types.Point(x=1166.606, y=1441.768),\n",
        ")\n",
        "\n",
        "# NDJSON\n",
        "point_annotation_ndjson = {\n",
        "  'name': 'point',\n",
        "  'classifications': [],\n",
        "  'point': {'x': 1166.606, 'y': 1441.768}\n",
        "}"
      ],
      "cell_type": "code",
      "outputs": [],
      "execution_count": null
    },
    {
      "metadata": {},
      "source": [
        "###### Polygon ######\n",
        "\n",
        "\n",
        "# Python Annotation \n",
        "\n",
        "polyline_annotation = lb_types.ObjectAnnotation(\n",
        "  name = \"polyline\", # must match your ontology feature's name\n",
        "  value=lb_types.Line( # Coordinates for the keypoints in your polyline\n",
        "        points=[lb_types.Point(x=2534.353, y=249.471), lb_types.Point(x=2429.492, y=182.092), lb_types.Point(x=2294.322, y=221.962), lb_types.Point(x=2224.491, y=180.463), lb_types.Point(x=2136.123, y=204.716),\n",
        "                lb_types.Point(x=1712.247, y=173.949), lb_types.Point(x=1703.838, y=84.438), lb_types.Point(x=1579.772, y=82.61), lb_types.Point(x=1583.442, y=167.552),\n",
        "                lb_types.Point(x=1478.869, y=164.903), lb_types.Point(x=1418.941, y=318.149), lb_types.Point(x=1243.128, y=400.815), lb_types.Point(x=1022.067, y=319.007),\n",
        "                lb_types.Point(x=892.367, y=379.216), lb_types.Point(x=670.273, y=364.408), lb_types.Point(x=613.114, y=288.16), lb_types.Point(x=377.559, y=238.251),\n",
        "                lb_types.Point(x=368.087, y=185.064), lb_types.Point(x=246.557, y=167.286), lb_types.Point(x=236.648, y=285.61), lb_types.Point(x=90.929, y=326.412)]\n",
        "    ),\n",
        ")\n",
        "\n",
        "# NDJSON\n",
        "polyline_annotation_ndjson = {\n",
        "  'name': 'polyline',\n",
        "  'classifications': [],\n",
        "  'line': [\n",
        "    {'x': 2534.353, 'y': 249.471},\n",
        "    {'x': 2429.492, 'y': 182.092},\n",
        "    {'x': 2294.322, 'y': 221.962},\n",
        "    {'x': 2224.491, 'y': 180.463},\n",
        "    {'x': 2136.123, 'y': 204.716},\n",
        "    {'x': 1712.247, 'y': 173.949},\n",
        "    {'x': 1703.838, 'y': 84.438},\n",
        "    {'x': 1579.772, 'y': 82.61},\n",
        "    {'x': 1583.442, 'y': 167.552},\n",
        "    {'x': 1478.869, 'y': 164.903},\n",
        "    {'x': 1418.941, 'y': 318.149},\n",
        "    {'x': 1243.128, 'y': 400.815},\n",
        "    {'x': 1022.067, 'y': 319.007},\n",
        "    {'x': 892.367, 'y': 379.216},\n",
        "    {'x': 670.273, 'y': 364.408},\n",
        "    {'x': 613.114, 'y': 288.16},\n",
        "    {'x': 377.559, 'y': 238.251},\n",
        "    {'x': 368.087, 'y': 185.064},\n",
        "    {'x': 246.557, 'y': 167.286},\n",
        "    {'x': 236.648, 'y': 285.61},\n",
        "    {'x': 90.929, 'y': 326.412}\n",
        "  ]\n",
        "}\n"
      ],
      "cell_type": "code",
      "outputs": [],
      "execution_count": null
    },
    {
      "metadata": {},
      "source": [
        "# Upload Annotations - putting it all together\n"
      ],
      "cell_type": "markdown"
    },
    {
      "metadata": {},
      "source": [
        "## Step 1: Import data rows into Catalog\n",
        "\n"
      ],
      "cell_type": "markdown"
    },
    {
      "metadata": {},
      "source": [
        "# send a sample image as batch to the project\n",
        "\n",
        "url =\"https://storage.googleapis.com/labelbox-datasets/image_sample_data/2560px-Kitano_Street_Kobe01s5s4110.jpeg\"\n",
        "global_key = \"2560px-Kitano_Street_Kobe01s5s4110.jpeg\" ## if a data row with the same global key exists the data row creation will failed.\n",
        "test_img_url = {\n",
        "    \"row_data\": url,\n",
        "    \"global_key\": str(uuid.uuid4())\n",
        "}\n",
        "  \n",
        "\n",
        "dataset = client.create_dataset(name=\"demo_dataset_img\")\n",
        "data_row = dataset.create_data_row(test_img_url)\n",
        "print(data_row)\n",
        "\n",
        "len(test_img_url)"
      ],
      "cell_type": "code",
      "outputs": [
        {
          "name": "stdout",
          "output_type": "stream",
          "text": [
            "<DataRow {\n",
            "    \"created_at\": \"2023-03-15 15:39:27+00:00\",\n",
            "    \"external_id\": null,\n",
            "    \"global_key\": \"5e71a807-0091-42a9-ba9b-1a29ed56b218\",\n",
            "    \"media_attributes\": {},\n",
            "    \"metadata\": [],\n",
            "    \"metadata_fields\": [],\n",
            "    \"row_data\": \"https://storage.googleapis.com/labelbox-datasets/image_sample_data/2560px-Kitano_Street_Kobe01s5s4110.jpeg\",\n",
            "    \"uid\": \"clf9ulhmc00pf07zu60xffaoz\",\n",
            "    \"updated_at\": \"2023-03-15 15:39:27+00:00\"\n",
            "}>\n"
          ]
        },
        {
          "data": {
            "text/plain": [
              "2"
            ]
          },
          "execution_count": 40,
          "metadata": {},
          "output_type": "execute_result"
        }
      ],
      "execution_count": null
    },
    {
      "metadata": {},
      "source": [
        "## Step 2: Create/select an Ontology\n",
        "Your project should have the correct ontology setup with all the tools and classifications supported for your annotations, and the tool names and classification instructions should match the `name`/`instructions` fields in your annotations to ensure the correct feature schemas are matched.\n",
        "\n",
        "For example, when we create the bounding box annotation above, we provided the `name` as `polyline`. Now, when we setup our ontology, we must ensure that the name of my bounding box tool is also `polyline`. The same alignment must hold true for the other tools and classifications we create in our ontology.\n",
        "\n",
        "\n"
      ],
      "cell_type": "markdown"
    },
    {
      "metadata": {},
      "source": [
        "ontology_builder = lb.OntologyBuilder(\n",
        "  classifications=[ # List of Classification objects\n",
        "    lb.Classification( # Radio classification given the name \"text\" with two options: \"first_radio_answer\" and \"second_radio_answer\"\n",
        "      class_type=lb.Classification.Type.RADIO,\n",
        "      name=\"radio_question\", \n",
        "      options=[\n",
        "        lb.Option(value=\"first_radio_answer\"),\n",
        "        lb.Option(value=\"second_radio_answer\")\n",
        "      ]\n",
        "    ),\n",
        "    lb.Classification( # Checklist classification given the name \"text\" with two options: \"first_checklist_answer\" and \"second_checklist_answer\"\n",
        "      class_type=lb.Classification.Type.CHECKLIST,\n",
        "      name=\"checklist_question\", \n",
        "      options=[\n",
        "        lb.Option(value=\"first_checklist_answer\"),\n",
        "        lb.Option(value=\"second_checklist_answer\")\n",
        "      ]\n",
        "    ), \n",
        "    lb.Classification( # Text classification given the name \"text\"\n",
        "      class_type=lb.Classification.Type.TEXT,\n",
        "      name=\"free_text\"\n",
        "    ),\n",
        "    lb.Classification(\n",
        "        class_type=lb.Classification.Type.RADIO,\n",
        "        name=\"nested_radio_question\",\n",
        "        options=[\n",
        "            lb.Option(\"first_radio_answer\",\n",
        "                options=[\n",
        "                    lb.Classification(\n",
        "                        class_type=lb.Classification.Type.RADIO,\n",
        "                        name=\"sub_radio_question\",\n",
        "                        options=[lb.Option(\"first_sub_radio_answer\")]\n",
        "                    )\n",
        "                ]\n",
        "            )\n",
        "          ] \n",
        "        ),\n",
        "    lb.Classification(\n",
        "      class_type=lb.Classification.Type.CHECKLIST,\n",
        "      name=\"nested_checklist_question\",\n",
        "      options=[\n",
        "          lb.Option(\"first_checklist_answer\",\n",
        "            options=[\n",
        "              lb.Classification(\n",
        "                  class_type=lb.Classification.Type.CHECKLIST,\n",
        "                  name=\"sub_checklist_question\", \n",
        "                  options=[lb.Option(\"first_sub_checklist_answer\")]\n",
        "              )\n",
        "          ]\n",
        "        )\n",
        "      ]\n",
        "    ),      \n",
        "  ],\n",
        "  tools=[ # List of Tool objects\n",
        "    lb.Tool( # Bounding Box tool given the name \"box\"\n",
        "      tool=lb.Tool.Type.BBOX,\n",
        "      name=\"bounding_box\"), \n",
        "    lb.Tool( # Bounding Box tool given the name \"box\"\n",
        "      tool=lb.Tool.Type.BBOX,\n",
        "      name=\"bbox_with_radio_subclass\",\n",
        "      classifications=[\n",
        "            lb.Classification(\n",
        "                class_type=lb.Classification.Type.RADIO,\n",
        "                name=\"sub_radio_question\",\n",
        "                options=[\n",
        "                  lb.Option(value=\"first_sub_radio_answer\")\n",
        "                ]\n",
        "              ),\n",
        "        ]\n",
        "      ), \n",
        "    lb.Tool( # Polygon tool given the name \"polygon\"\n",
        "      tool=lb.Tool.Type.POLYGON,\n",
        "      name=\"polygon\"),\n",
        "    lb.Tool( # Segmentation mask tool given the name \"mask\"\n",
        "      tool=lb.Tool.Type.SEGMENTATION,\n",
        "      name=\"mask\"),\n",
        " \t  lb.Tool( # Point tool given the name \"point\"\n",
        "      tool=lb.Tool.Type.POINT,\n",
        "      name=\"point\"), \n",
        "    lb.Tool( # Polyline tool given the name \"line\"\n",
        "      tool=lb.Tool.Type.LINE,\n",
        "      name=\"polyline\"),\n",
        "    lb.Tool( # Relationship tool given the name \"relationship\"\n",
        "      tool=lb.Tool.Type.RELATIONSHIP,\n",
        "      name=\"relationship\")]\n",
        ")\n",
        "\n",
        "ontology = client.create_ontology(\"Image Prediction Import Demo\", ontology_builder.asdict(), media_type=lb.MediaType.Image)"
      ],
      "cell_type": "code",
      "outputs": [],
      "execution_count": null
    },
    {
      "metadata": {},
      "source": [
        "## Step 3: Create a labeling project\n",
        "\n",
        "Connect the ontology to the labeling project"
      ],
      "cell_type": "markdown"
    },
    {
      "metadata": {},
      "source": [
        "\n",
        "# create a project and configure the ontology \n",
        "project = client.create_project(\n",
        "    name=\"annotations_import_project_demo\",\n",
        "    media_type=lb.MediaType.Image,\n",
        "    queue_mode=lb.QueueMode.Batch)\n",
        "\n",
        "project.setup_editor(ontology) # Connect your ontology and editor to your MAL project"
      ],
      "cell_type": "code",
      "outputs": [],
      "execution_count": null
    },
    {
      "metadata": {},
      "source": [
        "## Step 4: Send a batch of data rows to the project\n"
      ],
      "cell_type": "markdown"
    },
    {
      "metadata": {},
      "source": [
        "batch = project.create_batch(\n",
        "    \"Initial batch2\", # name of the batch\n",
        "    global_keys=[data_row.global_key], # DataRow objects, a list of global keys or data row ids are supported\n",
        "    priority=1 # priority between 1-5\n",
        ")\n",
        "print(\"Batch\", batch)"
      ],
      "cell_type": "code",
      "outputs": [
        {
          "name": "stdout",
          "output_type": "stream",
          "text": [
            "Batch <Batch {\n",
            "    \"consensus_settings_json\": \"{\\\"numberOfLabels\\\":1,\\\"coveragePercentage\\\":0}\",\n",
            "    \"created_at\": \"2023-03-15 15:39:33+00:00\",\n",
            "    \"name\": \"Initial batch2\",\n",
            "    \"size\": 0,\n",
            "    \"uid\": \"95796a50-c347-11ed-b1ab-87f3b04cc22b\",\n",
            "    \"updated_at\": \"2023-03-15 15:39:33+00:00\"\n",
            "}>\n"
          ]
        }
      ],
      "execution_count": null
    },
    {
      "metadata": {},
      "source": [
        "## Step 5: Create the annotations payload\n",
        "\n",
        "Create the annotations payload using the snippets of code above\n",
        "\n",
        "Labelbox support two formats for the annotations payload: NDJSON and Python Annotation types. Both are described below. If you are using Python Annotation types, compose your annotations into Labels attached to the data rows."
      ],
      "cell_type": "markdown"
    },
    {
      "metadata": {},
      "source": [
        "### Python Annotations\n",
        "\n",
        "Here we create the complete label ndjson payload of annotations only using python annotation format. There is one annotation for each reference to an annotation that we created."
      ],
      "cell_type": "markdown"
    },
    {
      "metadata": {},
      "source": [
        "# create a Label\n",
        "\n",
        "label = []\n",
        "for data_row in dataset.export_data_rows():\n",
        "  label.append(lb_types.Label(\n",
        "      data=lb_types.ImageData(\n",
        "          global_key=data_row.global_key),\n",
        "      annotations = [\n",
        "          checklist_annotation, \n",
        "          text_annotation,\n",
        "          bbox_annotation, \n",
        "          bbox_with_radio_subclass_annotation, \n",
        "          polygon_annotation, \n",
        "          mask_annotation, \n",
        "          point_annotation, \n",
        "          polyline_annotation\n",
        "      ]\n",
        "  )\n",
        ")"
      ],
      "cell_type": "code",
      "outputs": [],
      "execution_count": null
    },
    {
      "metadata": {},
      "source": [
        "from labelbox.data.serialization import NDJsonConverter\n",
        "\n",
        "list(NDJsonConverter.serialize(label))"
      ],
      "cell_type": "code",
      "outputs": [
        {
          "data": {
            "text/plain": [
              "[{'name': 'checklist_question',\n",
              "  'uuid': 'c2c15ad4-7a20-4777-8206-c366d1f72fc8',\n",
              "  'dataRow': {'globalKey': '5e71a807-0091-42a9-ba9b-1a29ed56b218'},\n",
              "  'answer': [{'name': 'first_checklist_answer'},\n",
              "   {'name': 'second_checklist_answer'}]},\n",
              " {'name': 'free_text',\n",
              "  'answer': 'sample text',\n",
              "  'uuid': 'c971697f-bed6-45f4-b3b1-87844a0e69dc',\n",
              "  'dataRow': {'globalKey': '5e71a807-0091-42a9-ba9b-1a29ed56b218'}},\n",
              " {'uuid': '05d90f15-1782-46ee-a0db-b7bb00284099',\n",
              "  'dataRow': {'globalKey': '5e71a807-0091-42a9-ba9b-1a29ed56b218'},\n",
              "  'name': 'bounding_box',\n",
              "  'classifications': [],\n",
              "  'bbox': {'top': 1690.0, 'left': 977.0, 'height': -1465.0, 'width': -647.0}},\n",
              " {'uuid': 'a5efd0aa-6137-41a4-af5b-1dcdccd4b513',\n",
              "  'dataRow': {'globalKey': '5e71a807-0091-42a9-ba9b-1a29ed56b218'},\n",
              "  'name': 'bbox_with_radio_subclass',\n",
              "  'classifications': [{'name': 'sub_radio_question',\n",
              "    'answer': {'name': 'first_sub_radio_answer'}}],\n",
              "  'bbox': {'top': 541.0, 'left': 933.0, 'height': -211.0, 'width': -742.0}},\n",
              " {'uuid': '06b192ac-e543-47f0-bb19-e11d21d64e58',\n",
              "  'dataRow': {'globalKey': '5e71a807-0091-42a9-ba9b-1a29ed56b218'},\n",
              "  'name': 'polygon',\n",
              "  'classifications': [],\n",
              "  'polygon': [{'x': 1489.581, 'y': 183.934},\n",
              "   {'x': 2278.306, 'y': 256.885},\n",
              "   {'x': 2428.197, 'y': 200.437},\n",
              "   {'x': 2560.0, 'y': 335.419},\n",
              "   {'x': 2557.386, 'y': 503.165},\n",
              "   {'x': 2320.596, 'y': 503.103},\n",
              "   {'x': 2156.083, 'y': 628.943},\n",
              "   {'x': 2161.111, 'y': 785.519},\n",
              "   {'x': 2002.115, 'y': 894.647},\n",
              "   {'x': 1838.456, 'y': 877.874},\n",
              "   {'x': 1436.53, 'y': 874.636},\n",
              "   {'x': 1411.403, 'y': 758.579},\n",
              "   {'x': 1353.853, 'y': 751.74},\n",
              "   {'x': 1345.264, 'y': 453.461},\n",
              "   {'x': 1426.011, 'y': 421.129},\n",
              "   {'x': 1489.581, 'y': 183.934}]},\n",
              " {'uuid': '5f59bed3-efd9-46a0-8104-303038ca9e3b',\n",
              "  'dataRow': {'globalKey': '5e71a807-0091-42a9-ba9b-1a29ed56b218'},\n",
              "  'name': 'mask',\n",
              "  'classifications': [],\n",
              "  'mask': {'png': 'iVBORw0KGgoAAAANSUhEUgAAAcIAAAGQCAAAAAAYNT9lAAADoUlEQVR4nO3RQQkAMAzAwHX+RVfEHiNwpyCQmUPb/R3AKwvzLMyzMM/CPAvzLMyzMM/CPAvzLMyzMM/CPAvzLMyzMM/CPAvzLMyzMM/CPAvzLMyzMM/CPAvzLMyzMM/CPAvzLMyzMM/CPAvzLMyzMM/CPAvzLMyzMM/CPAvzLMyzMM/CPAvzLMyzMM/CPAvzLMyzMM/CPAvzLMyzMM/CPAvzLMyzMM/CPAvzLMyzMM/CPAvzLMyzMM/CPAvzLMyzMM/CPAvzLMyzMM/CPAvzLMyzMM/CPAvzLMyzMM/CPAvzLMyzMM/CPAvzLMyzMM/CPAvzLMyzMM/CPAvzLMyzMM/CPAvzLMyzMM/CPAvzLMyzMM/CPAvzLMyzMM/CPAvzLMyzMM/CPAvzLMyzMM/CPAvzLMyzMM/CPAvzLMyzMM/CPAvzLMyzMM/CPAvzLMyzMM/CPAvzLMyzMM/CPAvzLMyzMM/CPAvzLMyzMM/CPAvzLMyzMM/CPAvzLMyzMM/CPAvzLMyzMM/CPAvzLMyzMM/CPAvzLMyzMM/CPAvzLMyzMM/CPAvzLMyzMM/CPAvzLMyzMM/CPAvzLMyzMM/CPAvzLMyzMM/CPAvzLMyzMM/CPAvzLMyzMM/CPAvzLMyzMM/CPAvzLMyzMM/CPAvzLMyzMM/CPAvzLMyzMM/CPAvzLMyzMM/CPAvzLMyzMM/CPAvzLMyzMM/CPAvzLMyzMM/CPAvzLMyzMM/CPAvzLMyzMM/CPAvzLMyzMM/CPAvzLMyzMM/CPAvzLMyzMM/CPAvzLMyzMM/CPAvzLMyzMM/CPAvzLMyzMM/CPAvzLMyzMM/CPAvzLMyzMM/CPAvzLMyzMM/CPAvzLMyzMM/CPAvzLMyzMM/CPAvzLMyzMM/CPAvzLMyzMM/CPAvzLMyzMM/CPAvzLMyzMM/CPAvzLMyzMM/CPAvzLMyzMM/CPAvzLMyzMM/CPAvzLMyzMM/CPAvzLMyzMM/CPAvzLMyzMM/CPAvzLMyzMM/CPAvzLMyzMM/CPAvzLMyzMM/CPAvzLMyzMM/CPAvzLMyzMM/CPAvzLMyzMM/CPAvzLMyzMM/CPAvzLMyzMM/CPAvzLMyzMM/CPAvzLMyzMM/CPAvzLMyzMM/CPAvzLMyzMM/CPAvzLMyzMM/CPAvzLMyzMM/CPAvzLMyzMM/CPAvzLMyzMM/CPAvzLMyzMM/CPAvzLMyzMM/CPAvzLMyzMM/CPAvzLMxb1S0DIVmQPpcAAAAASUVORK5CYII='}},\n",
              " {'uuid': '1d2d506f-2b8b-4b54-aa38-20739e19e58f',\n",
              "  'dataRow': {'globalKey': '5e71a807-0091-42a9-ba9b-1a29ed56b218'},\n",
              "  'name': 'point',\n",
              "  'classifications': [],\n",
              "  'point': {'x': 1166.606, 'y': 1441.768}},\n",
              " {'uuid': '08ab9d79-e5e8-4a85-9fd9-6b7b26af6e01',\n",
              "  'dataRow': {'globalKey': '5e71a807-0091-42a9-ba9b-1a29ed56b218'},\n",
              "  'name': 'polyline',\n",
              "  'classifications': [],\n",
              "  'line': [{'x': 2534.353, 'y': 249.471},\n",
              "   {'x': 2429.492, 'y': 182.092},\n",
              "   {'x': 2294.322, 'y': 221.962},\n",
              "   {'x': 2224.491, 'y': 180.463},\n",
              "   {'x': 2136.123, 'y': 204.716},\n",
              "   {'x': 1712.247, 'y': 173.949},\n",
              "   {'x': 1703.838, 'y': 84.438},\n",
              "   {'x': 1579.772, 'y': 82.61},\n",
              "   {'x': 1583.442, 'y': 167.552},\n",
              "   {'x': 1478.869, 'y': 164.903},\n",
              "   {'x': 1418.941, 'y': 318.149},\n",
              "   {'x': 1243.128, 'y': 400.815},\n",
              "   {'x': 1022.067, 'y': 319.007},\n",
              "   {'x': 892.367, 'y': 379.216},\n",
              "   {'x': 670.273, 'y': 364.408},\n",
              "   {'x': 613.114, 'y': 288.16},\n",
              "   {'x': 377.559, 'y': 238.251},\n",
              "   {'x': 368.087, 'y': 185.064},\n",
              "   {'x': 246.557, 'y': 167.286},\n",
              "   {'x': 236.648, 'y': 285.61},\n",
              "   {'x': 90.929, 'y': 326.412}]}]"
            ]
          },
          "execution_count": 45,
          "metadata": {},
          "output_type": "execute_result"
        }
      ],
      "execution_count": null
    },
    {
      "metadata": {},
      "source": [
        "### NDJSON annotations\n",
        "Here we create the complete label ndjson payload of annotations only using NDJSON format. There is one annotation for each reference to an annotation that we created above."
      ],
      "cell_type": "markdown"
    },
    {
      "metadata": {},
      "source": [
        "label_ndjson_method2 = []\n",
        "for annotation in [radio_annotation_ndjson, \n",
        "              checklist_annotation_ndjson, \n",
        "              text_annotation_ndjson,\n",
        "              bbox_annotation_ndjson, \n",
        "              bbox_with_radio_subclass_ndjson, \n",
        "              polygon_annotation_ndjson, \n",
        "              mask_annotation_ndjson, \n",
        "              point_annotation_ndjson, \n",
        "              polyline_annotation_ndjson,\n",
        "              nested_radio_annotation_ndjson,\n",
        "              nested_checklist_annotation_ndjson \n",
        "\n",
        "              ]:\n",
        "  annotation.update({\n",
        "      'dataRow': {'globalKey': data_row.global_key},\n",
        "  })\n",
        "  label_ndjson_method2.append(annotation)\n"
      ],
      "cell_type": "code",
      "outputs": [],
      "execution_count": null
    },
    {
      "metadata": {},
      "source": [
        "label_ndjson_method2"
      ],
      "cell_type": "code",
      "outputs": [
        {
          "data": {
            "text/plain": [
              "[{'name': 'radio_question',\n",
              "  'answer': {'name': 'second_radio_answer'},\n",
              "  'dataRow': {'globalKey': '5e71a807-0091-42a9-ba9b-1a29ed56b218'}},\n",
              " {'name': 'checklist_question',\n",
              "  'answer': [{'name': 'first_checklist_answer'},\n",
              "   {'name': 'second_checklist_answer'}],\n",
              "  'dataRow': {'globalKey': '5e71a807-0091-42a9-ba9b-1a29ed56b218'}},\n",
              " {'name': 'free_text',\n",
              "  'answer': 'sample text',\n",
              "  'dataRow': {'globalKey': '5e71a807-0091-42a9-ba9b-1a29ed56b218'}},\n",
              " {'name': 'bounding_box',\n",
              "  'bbox': {'top': 977, 'left': 1690, 'height': 330, 'width': 225},\n",
              "  'dataRow': {'globalKey': '5e71a807-0091-42a9-ba9b-1a29ed56b218'}},\n",
              " {'name': 'bbox_with_radio_subclass',\n",
              "  'classifications': [{'name': 'sub_radio_question',\n",
              "    'answer': {'name': 'first_sub_radio_answer'}}],\n",
              "  'bbox': {'top': 933, 'left': 541, 'height': 191, 'width': 330},\n",
              "  'dataRow': {'globalKey': '5e71a807-0091-42a9-ba9b-1a29ed56b218'}},\n",
              " {'name': 'polygon',\n",
              "  'polygon': [{'x': 1489.581, 'y': 183.934},\n",
              "   {'x': 2278.306, 'y': 256.885},\n",
              "   {'x': 2428.197, 'y': 200.437},\n",
              "   {'x': 2560.0, 'y': 335.419},\n",
              "   {'x': 2557.386, 'y': 503.165},\n",
              "   {'x': 2320.596, 'y': 503.103},\n",
              "   {'x': 2156.083, 'y': 628.943},\n",
              "   {'x': 2161.111, 'y': 785.519},\n",
              "   {'x': 2002.115, 'y': 894.647},\n",
              "   {'x': 1838.456, 'y': 877.874},\n",
              "   {'x': 1436.53, 'y': 874.636},\n",
              "   {'x': 1411.403, 'y': 758.579},\n",
              "   {'x': 1353.853, 'y': 751.74},\n",
              "   {'x': 1345.264, 'y': 453.461},\n",
              "   {'x': 1426.011, 'y': 421.129},\n",
              "   {'x': 1489.581, 'y': 183.934}],\n",
              "  'dataRow': {'globalKey': '5e71a807-0091-42a9-ba9b-1a29ed56b218'}},\n",
              " {'name': 'mask',\n",
              "  'classifications': [],\n",
              "  'mask': {'instanceURI': 'https://storage.labelbox.com/cjhfn5y6s0pk507024nz1ocys%2F1d60856c-59b7-3060-2754-83f7e93e0d01-1?Expires=1666901963361&KeyName=labelbox-assets-key-3&Signature=t-2s2DB4YjFuWEFak0wxYqfBfZA',\n",
              "   'colorRGB': (0, 0, 0)},\n",
              "  'dataRow': {'globalKey': '5e71a807-0091-42a9-ba9b-1a29ed56b218'}},\n",
              " {'name': 'point',\n",
              "  'classifications': [],\n",
              "  'point': {'x': 1166.606, 'y': 1441.768},\n",
              "  'dataRow': {'globalKey': '5e71a807-0091-42a9-ba9b-1a29ed56b218'}},\n",
              " {'name': 'polyline',\n",
              "  'classifications': [],\n",
              "  'line': [{'x': 2534.353, 'y': 249.471},\n",
              "   {'x': 2429.492, 'y': 182.092},\n",
              "   {'x': 2294.322, 'y': 221.962},\n",
              "   {'x': 2224.491, 'y': 180.463},\n",
              "   {'x': 2136.123, 'y': 204.716},\n",
              "   {'x': 1712.247, 'y': 173.949},\n",
              "   {'x': 1703.838, 'y': 84.438},\n",
              "   {'x': 1579.772, 'y': 82.61},\n",
              "   {'x': 1583.442, 'y': 167.552},\n",
              "   {'x': 1478.869, 'y': 164.903},\n",
              "   {'x': 1418.941, 'y': 318.149},\n",
              "   {'x': 1243.128, 'y': 400.815},\n",
              "   {'x': 1022.067, 'y': 319.007},\n",
              "   {'x': 892.367, 'y': 379.216},\n",
              "   {'x': 670.273, 'y': 364.408},\n",
              "   {'x': 613.114, 'y': 288.16},\n",
              "   {'x': 377.559, 'y': 238.251},\n",
              "   {'x': 368.087, 'y': 185.064},\n",
              "   {'x': 246.557, 'y': 167.286},\n",
              "   {'x': 236.648, 'y': 285.61},\n",
              "   {'x': 90.929, 'y': 326.412}],\n",
              "  'dataRow': {'globalKey': '5e71a807-0091-42a9-ba9b-1a29ed56b218'}},\n",
              " {'name': 'nested_radio_question',\n",
              "  'answer': {'name': 'first_radio_answer'},\n",
              "  'classifications': [{'name': 'sub_radio_question',\n",
              "    'answer': {'name': 'first_sub_radio_answer'}}],\n",
              "  'dataRow': {'globalKey': '5e71a807-0091-42a9-ba9b-1a29ed56b218'}},\n",
              " {'name': 'nested_checklist_question',\n",
              "  'answer': [{'name': 'first_checklist_answer',\n",
              "    'classifications': [{'name': 'sub_checklist_question',\n",
              "      'answer': {'name': 'first_sub_checklist_answer'}}]}],\n",
              "  'dataRow': {'globalKey': '5e71a807-0091-42a9-ba9b-1a29ed56b218'}}]"
            ]
          },
          "execution_count": 47,
          "metadata": {},
          "output_type": "execute_result"
        }
      ],
      "execution_count": null
    },
    {
      "metadata": {},
      "source": [
        "## Step 6: Upload annotations to a project as pre-labels or complete labels"
      ],
      "cell_type": "markdown"
    },
    {
      "metadata": {},
      "source": [
        "### Model-Assisted Labeling\n",
        "For the purpose of this tutorial only run one of the label_ndjosn  annotation type tools at the time (NDJSON or Annotation types). Delete the previous labels before uploading labels that use the 2nd method (ndjson)\n"
      ],
      "cell_type": "markdown"
    },
    {
      "metadata": {},
      "source": [
        "# Upload MAL label for this data row in project\n",
        "upload_job = lb.MALPredictionImport.create_from_objects(\n",
        "    client = client, \n",
        "    project_id = project.uid, \n",
        "    name=\"mal_job\"+str(uuid.uuid4()), \n",
        "    predictions=label)\n",
        "\n",
        "print(\"Errors:\", upload_job.errors)\n",
        "print(\" \")"
      ],
      "cell_type": "code",
      "outputs": [
        {
          "name": "stdout",
          "output_type": "stream",
          "text": [
            "Errors: [{'uuid': 'efa47661-fb70-419d-a25c-aad9f98d4312', 'dataRow': {}, 'status': 'FAILURE', 'errors': [{'name': 'ValidationError', 'message': \"{'dataRow': {'id': ['Missing data for required field.'], 'globalKey': ['Unknown field.']}}\", 'additionalInfo': None}]}, {'uuid': '6c126ee0-3b3c-445e-942b-2cd94b75159d', 'dataRow': {}, 'status': 'FAILURE', 'errors': [{'name': 'ValidationError', 'message': \"{'dataRow': {'id': ['Missing data for required field.'], 'globalKey': ['Unknown field.']}}\", 'additionalInfo': None}]}, {'uuid': '9014e4b5-7f5f-464f-ba5a-296d52e5656a', 'dataRow': {}, 'status': 'FAILURE', 'errors': [{'name': 'ValidationError', 'message': \"{'dataRow': {'id': ['Missing data for required field.'], 'globalKey': ['Unknown field.']}}\", 'additionalInfo': None}]}, {'uuid': '31c97977-90a3-41c7-8543-dfe3cc5af21f', 'dataRow': {}, 'status': 'FAILURE', 'errors': [{'name': 'ValidationError', 'message': \"{'dataRow': {'id': ['Missing data for required field.'], 'globalKey': ['Unknown field.']}}\", 'additionalInfo': None}]}, {'uuid': 'ca918a6b-694a-42e1-812c-5f6503b1b692', 'dataRow': {}, 'status': 'FAILURE', 'errors': [{'name': 'ValidationError', 'message': \"{'dataRow': {'id': ['Missing data for required field.'], 'globalKey': ['Unknown field.']}}\", 'additionalInfo': None}]}, {'uuid': '4513f94a-660e-4267-a45c-0eb153534208', 'dataRow': {}, 'status': 'FAILURE', 'errors': [{'name': 'ValidationError', 'message': \"{'dataRow': {'id': ['Missing data for required field.'], 'globalKey': ['Unknown field.']}}\", 'additionalInfo': None}]}, {'uuid': '536412b6-8815-4275-9d24-40265287bef5', 'dataRow': {}, 'status': 'FAILURE', 'errors': [{'name': 'ValidationError', 'message': \"{'dataRow': {'id': ['Missing data for required field.'], 'globalKey': ['Unknown field.']}}\", 'additionalInfo': None}]}, {'uuid': 'f5fd51b2-1b26-4166-a66d-85668fbc7615', 'dataRow': {}, 'status': 'FAILURE', 'errors': [{'name': 'ValidationError', 'message': \"{'dataRow': {'id': ['Missing data for required field.'], 'globalKey': ['Unknown field.']}}\", 'additionalInfo': None}]}]\n",
            " \n"
          ]
        }
      ],
      "execution_count": null
    },
    {
      "metadata": {},
      "source": [
        "### Label Import\n"
      ],
      "cell_type": "markdown"
    },
    {
      "metadata": {},
      "source": [
        "# Upload label for this data row in project\n",
        "# upload_job = lb.LabelImport.create_from_objects(\n",
        "#     client = client, \n",
        "#     project_id = project.uid, \n",
        "#     name=\"label_import_job\"+str(uuid.uuid4()),  \n",
        "#     labels=label_ndjson_method2)\n",
        "\n",
        "# print(\"Errors:\", upload_job.errors)\n",
        "# print(\" \")"
      ],
      "cell_type": "code",
      "outputs": [],
      "execution_count": null
    },
    {
      "metadata": {},
      "source": [
        "#project.delete()\n",
        "\n",
        "#dataset.delete()"
      ],
      "cell_type": "code",
      "outputs": [],
      "execution_count": null
    }
  ]
}