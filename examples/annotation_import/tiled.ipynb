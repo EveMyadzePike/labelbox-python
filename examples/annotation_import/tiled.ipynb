{
  "cells": [
    {
      "cell_type": "markdown",
      "id": "db768cda",
      "metadata": {
        "id": "db768cda"
      },
      "source": [
        "<td>\n",
        "   <a target=\"_blank\" href=\"https://labelbox.com\" ><img src=\"https://labelbox.com/blog/content/images/2021/02/logo-v4.svg\" width=256/></a>\n",
        "</td>"
      ]
    },
    {
      "cell_type": "markdown",
      "id": "cb5611d0",
      "metadata": {
        "id": "cb5611d0"
      },
      "source": [
        "<td>\n",
        "<a href=\"https://colab.research.google.com/github/Labelbox/labelbox-python/blob/develop/examples/model_assisted_labeling/tiled_imagery_mal.ipynb\" target=\"_blank\"><img\n",
        "src=\"https://colab.research.google.com/assets/colab-badge.svg\" alt=\"Open In Colab\"></a>\n",
        "</td>\n",
        "\n",
        "<td>\n",
        "<a href=\"https://github.com/Labelbox/labelbox-python/tree/develop/examples/model_assisted_labeling/tiled_imagery_mal.ipynb\" target=\"_blank\"><img\n",
        "src=\"https://img.shields.io/badge/GitHub-100000?logo=github&logoColor=white\" alt=\"GitHub\"></a>\n",
        "</td>"
      ]
    },
    {
      "cell_type": "markdown",
      "id": "stupid-court",
      "metadata": {
        "id": "stupid-court"
      },
      "source": [
        "# Tiled Imagery Annotation Import\n",
        "* This notebook will provide examples of each supported annotation type for tiled imagery assets, and also cover MAL and Label Import methods:\n",
        "\n",
        "Supported annotations that can be uploaded through the SDK: \n",
        "  * Point \n",
        "  * Polygon\n",
        "  * Bounding Box \n",
        "  * Classification radio \n",
        "  * Classification checklist \n",
        "  * Classification free-form text\n",
        "\n",
        "**Not** supported:\n",
        "  * Segmentation mask\n",
        "\n",
        "\n",
        "MAL and Label Import: \n",
        "\n",
        "* Model-assisted labeling - used to provide pre-annotated data for your labelers. This will enable a reduction in the total amount of time to properly label your assets. Model-assisted labeling does not submit the labels automatically, and will need to be reviewed by a labeler for submission.\n",
        "* Label Import - used to provide ground truth labels. These can in turn be used and compared against prediction labels, or used as benchmarks to see how your labelers are doing.\n",
        "\n",
        "For information on what types of annotations are supported per data type, refer to this documentation:\n",
        "    * https://docs.labelbox.com/docs/model-assisted-labeling#option-1-import-via-python-annotation-types-recommended"
      ]
    },
    {
      "cell_type": "markdown",
      "id": "QRizVjhb6vlH",
      "metadata": {
        "id": "QRizVjhb6vlH"
      },
      "source": [
        "Notes:\n",
        " * This notebook uses the Slippy Maps format\n",
        " * If you are importing more than 1,000 annotations at a time, consider submitting separate jobs, as they can take longer than other annotation types to import.\n",
        " * Wait until the import job is complete before opening the Editor to make sure all annotations are imported properly.\n",
        " * You may need to refresh your browser in order to see the results of the import job."
      ]
    },
    {
      "cell_type": "markdown",
      "source": [
        "### Setup"
      ],
      "metadata": {
        "id": "_RXNjZ8dplBk"
      },
      "id": "_RXNjZ8dplBk"
    },
    {
      "cell_type": "code",
      "execution_count": null,
      "id": "voluntary-minister",
      "metadata": {
        "id": "voluntary-minister"
      },
      "outputs": [],
      "source": [
        "!pip install -q 'labelbox[data]'"
      ]
    },
    {
      "cell_type": "code",
      "execution_count": 2,
      "id": "committed-richards",
      "metadata": {
        "id": "committed-richards"
      },
      "outputs": [],
      "source": [
        "import os\n",
        "\n",
        "import uuid\n",
        "import numpy as np\n",
        "from PIL import Image\n",
        "import cv2\n",
        "import ndjson\n",
        "import gdal\n",
        "\n",
        "\n",
        "from labelbox.data.serialization.ndjson.converter import NDJsonConverter\n",
        "from labelbox.schema.queue_mode import QueueMode\n",
        "from labelbox.schema.media_type import MediaType\n",
        "from labelbox.data.annotation_types import (\n",
        "    Label, ImageData, ObjectAnnotation, \n",
        "    Rectangle, Point, Line, Polygon,\n",
        "    Radio, Checklist, Text,\n",
        "    ClassificationAnnotation, ClassificationAnswer\n",
        ")\n",
        "from labelbox.schema.ontology import OntologyBuilder, Tool, Classification, Option\n",
        "from labelbox import Client, LabelingFrontend, LabelImport, MALPredictionImport"
      ]
    },
    {
      "cell_type": "markdown",
      "id": "xdFJ1Qgj68Q5",
      "metadata": {
        "id": "xdFJ1Qgj68Q5"
      },
      "source": [
        "### Replace with your API key\n",
        "Guides on [Create an API key](https://docs.labelbox.com/docs/create-an-api-key)"
      ]
    },
    {
      "cell_type": "code",
      "execution_count": 3,
      "id": "affecting-myanmar",
      "metadata": {
        "id": "affecting-myanmar"
      },
      "outputs": [],
      "source": [
        "API_KEY = None\n",
        "client = Client(API_KEY)"
      ]
    },
    {
      "cell_type": "markdown",
      "id": "blessed-venture",
      "metadata": {
        "id": "blessed-venture"
      },
      "source": [
        "## Supported annotations for tiled imagery"
      ]
    },
    {
      "cell_type": "markdown",
      "id": "AmKgfZ8ZALT_",
      "metadata": {
        "id": "AmKgfZ8ZALT_"
      },
      "source": [
        "### Supported Python annotation types and NDJSON "
      ]
    },
    {
      "cell_type": "code",
      "source": [
        "####### Point #######\n",
        "\n",
        "# Python Annotation\n",
        "point_annotation = ObjectAnnotation(\n",
        "  name = \"point_geo\",\n",
        "  value = Point(x=-99.21052827588443, y=19.405662413477728),\n",
        ")\n",
        "\n",
        "# NDJSON\n",
        "point_annotation_ndjson = {\n",
        "    \"name\": \"point_geo\",\n",
        "    \"point\": {\n",
        "         \"x\": -99.21052827588443,\n",
        "         \"y\": 19.405662413477728\n",
        "     }\n",
        "}"
      ],
      "metadata": {
        "id": "3mQh-yQ2TLmd"
      },
      "id": "3mQh-yQ2TLmd",
      "execution_count": 4,
      "outputs": []
    },
    {
      "cell_type": "code",
      "source": [
        "####### Polyline #######\n",
        "# Coordinates\n",
        "coords = [[-99.2257610436396,19.418710777269197],[-99.22610441645385,19.341320919070036],[-99.1464419235419,19.341644802568833],[-99.14781541479901,19.420653145480912],[-99.22439165216781,19.42047504824125],[-99.1989820639114,19.414324129199997]]\n",
        "line_points = []\n",
        "line_points_ndjson = []\n",
        "\n",
        "for sub in coords: \n",
        "  line_points.append(Point(x=sub[0], y=sub[1]))\n",
        "  line_points_ndjson.append({\"x\":sub[0], \"y\":sub[1]})\n",
        "\n",
        "# Python Annotation \n",
        "polyline_annotation = ObjectAnnotation(\n",
        "  name = \"polyline_geo\",\n",
        "  value = Line(points=line_points),\n",
        ")\n",
        "\n",
        "\n",
        "# NDJSON \n",
        "polyline_annotation_ndjson = {\n",
        "    \"name\": \"polyline_geo\",\n",
        "    \"line\": line_points_ndjson\n",
        "}"
      ],
      "metadata": {
        "id": "f3OoBByTTYda"
      },
      "id": "f3OoBByTTYda",
      "execution_count": 5,
      "outputs": []
    },
    {
      "cell_type": "code",
      "source": [
        "####### Polygon #######\n",
        "# Coordinates in the desired EPSG coordinate system\n",
        "coords_polygon = [[-99.2103219219407,19.382085377579806],[-99.21375304694426,19.362328387802638],[-99.19006492831323,19.36297607074792],[-99.19281196088781,19.381437207301936],[-99.2103219219407,19.382085377579806]]\n",
        "polygon_points = []\n",
        "polygon_points_ndjson = []\n",
        "\n",
        "for sub in coords_polygon: \n",
        "  polygon_points.append(Point(x=sub[0], y=sub[1]))\n",
        "  polygon_points_ndjson.append({\"x\":sub[0], \"y\":sub[1]})\n",
        "\n",
        "# Python Annotation \n",
        "polygon_annotation = ObjectAnnotation(\n",
        "  name = \"polygon_geo\",\n",
        "  value = Polygon(points=polygon_points),\n",
        ")\n",
        "\n",
        "# NDJSON \n",
        "polygon_annotation_ndjson = {\n",
        "    \"name\": \"polygon_geo\",\n",
        "    \"polygon\": polygon_points_ndjson\n",
        "}"
      ],
      "metadata": {
        "id": "BSjRhlFvTdfS"
      },
      "id": "BSjRhlFvTdfS",
      "execution_count": 6,
      "outputs": []
    },
    {
      "cell_type": "code",
      "source": [
        "####### Bounding Box #######\n",
        "coord_object = {\n",
        "      \"coordinates\": [\n",
        "        [\n",
        "            [\n",
        "                -99.210528,\n",
        "                19.405662\n",
        "            ],\n",
        "            [\n",
        "                -99.210528,\n",
        "                19.400499\n",
        "            ],\n",
        "            [\n",
        "                -99.205348,\n",
        "                19.400499\n",
        "            ],\n",
        "            [\n",
        "                -99.205348,\n",
        "                19.405662\n",
        "            ],\n",
        "            [\n",
        "                -99.210528,\n",
        "                19.405662\n",
        "            ]\n",
        "          ]\n",
        "        ]\n",
        "      \n",
        "    }\n",
        "\n",
        "\n",
        "bbox_top_left = Point(x=-99.21052827588443, y=19.405662413477728)\n",
        "bbox_bottom_right = Point(x=-99.20534818927473, y=19.400498983095076)\n",
        "\n",
        "# Python Annotation\n",
        "bbox_annotation = ObjectAnnotation(\n",
        "  name = \"bbox_geo\",\n",
        "  value = Rectangle(start=bbox_top_left, end=bbox_bottom_right)\n",
        ")\n",
        "\n",
        "\n",
        "# NDJSON\n",
        "bbox_annotation_ndjson = {\n",
        "    \"name\" : \"bbox_geo\",\n",
        "    \"bbox\" : {\n",
        "        'top': coord_object[\"coordinates\"][0][1][1],\n",
        "        'left': coord_object[\"coordinates\"][0][1][0],\n",
        "        'height': coord_object[\"coordinates\"][0][3][1] - coord_object[\"coordinates\"][0][1][1],        \n",
        "        'width': coord_object[\"coordinates\"][0][3][0] - coord_object[\"coordinates\"][0][1][0]\n",
        "    }\n",
        "}\n"
      ],
      "metadata": {
        "id": "oLX3adDOTmYS"
      },
      "id": "oLX3adDOTmYS",
      "execution_count": 7,
      "outputs": []
    },
    {
      "cell_type": "code",
      "source": [
        "####### Classification - radio (single choice) #######\n",
        "\n",
        "# Python Annotation \n",
        "radio_annotation = ClassificationAnnotation(\n",
        "    name=\"radio_question_geo\", \n",
        "    value=Radio(answer=ClassificationAnswer(name=\"first_radio_answer\"))\n",
        ")\n",
        "\n",
        "# NDJSON \n",
        "radio_annotation_ndjson = {\n",
        "    \"name\": \"radio_question_geo\",\n",
        "    \"answer\": { \"name\": \"first_radio_answer\"}\n",
        "}"
      ],
      "metadata": {
        "id": "OsWf8Y_mTxLm"
      },
      "id": "OsWf8Y_mTxLm",
      "execution_count": 8,
      "outputs": []
    },
    {
      "cell_type": "code",
      "source": [
        "####### Classification - Checklist (multi-choice) #######\n",
        "\n",
        "coord_object_checklist = {\n",
        "    \"coordinates\": [\n",
        "        [\n",
        "          [\n",
        "              -99.173225,\n",
        "              19.406409\n",
        "          ],\n",
        "          [\n",
        "              -99.173225,\n",
        "              19.398962\n",
        "          ],\n",
        "          [\n",
        "              -99.192111,\n",
        "              19.398962\n",
        "          ],\n",
        "          [\n",
        "              -99.192111,\n",
        "              19.406409\n",
        "          ],\n",
        "          [\n",
        "              -99.173225,\n",
        "              19.406409\n",
        "          ]\n",
        "      ]\n",
        "    ]          \n",
        "}\n",
        "\n",
        "# Python Annotation\n",
        "bbox_with_checklist_subclass = ObjectAnnotation(\n",
        "    name=\"bbox_checklist_geo\",\n",
        "    value=Rectangle(\n",
        "        start=Point(x=-99.17322500305542, y=19.40640857294981), # Top left\n",
        "        end=Point(x=-99.19211050784055, y=19.398962049791287), # Bottom right\n",
        "    ),\n",
        "    classifications=[\n",
        "        ClassificationAnnotation(\n",
        "            name=\"checklist_class_name\",\n",
        "            value=Checklist(\n",
        "                answer=[ClassificationAnswer(name=\"first_checklist_answer\")]\n",
        "            )\n",
        "        )\n",
        "    ]\n",
        ")\n",
        "\n",
        "\n",
        "# NDJSON \n",
        "bbox_with_checklist_subclass_ndjson = {\n",
        "    \"name\": \"bbox_checklist_geo\", \n",
        "    \"classifications\": [{\n",
        "        \"name\": \"checklist_class_name\",\n",
        "        \"answer\": [\n",
        "            { \"name\":\"first_checklist_answer\" }\n",
        "        ]   \n",
        "    }],\n",
        "    \"bbox\": {\n",
        "        'top': coord_object_checklist[\"coordinates\"][0][1][1],\n",
        "        'left': coord_object_checklist[\"coordinates\"][0][1][0],\n",
        "        'height': coord_object_checklist[\"coordinates\"][0][3][1] - coord_object_checklist[\"coordinates\"][0][1][1],        \n",
        "        'width': coord_object_checklist[\"coordinates\"][0][3][0] - coord_object_checklist[\"coordinates\"][0][1][0]\n",
        "    }\n",
        "}"
      ],
      "metadata": {
        "id": "2IZXIWP2UcOJ"
      },
      "id": "2IZXIWP2UcOJ",
      "execution_count": 9,
      "outputs": []
    },
    {
      "cell_type": "code",
      "source": [
        "####### Classification free form text with bbox #######\n",
        "\n",
        "coord_object_text ={\n",
        "    \"coordinates\": [\n",
        "        [\n",
        "                [\n",
        "                    -99.181809,\n",
        "                    19.349418\n",
        "                ],\n",
        "                [\n",
        "                    -99.181809,\n",
        "                    19.357514\n",
        "                ],\n",
        "                [\n",
        "                    -99.153996,\n",
        "                    19.357514\n",
        "                ],\n",
        "                [\n",
        "                    -99.153996,\n",
        "                    19.349418\n",
        "                ],\n",
        "                [\n",
        "                    -99.181809,\n",
        "                    19.349418\n",
        "                ]\n",
        "            ]\n",
        "        ]\n",
        "}\n",
        "# Python Annotation\n",
        "bbox_with_free_text_subclass = ObjectAnnotation(\n",
        "    name=\"bbox_text_geo\",\n",
        "    value=Rectangle(\n",
        "        start=Point(x=-99.1818093234123, y=19.34941781372347), # Top left\n",
        "        end=Point(x=-99.15399612545598, y=19.357514306583965), # Bottom right\n",
        "    ),\n",
        "    classifications=[\n",
        "        ClassificationAnnotation(\n",
        "            name=\"free_text_geo\",\n",
        "            value=Text(answer=\"sample text\")\n",
        "        )\n",
        "    ]\n",
        ")\n",
        "\n",
        "# NDJSON \n",
        "bbox_with_free_text_subclass_ndjson = {\n",
        "    \"name\":\"bbox_text_geo\",\n",
        "    \"classifications\": [{\n",
        "        \"name\": \"free_text_geo\",\n",
        "        \"answer\": \"sample text\"\n",
        "    }],\n",
        "    \"bbox\": {\n",
        "        'top': coord_object_text[\"coordinates\"][0][1][1],\n",
        "        'left': coord_object_text[\"coordinates\"][0][1][0],\n",
        "        'height': coord_object_text[\"coordinates\"][0][3][1] - coord_object_text[\"coordinates\"][0][1][1],        \n",
        "        'width': coord_object_text[\"coordinates\"][0][3][0] - coord_object_text[\"coordinates\"][0][1][0]\n",
        "    }\n",
        "}"
      ],
      "metadata": {
        "id": "bnjcIB7FU21R"
      },
      "id": "bnjcIB7FU21R",
      "execution_count": 10,
      "outputs": []
    },
    {
      "cell_type": "code",
      "source": [
        "####### Classification - Checklist (multi-choice) #######\n",
        "\n",
        "# Python Annotation\n",
        "checklist_annotation = ClassificationAnnotation(\n",
        "    name=\"checklist_question_geo\",\n",
        "    value=Checklist(answer = [\n",
        "        ClassificationAnswer(name = \"first_checklist_answer\"),\n",
        "        ClassificationAnswer(name = \"second_checklist_answer\"),\n",
        "        ClassificationAnswer(name = \"third_checklist_answer\")\n",
        "    ])\n",
        "  )\n",
        "\n",
        "\n",
        "# NDJSON\n",
        "checklist_annotation_ndjson = {\n",
        "  'name': 'checklist_question_geo',\n",
        "  'answer': [\n",
        "    {'name': 'first_checklist_answer'},\n",
        "    {'name': 'second_checklist_answer'},\n",
        "    {'name': 'third_checklist_answer'},\n",
        "  ]\n",
        "}"
      ],
      "metadata": {
        "id": "hIkLI1q7glMi"
      },
      "id": "hIkLI1q7glMi",
      "execution_count": 11,
      "outputs": []
    },
    {
      "cell_type": "markdown",
      "source": [
        "## Upload Annotations - putting it all together\n"
      ],
      "metadata": {
        "id": "_DHMCHBhh1j4"
      },
      "id": "_DHMCHBhh1j4"
    },
    {
      "cell_type": "markdown",
      "source": [
        "### Step 1: Import data rows into Catalog"
      ],
      "metadata": {
        "id": "BjuYchMdh7ro"
      },
      "id": "BjuYchMdh7ro"
    },
    {
      "cell_type": "code",
      "execution_count": 12,
      "id": "IlwNSdRQB4gC",
      "metadata": {
        "colab": {
          "base_uri": "https://localhost:8080/"
        },
        "id": "IlwNSdRQB4gC",
        "outputId": "eabd5152-35af-471d-8eaa-d962e5eef8c2"
      },
      "outputs": [
        {
          "output_type": "stream",
          "name": "stdout",
          "text": [
            "None\n"
          ]
        }
      ],
      "source": [
        "\n",
        "asset = [{\n",
        "    \"row_data\": {\n",
        "    \"tile_layer_url\": \"https://storage.googleapis.com/labelbox-datasets/geospatial-sample-data/sample-geotiff.tif\"\n",
        "      },\n",
        "    \"global_key\": str(uuid.uuid4()),\n",
        "    \"media_type\": \"TMS_GEO\"\n",
        "}]\n",
        "\n",
        "dataset = client.create_dataset(name=\"geo_demo_dataset\")\n",
        "task = dataset.create_data_rows(asset)\n",
        "task.wait_till_done()\n",
        "print(task.errors)"
      ]
    },
    {
      "cell_type": "markdown",
      "source": [
        "### Step 2: Create/select an ontology\n",
        "Your project should have the correct ontology setup with all the tools and classifications supported for your annotations, and the tool names and classification instructions should match the `name`/`instructions` fields in your annotations to ensure the correct feature schemas are matched.\n",
        "\n",
        "For example, when we create the bounding box annotation [above](https://colab.research.google.com/drive/1_sPVTktS1AVvFMCg-GR4q_g2ukQaR4Oq#scrollTo=2IZXIWP2UcOJ&line=2&uniqifier=1), we provided the `name` as `bbox_checklist_geo`. Now, when we setup our ontology, we must ensure that the name of my bounding box tool is also `bbox_checklist_geo`. The same alignment must hold true for the other tools and classifications we create in our ontology."
      ],
      "metadata": {
        "id": "y_tWMvxilTq9"
      },
      "id": "y_tWMvxilTq9"
    },
    {
      "cell_type": "code",
      "execution_count": 13,
      "id": "suburban-crowd",
      "metadata": {
        "id": "suburban-crowd"
      },
      "outputs": [],
      "source": [
        "ontology_builder = OntologyBuilder(\n",
        "    tools=[\n",
        "        Tool(tool=Tool.Type.POINT, name=\"point_geo\"),\n",
        "        Tool(tool=Tool.Type.LINE, name=\"polyline_geo\"),\n",
        "        Tool(tool=Tool.Type.POLYGON, name=\"polygon_geo\"),\n",
        "        Tool(tool=Tool.Type.BBOX, name=\"bbox_geo\"), \n",
        "        Tool( \n",
        "          tool=Tool.Type.BBOX, \n",
        "          name=\"bbox_checklist_geo\",\n",
        "          classifications=[\n",
        "                Classification(\n",
        "                    class_type=Classification.Type.CHECKLIST,\n",
        "                    instructions=\"checklist_class_name\",\n",
        "                    options=[\n",
        "                      Option(value=\"first_checklist_answer\")\n",
        "                    ]\n",
        "                ),\n",
        "            ]\n",
        "          ),\n",
        "        Tool( \n",
        "          tool=Tool.Type.BBOX, \n",
        "          name=\"bbox_text_geo\",\n",
        "          classifications=[\n",
        "                Classification(\n",
        "                    class_type=Classification.Type.TEXT,\n",
        "                    instructions=\"free_text_geo\"\n",
        "                ),\n",
        "            ]\n",
        "          )    \n",
        "      ],\n",
        "      classifications = [\n",
        "          Classification(\n",
        "              class_type=Classification.Type.CHECKLIST, \n",
        "              instructions=\"checklist_question_geo\",\n",
        "              options=[\n",
        "                  Option(value=\"first_checklist_answer\"),\n",
        "                  Option(value=\"second_checklist_answer\"), \n",
        "                  Option(value=\"third_checklist_answer\")\n",
        "              ]\n",
        "          ), \n",
        "          Classification(\n",
        "              class_type=Classification.Type.RADIO, \n",
        "              instructions=\"radio_question_geo\",\n",
        "              options=[\n",
        "                  Option(value=\"first_radio_answer\")\n",
        "              ]\n",
        "          )\n",
        "          \n",
        "      ]\n",
        ")\n",
        "\n",
        "ontology = client.create_ontology(\"Ontology Geospatial Annotations\", ontology_builder.asdict())"
      ]
    },
    {
      "cell_type": "markdown",
      "source": [
        "### Step 3: Create a labeling project\n",
        "Connect the ontology to the labeling project "
      ],
      "metadata": {
        "id": "_OeW7Fnrl-Xy"
      },
      "id": "_OeW7Fnrl-Xy"
    },
    {
      "cell_type": "code",
      "execution_count": 22,
      "id": "PhfXaqDB7hRt",
      "metadata": {
        "id": "PhfXaqDB7hRt"
      },
      "outputs": [],
      "source": [
        "# Project defaults to batch mode with benchmark quality settings if this argument is not provided\n",
        "# Queue mode will be deprecated once dataset mode is deprecated\n",
        "\n",
        "project = client.create_project(name=\"geo_project_demo\",\n",
        "                                    queue_mode=QueueMode.Batch,\n",
        "                                    media_type=MediaType.Geospatial_Tile)\n",
        "\n",
        "\n",
        "project.setup_editor(ontology)\n",
        "\n",
        "######################### DATASET CONSENSUS OPTION ########################\n",
        "#Note that dataset base projects will be deprecated in the near future.\n",
        "\n",
        "#To use Datasets/Consensus instead of Batches/Benchmarks use the following query: \n",
        "#In this case, 10% of all data rows need to be annotated by three labelers.\n",
        "\n",
        "# dataset_project = client.create_project(name=\"dataset-test-project\",\n",
        "#                                 description=\"a description\",\n",
        "#                                 media_type=MediaType.Text,\n",
        "#                                 auto_audit_percentage=0.1,\n",
        "#                                 auto_audit_number_of_labels=3,\n",
        "#                                 queue_mode=QueueMode.Dataset)\n",
        "\n",
        "# dataset_project.datasets.connect(dataset)"
      ]
    },
    {
      "cell_type": "markdown",
      "source": [
        "### Step 4: Send a batch of data rows to the project "
      ],
      "metadata": {
        "id": "g23ejnMQw1Ix"
      },
      "id": "g23ejnMQw1Ix"
    },
    {
      "cell_type": "code",
      "source": [
        "# Setup Batches and Ontology\n",
        "\n",
        "# Create a batch to send to your MAL project\n",
        "batch = project.create_batch(\n",
        "  \"first-batch-geo-demo\", # Each batch in a project must have a unique name\n",
        "  dataset.export_data_rows(), # Paginated collection of data row objects\n",
        "  5 # priority between 1(Highest) - 5(lowest)\n",
        ")\n",
        "\n",
        "print(\"Batch: \", batch)"
      ],
      "metadata": {
        "colab": {
          "base_uri": "https://localhost:8080/"
        },
        "id": "FHXR6nyKw-8f",
        "outputId": "300646b2-6b7a-4dfd-a02f-5494b9082f15"
      },
      "id": "FHXR6nyKw-8f",
      "execution_count": 23,
      "outputs": [
        {
          "output_type": "stream",
          "name": "stdout",
          "text": [
            "Batch:  <Batch {\n",
            "    \"consensus_settings_json\": \"{\\\"numberOfLabels\\\":1,\\\"coveragePercentage\\\":0}\",\n",
            "    \"created_at\": \"2023-01-03 23:20:49+00:00\",\n",
            "    \"name\": \"first-batch-geo-demo\",\n",
            "    \"size\": 1,\n",
            "    \"uid\": \"421bee80-8bbd-11ed-a6f6-1fd0e0fcd05c\",\n",
            "    \"updated_at\": \"2023-01-03 23:20:49+00:00\"\n",
            "}>\n"
          ]
        }
      ]
    },
    {
      "cell_type": "markdown",
      "source": [
        "### Step 5: Create the annotations payload \n",
        "Create the annotations payload using the snippets of code above\n",
        "\n",
        "Labelbox support two formats for the annotations payload: NDJSON and Python Annotation types. Both are described below. \n"
      ],
      "metadata": {
        "id": "OGUtGAXjxL5m"
      },
      "id": "OGUtGAXjxL5m"
    },
    {
      "cell_type": "markdown",
      "source": [
        "#### Python annotations\n",
        "Here we create the complete label ndjson payload of annotations only using python annotation format. There is one annotation for each reference to an annotation that we created [above](https://colab.research.google.com/drive/1_sPVTktS1AVvFMCg-GR4q_g2ukQaR4Oq#scrollTo=AmKgfZ8ZALT_)."
      ],
      "metadata": {
        "id": "lVXwyg7ZxVOX"
      },
      "id": "lVXwyg7ZxVOX"
    },
    {
      "cell_type": "code",
      "source": [
        "label = Label(\n",
        "    data=ImageData(\n",
        "        uid= next(dataset.export_data_rows()).uid\n",
        "    ),\n",
        "    annotations = [\n",
        "        point_annotation,\n",
        "        polyline_annotation,\n",
        "        polygon_annotation,\n",
        "        bbox_annotation,\n",
        "        radio_annotation,\n",
        "        bbox_with_checklist_subclass,  \n",
        "        bbox_with_free_text_subclass,\n",
        "        checklist_annotation\n",
        "    ]\n",
        ")\n",
        "\n",
        "# Convert our label from a Labelbox class object to the underlying NDJSON format required for upload \n",
        "label_ndjson = list(NDJsonConverter.serialize([label]))\n",
        "label_ndjson"
      ],
      "metadata": {
        "id": "3_LZLZY7xS30",
        "colab": {
          "base_uri": "https://localhost:8080/"
        },
        "outputId": "5ad70c40-1643-4329-90fa-52a019038d24"
      },
      "id": "3_LZLZY7xS30",
      "execution_count": 16,
      "outputs": [
        {
          "output_type": "execute_result",
          "data": {
            "text/plain": [
              "[{'uuid': '9dccd23f-7485-4a09-b7ba-b4f6f6e6da31',\n",
              "  'dataRow': {'id': 'clcgupd6i0c5r077fagkp9vx6'},\n",
              "  'name': 'point_geo',\n",
              "  'classifications': [],\n",
              "  'point': {'x': -99.21052827588443, 'y': 19.405662413477728}},\n",
              " {'uuid': '20a8bcfa-5114-461e-981f-2f12f9e5e5d5',\n",
              "  'dataRow': {'id': 'clcgupd6i0c5r077fagkp9vx6'},\n",
              "  'name': 'polyline_geo',\n",
              "  'classifications': [],\n",
              "  'line': [{'x': -99.2257610436396, 'y': 19.418710777269197},\n",
              "   {'x': -99.22610441645385, 'y': 19.341320919070036},\n",
              "   {'x': -99.1464419235419, 'y': 19.341644802568833},\n",
              "   {'x': -99.14781541479901, 'y': 19.420653145480912},\n",
              "   {'x': -99.22439165216781, 'y': 19.42047504824125},\n",
              "   {'x': -99.1989820639114, 'y': 19.414324129199997}]},\n",
              " {'uuid': '65b0bde8-d16a-414d-8e95-7f5f193fc986',\n",
              "  'dataRow': {'id': 'clcgupd6i0c5r077fagkp9vx6'},\n",
              "  'name': 'polygon_geo',\n",
              "  'classifications': [],\n",
              "  'polygon': [{'x': -99.2103219219407, 'y': 19.382085377579806},\n",
              "   {'x': -99.21375304694426, 'y': 19.362328387802638},\n",
              "   {'x': -99.19006492831323, 'y': 19.36297607074792},\n",
              "   {'x': -99.19281196088781, 'y': 19.381437207301936},\n",
              "   {'x': -99.2103219219407, 'y': 19.382085377579806}]},\n",
              " {'uuid': 'df25ed6d-a1f0-48f1-94bb-065d6461ae54',\n",
              "  'dataRow': {'id': 'clcgupd6i0c5r077fagkp9vx6'},\n",
              "  'name': 'bbox_geo',\n",
              "  'classifications': [],\n",
              "  'bbox': {'top': 19.405662413477728,\n",
              "   'left': -99.21052827588443,\n",
              "   'height': -0.005163430382651768,\n",
              "   'width': 0.0051800866096982645}},\n",
              " {'name': 'radio_question_geo',\n",
              "  'answer': {'name': 'first_radio_answer'},\n",
              "  'uuid': '55055c07-b15e-4c47-a930-c700b17ede5f',\n",
              "  'dataRow': {'id': 'clcgupd6i0c5r077fagkp9vx6'}},\n",
              " {'uuid': '924f7912-a0ff-4098-81dc-fd4c6e750872',\n",
              "  'dataRow': {'id': 'clcgupd6i0c5r077fagkp9vx6'},\n",
              "  'name': 'bbox_checklist_geo',\n",
              "  'classifications': [{'name': 'checklist_class_name',\n",
              "    'answer': [{'name': 'first_checklist_answer'}]}],\n",
              "  'bbox': {'top': 19.40640857294981,\n",
              "   'left': -99.17322500305542,\n",
              "   'height': -0.007446523158524343,\n",
              "   'width': -0.018885504785131957}},\n",
              " {'uuid': '43d65470-55a8-49ce-903b-3f8ec0574a5a',\n",
              "  'dataRow': {'id': 'clcgupd6i0c5r077fagkp9vx6'},\n",
              "  'name': 'bbox_text_geo',\n",
              "  'classifications': [{'name': 'free_text_geo', 'answer': 'sample text'}],\n",
              "  'bbox': {'top': 19.34941781372347,\n",
              "   'left': -99.1818093234123,\n",
              "   'height': 0.00809649286049563,\n",
              "   'width': 0.02781319795631987}},\n",
              " {'name': 'checklist_question_geo',\n",
              "  'uuid': 'd4f783b9-d1a2-4d7d-8283-a4d265cea81d',\n",
              "  'dataRow': {'id': 'clcgupd6i0c5r077fagkp9vx6'},\n",
              "  'answer': [{'name': 'first_checklist_answer'},\n",
              "   {'name': 'second_checklist_answer'},\n",
              "   {'name': 'third_checklist_answer'}]}]"
            ]
          },
          "metadata": {},
          "execution_count": 16
        }
      ]
    },
    {
      "cell_type": "markdown",
      "source": [
        "### NDJSON annotations\n",
        "Here we create the complete label NDJSON payload of annotations only using NDJSON format. There is one annotation for each reference to an annotation that we created [above](https://colab.research.google.com/drive/1_sPVTktS1AVvFMCg-GR4q_g2ukQaR4Oq#scrollTo=AmKgfZ8ZALT_)."
      ],
      "metadata": {
        "id": "LUJtuLa00gZF"
      },
      "id": "LUJtuLa00gZF"
    },
    {
      "cell_type": "code",
      "source": [
        "label_ndjson_method2 = []\n",
        "\n",
        "for annotations in [point_annotation_ndjson,\n",
        "                    polyline_annotation_ndjson,\n",
        "                    polygon_annotation_ndjson,\n",
        "                    bbox_annotation_ndjson,\n",
        "                    radio_annotation_ndjson,\n",
        "                    bbox_with_checklist_subclass_ndjson,  \n",
        "                    bbox_with_free_text_subclass_ndjson,\n",
        "                    checklist_annotation_ndjson]:\n",
        "  annotations.update({\n",
        "      'uuid' : str(uuid.uuid4()),\n",
        "      'dataRow': {\n",
        "          'id':  next(dataset.export_data_rows()).uid\n",
        "      }\n",
        "  })\n",
        "  label_ndjson_method2.append(annotations)\n",
        "  "
      ],
      "metadata": {
        "id": "M88fD66M0f63"
      },
      "id": "M88fD66M0f63",
      "execution_count": 17,
      "outputs": []
    },
    {
      "cell_type": "code",
      "source": [
        "label_ndjson_method2"
      ],
      "metadata": {
        "colab": {
          "base_uri": "https://localhost:8080/"
        },
        "id": "10pZtHgzfAJS",
        "outputId": "25b1a9b8-5f58-4b8c-f5aa-2da085dc1add"
      },
      "id": "10pZtHgzfAJS",
      "execution_count": 18,
      "outputs": [
        {
          "output_type": "execute_result",
          "data": {
            "text/plain": [
              "[{'name': 'point_geo',\n",
              "  'point': {'x': -99.21052827588443, 'y': 19.405662413477728},\n",
              "  'uuid': '9f3225f9-63bd-4c88-941d-d75ece46945a',\n",
              "  'dataRow': {'id': 'clcgupd6i0c5r077fagkp9vx6'}},\n",
              " {'name': 'polyline_geo',\n",
              "  'line': [{'x': -99.2257610436396, 'y': 19.418710777269197},\n",
              "   {'x': -99.22610441645385, 'y': 19.341320919070036},\n",
              "   {'x': -99.1464419235419, 'y': 19.341644802568833},\n",
              "   {'x': -99.14781541479901, 'y': 19.420653145480912},\n",
              "   {'x': -99.22439165216781, 'y': 19.42047504824125},\n",
              "   {'x': -99.1989820639114, 'y': 19.414324129199997}],\n",
              "  'uuid': '22e296af-950d-41eb-b7c2-8f718e480397',\n",
              "  'dataRow': {'id': 'clcgupd6i0c5r077fagkp9vx6'}},\n",
              " {'name': 'polygon_geo',\n",
              "  'polygon': [{'x': -99.2103219219407, 'y': 19.382085377579806},\n",
              "   {'x': -99.21375304694426, 'y': 19.362328387802638},\n",
              "   {'x': -99.19006492831323, 'y': 19.36297607074792},\n",
              "   {'x': -99.19281196088781, 'y': 19.381437207301936},\n",
              "   {'x': -99.2103219219407, 'y': 19.382085377579806}],\n",
              "  'uuid': 'bd2b0960-d320-4807-8954-dec1afeea653',\n",
              "  'dataRow': {'id': 'clcgupd6i0c5r077fagkp9vx6'}},\n",
              " {'name': 'bbox_geo',\n",
              "  'bbox': {'top': 19.400499,\n",
              "   'left': -99.210528,\n",
              "   'height': 0.005162999999999585,\n",
              "   'width': 0.0051799999999957436},\n",
              "  'uuid': '7f8c7827-dd50-4b8d-ae47-33c08da2131b',\n",
              "  'dataRow': {'id': 'clcgupd6i0c5r077fagkp9vx6'}},\n",
              " {'name': 'radio_question_geo',\n",
              "  'answer': {'name': 'first_radio_answer'},\n",
              "  'uuid': '57398b93-8d04-48b5-ac72-3b84f90a83eb',\n",
              "  'dataRow': {'id': 'clcgupd6i0c5r077fagkp9vx6'}},\n",
              " {'name': 'bbox_checklist_geo',\n",
              "  'classifications': [{'name': 'checklist_class_name',\n",
              "    'answer': [{'name': 'first_checklist_answer'}]}],\n",
              "  'bbox': {'top': 19.398962,\n",
              "   'left': -99.173225,\n",
              "   'height': 0.007446999999999093,\n",
              "   'width': -0.01888599999999485},\n",
              "  'uuid': '40cec8ed-34e2-4b05-89d7-3b8f409c0781',\n",
              "  'dataRow': {'id': 'clcgupd6i0c5r077fagkp9vx6'}},\n",
              " {'name': 'bbox_text_geo',\n",
              "  'classifications': [{'name': 'free_text_geo', 'answer': 'sample text'}],\n",
              "  'bbox': {'top': 19.357514,\n",
              "   'left': -99.181809,\n",
              "   'height': -0.008095999999998327,\n",
              "   'width': 0.02781299999999476},\n",
              "  'uuid': '8dfca523-f9ad-44c0-9346-081a823291dd',\n",
              "  'dataRow': {'id': 'clcgupd6i0c5r077fagkp9vx6'}},\n",
              " {'name': 'checklist_question_geo',\n",
              "  'answer': [{'name': 'first_checklist_answer'},\n",
              "   {'name': 'second_checklist_answer'},\n",
              "   {'name': 'third_checklist_answer'}],\n",
              "  'uuid': '06749ae0-5a50-42af-9622-8703bd5e44e2',\n",
              "  'dataRow': {'id': 'clcgupd6i0c5r077fagkp9vx6'}}]"
            ]
          },
          "metadata": {},
          "execution_count": 18
        }
      ]
    },
    {
      "cell_type": "markdown",
      "source": [
        "### Step 6: Upload annotations to a project as pre-labels or complete labels\n"
      ],
      "metadata": {
        "id": "hy4ShxCc0P3F"
      },
      "id": "hy4ShxCc0P3F"
    },
    {
      "cell_type": "markdown",
      "source": [
        "#### Model-Assisted Labeling (MAL)\n",
        "For the purpose of this tutorial only run one of the label_ndjosn  annotation type tools at the time (NDJSON or Annotation types). Delete the previous labels before uploading labels that use the 2nd method (ndjson)"
      ],
      "metadata": {
        "id": "y6dL3p17VPQL"
      },
      "id": "y6dL3p17VPQL"
    },
    {
      "cell_type": "code",
      "source": [
        "# Upload MAL label for this data row in project\n",
        "upload_job = MALPredictionImport.create_from_objects(\n",
        "    client = client, \n",
        "    project_id = project.uid, \n",
        "    name=\"mal_import_job\"+str(uuid.uuid4()), \n",
        "    ### use label_ndjson_method2 if labels were created using NDJSON tools\n",
        "    predictions=label_ndjson)\n",
        "\n",
        "upload_job.wait_until_done();\n",
        "print(\"Errors:\", upload_job.errors)\n",
        "print(\"   \")"
      ],
      "metadata": {
        "colab": {
          "base_uri": "https://localhost:8080/"
        },
        "id": "SrAMnM9L0cAb",
        "outputId": "15932c17-6d3c-4c12-cf96-5ee77a6b99b3"
      },
      "id": "SrAMnM9L0cAb",
      "execution_count": 24,
      "outputs": [
        {
          "output_type": "stream",
          "name": "stdout",
          "text": [
            "Errors: []\n",
            "   \n"
          ]
        }
      ]
    },
    {
      "cell_type": "markdown",
      "source": [
        "#### Label Import"
      ],
      "metadata": {
        "id": "IXAcQfHl2_38"
      },
      "id": "IXAcQfHl2_38"
    },
    {
      "cell_type": "code",
      "source": [
        "# Upload label for this data row in project \n",
        "upload_job = LabelImport.create_from_objects(\n",
        "    client = client, \n",
        "    project_id = project.uid, \n",
        "    name=\"label_geo_import_job\"+str(uuid.uuid4()),  \n",
        "    # user label_ndjson if labels were created using python annotation tools\n",
        "    labels=label_ndjson_method2)\n",
        "\n",
        "upload_job.wait_until_done();\n",
        "print(\"Errors:\", upload_job.errors)"
      ],
      "metadata": {
        "id": "leIutAqA2_Uw",
        "colab": {
          "base_uri": "https://localhost:8080/"
        },
        "outputId": "ed882a64-d4e1-43dc-b822-f3e20adc53d6"
      },
      "id": "leIutAqA2_Uw",
      "execution_count": 20,
      "outputs": [
        {
          "output_type": "stream",
          "name": "stdout",
          "text": [
            "Errors: []\n"
          ]
        }
      ]
    },
    {
      "cell_type": "markdown",
      "source": [
        "### Optional deletions for cleanup"
      ],
      "metadata": {
        "id": "ZgaBbFA9vajf"
      },
      "id": "ZgaBbFA9vajf"
    },
    {
      "cell_type": "code",
      "source": [
        "#upload_job\n",
        "# project.delete()\n",
        "# dataset.delete()"
      ],
      "metadata": {
        "id": "ZLM9L5ggGqHG"
      },
      "id": "ZLM9L5ggGqHG",
      "execution_count": 21,
      "outputs": []
    }
  ],
  "metadata": {
    "colab": {
      "provenance": []
    },
    "kernelspec": {
      "display_name": "Python 3",
      "language": "python",
      "name": "python3"
    },
    "language_info": {
      "codemirror_mode": {
        "name": "ipython",
        "version": 3
      },
      "file_extension": ".py",
      "mimetype": "text/x-python",
      "name": "python",
      "nbconvert_exporter": "python",
      "pygments_lexer": "ipython3",
      "version": "3.8.8"
    }
  },
  "nbformat": 4,
  "nbformat_minor": 5
}
