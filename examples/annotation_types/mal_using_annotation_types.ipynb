{
    "cells": [
        {
            "cell_type": "markdown",
            "id": "db768cda",
            "metadata": {},
            "source": [
                "<td>\n",
                "   <a target=\"_blank\" href=\"https://labelbox.com\" ><img src=\"https://labelbox.com/blog/content/images/2021/02/logo-v4.svg\" width=256/></a>\n",
                "</td>"
            ]
        },
        {
            "cell_type": "markdown",
            "id": "cb5611d0",
            "metadata": {},
            "source": [
                "<td>\n",
                "<a href=\"https://colab.research.google.com/github/Labelbox/labelbox-python/blob/develop/examples/annotation_types/mal_using_annotation_types.ipynb\" target=\"_blank\"><img\n",
                "src=\"https://colab.research.google.com/assets/colab-badge.svg\" alt=\"Open In Colab\"></a>\n",
                "</td>\n",
                "\n",
                "<td>\n",
                "<a href=\"https://github.com/Labelbox/labelbox-python/tree/develop/examples/annotation_types/mal_using_annotation_types.ipynb\" target=\"_blank\"><img\n",
                "src=\"https://img.shields.io/badge/GitHub-100000?logo=github&logoColor=white\" alt=\"GitHub\"></a>\n",
                "</td>"
            ]
        },
        {
            "cell_type": "markdown",
            "id": "stupid-court",
            "metadata": {},
            "source": [
                "# MAL Using Annotation Types\n",
                "* Image MAL with subclasses.\n",
                "* This is the same task as the image mal tutorial but we are going to use annnotation types"
            ]
        },
        {
            "cell_type": "code",
            "execution_count": 1,
            "id": "danish-compatibility",
            "metadata": {},
            "outputs": [],
            "source": "!pip install \"labelbox[data]\""
        },
        {
            "cell_type": "code",
            "execution_count": 2,
            "id": "honey-elevation",
            "metadata": {},
            "outputs": [],
            "source": "# Run these if running in a colab notebook\nCOLAB = \"google.colab\" in str(get_ipython())\nif COLAB:\n    !git clone https://github.com/Labelbox/labelbox-python.git\n    !mv labelbox-python/examples/model_assisted_labeling/image_model.py .\nelse:\n    import sys\n    sys.path.append('../model_assisted_labeling')"
        },
        {
            "cell_type": "code",
            "execution_count": 3,
            "id": "committed-richards",
            "metadata": {},
            "outputs": [],
            "source": "#Used this as a reference for the model\n#https://colab.research.google.com/github/tensorflow/tpu/blob/master/models/official/mask_rcnn/mask_rcnn_demo.ipynb#scrollTo=6lCL-ZcwaJbA\nimport numpy as np\nfrom PIL import Image\nimport requests\nimport ndjson\nimport uuid\nfrom io import BytesIO\nimport os\nfrom getpass import getpass\n\nfrom labelbox import (Client, LabelingFrontend, OntologyBuilder, Tool,\n                      Classification, Option)\n\nfrom labelbox.data.annotation_types import (LabelList, ImageData, MaskData,\n                                            Rectangle, ObjectAnnotation,\n                                            ClassificationAnnotation, Point,\n                                            ClassificationAnswer, Radio, Mask,\n                                            Label)\nfrom labelbox.data.serialization import NDJsonConverter\nfrom image_model import predict, class_mappings, load_model"
        },
        {
            "cell_type": "code",
            "execution_count": 4,
            "id": "hydraulic-paradise",
            "metadata": {},
            "outputs": [],
            "source": "# If you don't want to give google access to drive you can skip this cell\n# and manually set `API_KEY` below.\nif COLAB:\n    !pip install colab-env -qU\n    from colab_env import envvar_handler\n    envvar_handler.envload()\n\nAPI_KEY = os.environ.get(\"LABELBOX_API_KEY\")\nif not os.environ.get(\"LABELBOX_API_KEY\"):\n    API_KEY = getpass(\"Please enter your labelbox api key\")\n    if COLAB:\n        envvar_handler.add_env(\"LABELBOX_API_KEY\", API_KEY)"
        },
        {
            "cell_type": "code",
            "execution_count": 5,
            "id": "exclusive-elephant",
            "metadata": {},
            "outputs": [],
            "source": "# Set this if running in colab. Otherwise it should work if you have the LABELBOX_API_KEY set.\nAPI_KEY = os.environ[\"LABELBOX_API_KEY\"]\n# Only update this if you have an on-prem deployment\nENDPOINT = \"https://api.labelbox.com/graphql\""
        },
        {
            "cell_type": "code",
            "execution_count": 6,
            "id": "polyphonic-consensus",
            "metadata": {},
            "outputs": [],
            "source": "client = Client(api_key=API_KEY, endpoint=ENDPOINT)"
        },
        {
            "cell_type": "code",
            "execution_count": 7,
            "id": "emotional-origin",
            "metadata": {},
            "outputs": [],
            "source": "#Downloads weights and loads the model.\nload_model()"
        },
        {
            "cell_type": "markdown",
            "id": "polish-soundtrack",
            "metadata": {},
            "source": [
                "## Create Predictions\n",
                "* Create helper functions for processing the model outputs\n",
                "* Make predictions\n",
                "* Add predictions to a LabelList object"
            ]
        },
        {
            "cell_type": "code",
            "execution_count": 8,
            "id": "interested-joyce",
            "metadata": {},
            "outputs": [],
            "source": "def has_bag(person, bags):\n    for bag in bags:\n        if person.value.shapely.contains(bag.value.shapely.centroid):\n            return True\n    return False\n\n\ndef get_annotations(boxes, classes, seg_masks):\n    annotations = []\n    for box, class_idx, seg in zip(boxes, classes, seg_masks):\n        name = class_mappings[class_idx]\n        value = None\n        classifications = []\n        if name in ['person', 'handbag']:\n            value = Rectangle(start=Point(x=box[1], y=box[0]),\n                              end=Point(x=box[3], y=box[2]))\n        elif name == 'car':\n            value = Mask(mask=MaskData.from_2D_arr(arr=seg), color=(1, 1, 1))\n        if value is not None:\n            annotations.append(ObjectAnnotation(name=name, value=value))\n    return annotations\n\n\ndef update_bag_classifications(annotations):\n    bags = [annot for annot in annotations if annot.name == 'handbag']\n    people = [annot for annot in annotations if annot.name == 'person']\n    for person in people:\n        person.classifications = [\n            ClassificationAnnotation(name='has_bag',\n                                     value=Radio(answer=ClassificationAnswer(\n                                         name=str(has_bag(person, bags)))))\n        ]"
        },
        {
            "cell_type": "code",
            "execution_count": 9,
            "id": "interstate-louisiana",
            "metadata": {},
            "outputs": [],
            "source": "# We can just start creating predictions whether or not we have a configured project in labelbox\nimage_urls = [\n    'https://raw.githubusercontent.com/Labelbox/labelbox-python/develop/examples/assets/2560px-Kitano_Street_Kobe01s5s4110.jpg'\n]\n\nlabellist = LabelList()\nfor image_url in image_urls:\n    image_data = ImageData(url=image_url)\n    height, width = image_data.value.shape[:2]\n    prediction = predict(np.array([image_data.im_bytes]),\n                         min_score=0.5,\n                         height=height,\n                         width=width)\n    annotations = get_annotations(prediction['boxes'],\n                                  prediction['class_indices'],\n                                  prediction['seg_masks'])\n    update_bag_classifications(annotations)\n    labellist.append(Label(data=image_data, annotations=annotations))"
        },
        {
            "cell_type": "markdown",
            "id": "blessed-venture",
            "metadata": {},
            "source": [
                "## Project Setup\n",
                "* Create project\n",
                "* Use labellist.get_ontology() to automatically create the OntologyBuilder"
            ]
        },
        {
            "cell_type": "code",
            "execution_count": 10,
            "id": "modern-program",
            "metadata": {},
            "outputs": [],
            "source": "# Lets setup a project to label\n# Note see Ontology, Project, and Project_setup notebooks for more information on this section.\nproject = client.create_project(name=\"mal_project\")\ndataset = client.create_dataset(name=\"mal_dataset\")\neditor = next(\n    client.get_labeling_frontends(where=LabelingFrontend.name == 'editor'))\n# Use the label collection to build the ontology\nproject.setup(editor, labellist.get_ontology().asdict())\nproject.datasets.connect(dataset)\nproject.enable_model_assisted_labeling()"
        },
        {
            "cell_type": "markdown",
            "id": "mechanical-functionality",
            "metadata": {},
            "source": [
                "## Prepare for upload\n",
                "* Our local annotations need the following:\n",
                "    1. signed url for segmentation masks\n",
                "    2. data rows in labelbox\n",
                "    3. feature schema ids"
            ]
        },
        {
            "cell_type": "code",
            "execution_count": 11,
            "id": "vietnamese-kingdom",
            "metadata": {},
            "outputs": [],
            "source": "signer = lambda _bytes: client.upload_data(content=_bytes, sign=True)\nlabellist.add_url_to_masks(signer) \\\n         .add_url_to_data(signer) \\\n         .assign_feature_schema_ids(OntologyBuilder.from_project(project)) \\\n         .add_to_dataset(dataset, signer)"
        },
        {
            "cell_type": "markdown",
            "id": "portable-grenada",
            "metadata": {},
            "source": [
                "## Convert to Prediction import format (NDJson)\n",
                "* We want to create a json payload that matches this: https://docs.labelbox.com/data-model/en/index-en#annotations\n",
                "* We can use the NDJsonConverter to turn our labellist containg predictions into ndjson"
            ]
        },
        {
            "cell_type": "code",
            "execution_count": 12,
            "id": "multiple-values",
            "metadata": {},
            "outputs": [],
            "source": "ndjsons = list(NDJsonConverter.serialize(labellist))\nprint(ndjsons[0])"
        },
        {
            "cell_type": "markdown",
            "id": "dried-library",
            "metadata": {},
            "source": [
                "## Upload the annotations"
            ]
        },
        {
            "cell_type": "code",
            "execution_count": 13,
            "id": "deluxe-behavior",
            "metadata": {},
            "outputs": [],
            "source": "upload_task = project.upload_annotations(name=f\"upload-job-{uuid.uuid4()}\",\n                                         annotations=ndjsons,\n                                         validate=True)\n# Wait for upload to finish\nupload_task.wait_until_done()"
        },
        {
            "cell_type": "code",
            "execution_count": 14,
            "id": "clean-friday",
            "metadata": {},
            "outputs": [],
            "source": "# Review the upload status\nfor status in upload_task.statuses[:5]:\n    print(status)"
        }
    ],
    "metadata": {
        "kernelspec": {
            "display_name": "Python 3 (ipykernel)",
            "language": "python",
            "name": "python3"
        },
        "language_info": {
            "codemirror_mode": {
                "name": "ipython",
                "version": 3
            },
            "file_extension": ".py",
            "mimetype": "text/x-python",
            "name": "python",
            "nbconvert_exporter": "python",
            "pygments_lexer": "ipython3",
            "version": "3.8.2"
        }
    },
    "nbformat": 4,
    "nbformat_minor": 5
}