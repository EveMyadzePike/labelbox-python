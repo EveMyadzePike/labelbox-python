{
  "cells": [
    {
      "cell_type": "markdown",
      "id": "db768cda",
      "metadata": {
        "id": "db768cda"
      },
      "source": [
        "<td>\n",
        "   <a target=\"_blank\" href=\"https://labelbox.com\" ><img src=\"https://labelbox.com/blog/content/images/2021/02/logo-v4.svg\" width=256/></a>\n",
        "</td>"
      ]
    },
    {
      "cell_type": "markdown",
      "id": "cb5611d0",
      "metadata": {
        "id": "cb5611d0"
      },
      "source": [
        "<td>\n",
        "<a href=\"https://colab.research.google.com/github/Labelbox/labelbox-python/blob/develop/examples/label_export/video.ipynb\" target=\"_blank\"><img\n",
        "src=\"https://colab.research.google.com/assets/colab-badge.svg\" alt=\"Open In Colab\"></a>\n",
        "</td>\n",
        "\n",
        "<td>\n",
        "<a href=\"https://github.com/Labelbox/labelbox-python/tree/develop/examples/label_export/video.ipynb\" target=\"_blank\"><img\n",
        "src=\"https://img.shields.io/badge/GitHub-100000?logo=github&logoColor=white\" alt=\"GitHub\"></a>\n",
        "</td>"
      ]
    },
    {
      "cell_type": "markdown",
      "id": "employed-baptist",
      "metadata": {
        "id": "employed-baptist"
      },
      "source": [
        "# Video Data Export\n",
        "Export labels from video annotation projects."
      ]
    },
    {
      "cell_type": "code",
      "execution_count": null,
      "id": "located-egyptian",
      "metadata": {
        "id": "located-egyptian"
      },
      "outputs": [],
      "source": [
        "!pip install -q labelbox numpy matplotlib ipython"
      ]
    },
    {
      "cell_type": "code",
      "execution_count": null,
      "id": "supported-shield",
      "metadata": {
        "id": "supported-shield"
      },
      "outputs": [],
      "source": [
        "from labelbox import Client\n",
        "from matplotlib import pyplot as plt\n",
        "from IPython.display import clear_output\n",
        "import numpy as np\n",
        "import json\n",
        "import ndjson\n",
        "import requests\n",
        "import cv2\n",
        "from typing import Dict, Any\n",
        "import os"
      ]
    },
    {
      "cell_type": "code",
      "execution_count": null,
      "id": "nominated-press",
      "metadata": {
        "id": "nominated-press"
      },
      "outputs": [],
      "source": [
        "# Pick a video project with completed bounding box labels\n",
        "PROJECT_ID = \"\""
      ]
    },
    {
      "cell_type": "markdown",
      "id": "7457a04f",
      "metadata": {
        "id": "7457a04f"
      },
      "source": [
        "# API Key and Client\n",
        "Provide a valid api key below in order to properly connect to the Labelbox Client."
      ]
    },
    {
      "cell_type": "code",
      "execution_count": null,
      "id": "aerial-general",
      "metadata": {
        "id": "aerial-general"
      },
      "outputs": [],
      "source": [
        "# Add your api key\n",
        "API_KEY = None\n",
        "client = Client(api_key=API_KEY)\n",
        "project = client.get_project(PROJECT_ID)"
      ]
    },
    {
      "cell_type": "markdown",
      "id": "finished-helicopter",
      "metadata": {
        "id": "finished-helicopter"
      },
      "source": [
        "### Export the labels"
      ]
    },
    {
      "cell_type": "code",
      "execution_count": null,
      "id": "gothic-investing",
      "metadata": {
        "id": "gothic-investing"
      },
      "outputs": [],
      "source": [
        "export_url = project.export_labels()\n",
        "\n",
        "# labels can also be exported with `start` and `end` filters\n",
        "# export_url = project.export_labels(start=\"2020-01-01\", end=\"2020-01-02\")"
      ]
    },
    {
      "cell_type": "code",
      "execution_count": null,
      "id": "temporal-citation",
      "metadata": {
        "id": "temporal-citation"
      },
      "outputs": [],
      "source": [
        "print(export_url)"
      ]
    },
    {
      "cell_type": "code",
      "execution_count": null,
      "id": "sustained-retro",
      "metadata": {
        "id": "sustained-retro"
      },
      "outputs": [],
      "source": [
        "exports = requests.get(export_url).json()"
      ]
    },
    {
      "cell_type": "markdown",
      "id": "crude-sender",
      "metadata": {
        "id": "crude-sender"
      },
      "source": [
        "To get more information on the fields in the label payload, follow [our documentation here](https://docs.labelbox.com/data-model/en/index-en#label)."
      ]
    },
    {
      "cell_type": "code",
      "source": [
        "# Note that for a video export, a list of exports is created, with one export per data row\n",
        "type(exports)"
      ],
      "metadata": {
        "id": "3CqHTL0zUBzM"
      },
      "id": "3CqHTL0zUBzM",
      "execution_count": null,
      "outputs": []
    },
    {
      "cell_type": "code",
      "execution_count": null,
      "id": "human-beginning",
      "metadata": {
        "id": "human-beginning"
      },
      "outputs": [],
      "source": [
        "# Let's check out the export for the first data row (video)\n",
        "exports[0]"
      ]
    },
    {
      "cell_type": "code",
      "source": [
        "# View some specific fields of the export\n",
        "print(\"Label ID:\", exports[0]['DataRow ID'])\n",
        "print(\"Created By:\", exports[0]['Created By'])\n",
        "print(\"Created At:\", exports[0]['Created At'])\n",
        "print(\"Reviews:\", exports[0]['Reviews'])"
      ],
      "metadata": {
        "id": "nbW2XAXKUtBY"
      },
      "id": "nbW2XAXKUtBY",
      "execution_count": null,
      "outputs": []
    },
    {
      "cell_type": "code",
      "source": [
        "# View the video in your browser by clicking on the link produced\n",
        "video_url = exports[0][\"Labeled Data\"]\n",
        "print(video_url)"
      ],
      "metadata": {
        "id": "GfYvJchcVL6e"
      },
      "id": "GfYvJchcVL6e",
      "execution_count": null,
      "outputs": []
    },
    {
      "cell_type": "markdown",
      "id": "adaptive-format",
      "metadata": {
        "id": "adaptive-format"
      },
      "source": [
        "### View the annotation data\n",
        "The label for each frame of the video must be fetched individually."
      ]
    },
    {
      "cell_type": "code",
      "execution_count": null,
      "id": "crazy-swing",
      "metadata": {
        "id": "crazy-swing"
      },
      "outputs": [],
      "source": [
        "# Grab the annotations url\n",
        "annotations_url = exports[0][\"Label\"][\"frames\"]\n",
        "print(annotations_url)"
      ]
    },
    {
      "cell_type": "code",
      "source": [
        "# Provide the appropriate authorization to view the labeled frames\n",
        "headers = {\"Authorization\": f\"Bearer {API_KEY}\"}\n",
        "annotations = ndjson.loads(requests.get(annotations_url, headers=headers).text)"
      ],
      "metadata": {
        "id": "u3q_cLKzVkZ8"
      },
      "id": "u3q_cLKzVkZ8",
      "execution_count": null,
      "outputs": []
    },
    {
      "cell_type": "code",
      "source": [
        "# Make the data easy to lookup by assigning each frame its frame number\n",
        "annotations = {annot[\"frameNumber\"]: annot for annot in annotations}\n",
        "\n",
        "# Grab the first frame and print the contents\n",
        "first_frame = annotations[1]\n",
        "print(json.dumps(first_frame, indent=2))"
      ],
      "metadata": {
        "id": "UadFAlS5hJon"
      },
      "id": "UadFAlS5hJon",
      "execution_count": null,
      "outputs": []
    },
    {
      "cell_type": "code",
      "source": [
        "# Grab values of the first object in the first annotation\n",
        "print(\"schemaId:\", first_frame['objects'][0]['schemaId'])\n",
        "print(\"title:\", first_frame['objects'][0]['title'])\n",
        "print(\"is a keyframe?:\", first_frame['objects'][0]['keyframe'])\n",
        "print(\"bbox dimensions:\", first_frame['objects'][0]['bbox'])"
      ],
      "metadata": {
        "id": "N9fBeuosWmdF"
      },
      "id": "N9fBeuosWmdF",
      "execution_count": null,
      "outputs": []
    },
    {
      "cell_type": "markdown",
      "source": [
        "### Visualize annotations"
      ],
      "metadata": {
        "id": "uMFffzIKY_jc"
      },
      "id": "uMFffzIKY_jc"
    },
    {
      "cell_type": "markdown",
      "id": "legitimate-poland",
      "metadata": {
        "id": "legitimate-poland"
      },
      "source": [
        "Turn video into individual frames"
      ]
    },
    {
      "cell_type": "code",
      "execution_count": null,
      "id": "thermal-conditioning",
      "metadata": {
        "id": "thermal-conditioning"
      },
      "outputs": [],
      "source": [
        "# Store the video url in a file\n",
        "with open(\"/tmp/sample_video.mp4\", \"wb\") as file:\n",
        "    file.write(requests.get(video_url).content)"
      ]
    },
    {
      "cell_type": "code",
      "execution_count": null,
      "id": "framed-harris",
      "metadata": {
        "id": "framed-harris"
      },
      "outputs": [],
      "source": [
        "vidcap = cv2.VideoCapture(\"/tmp/sample_video.mp4\")\n",
        "success, image = vidcap.read()\n",
        "image = image[:, :, ::-1]\n",
        "# Note that frameNumber 1 in the annotation is frame index 0s\n",
        "count = 1\n",
        "while success and count < 20:\n",
        "    plt.figure(1)\n",
        "    plt.imshow(image)\n",
        "    plt.title('frameNumber ' + str(count))\n",
        "    plt.pause(0.25)\n",
        "    plt.clf()\n",
        "    success, image = vidcap.read()\n",
        "    count += 1\n",
        "    if success and count < 20:\n",
        "        clear_output(wait=True)\n",
        "    image = image[:, :, ::-1]"
      ]
    },
    {
      "cell_type": "code",
      "execution_count": null,
      "id": "abandoned-knight",
      "metadata": {
        "id": "abandoned-knight"
      },
      "outputs": [],
      "source": [
        "# Helper function\n",
        "def visualize_bbox(image: np.ndarray, tool: Dict[str, Any]) -> np.ndarray:\n",
        "    \"\"\"\n",
        "    Draws a bounding box on an image\n",
        "    \n",
        "    Args:\n",
        "        image (np.ndarray): image to draw a bounding box onto\n",
        "        tool (Dict[str,any]): Dict response from the export\n",
        "    Returns:\n",
        "        image with a bounding box drawn on it.\n",
        "    \"\"\"\n",
        "    start = (int(tool[\"bbox\"][\"left\"]), int(tool[\"bbox\"][\"top\"]))\n",
        "    end = (int(tool[\"bbox\"][\"left\"] + tool[\"bbox\"][\"width\"]),\n",
        "           int(tool[\"bbox\"][\"top\"] + tool[\"bbox\"][\"height\"]))\n",
        "    return cv2.rectangle(image, start, end, (255, 0, 0), 5)"
      ]
    },
    {
      "cell_type": "markdown",
      "id": "excess-hamburg",
      "metadata": {
        "id": "excess-hamburg"
      },
      "source": [
        "Overlay annotations on frames"
      ]
    },
    {
      "cell_type": "code",
      "execution_count": null,
      "id": "balanced-investment",
      "metadata": {
        "id": "balanced-investment"
      },
      "outputs": [],
      "source": [
        "vidcap = cv2.VideoCapture('/tmp/sample_video.mp4')\n",
        "success, image = vidcap.read()\n",
        "image = image[:, :, ::-1]\n",
        "# Note that frameNumber 1 in the annotation is frame index 0\n",
        "count = 1\n",
        "\n",
        "while success and count < 20:\n",
        "    annotation = annotations.get(count)\n",
        "    if annotation is not None:\n",
        "        for tool in annotation['objects']:\n",
        "            if 'bbox' in tool:\n",
        "                image = visualize_bbox(image.astype(np.uint8), tool)\n",
        "    plt.figure(1)\n",
        "    plt.imshow(image)\n",
        "    plt.title('frameNumber ' + str(count))\n",
        "    plt.pause(0.25)\n",
        "    plt.clf()\n",
        "\n",
        "    success, image = vidcap.read()\n",
        "    count += 1\n",
        "    if success and count < 20:\n",
        "        clear_output(wait=True)\n",
        "    image = image[:, :, ::-1]"
      ]
    }
  ],
  "metadata": {
    "kernelspec": {
      "display_name": "Python 3",
      "language": "python",
      "name": "python3"
    },
    "language_info": {
      "codemirror_mode": {
        "name": "ipython",
        "version": 3
      },
      "file_extension": ".py",
      "mimetype": "text/x-python",
      "name": "python",
      "nbconvert_exporter": "python",
      "pygments_lexer": "ipython3",
      "version": "3.9.2"
    },
    "colab": {
      "name": "[REVISED] video.ipynb",
      "provenance": [],
      "collapsed_sections": []
    }
  },
  "nbformat": 4,
  "nbformat_minor": 5
}
