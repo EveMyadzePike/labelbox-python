{
  "cells": [
    {
      "cell_type": "markdown",
      "id": "db768cda",
      "metadata": {
        "id": "db768cda"
      },
      "source": [
        "<td>\n",
        "   <a target=\"_blank\" href=\"https://labelbox.com\" ><img src=\"https://labelbox.com/blog/content/images/2021/02/logo-v4.svg\" width=256/></a>\n",
        "</td>"
      ]
    },
    {
      "cell_type": "markdown",
      "id": "cb5611d0",
      "metadata": {
        "id": "cb5611d0"
      },
      "source": [
        "<td>\n",
        "<a href=\"https://colab.research.google.com/github/Labelbox/labelbox-python/blob/develop/examples/label_export/text.ipynb\" target=\"_blank\"><img\n",
        "src=\"https://colab.research.google.com/assets/colab-badge.svg\" alt=\"Open In Colab\"></a>\n",
        "</td>\n",
        "\n",
        "<td>\n",
        "<a href=\"https://github.com/Labelbox/labelbox-python/tree/develop/examples/label_export/text.ipynb\" target=\"_blank\"><img\n",
        "src=\"https://img.shields.io/badge/GitHub-100000?logo=github&logoColor=white\" alt=\"GitHub\"></a>\n",
        "</td>"
      ]
    },
    {
      "cell_type": "markdown",
      "id": "employed-baptist",
      "metadata": {
        "id": "employed-baptist"
      },
      "source": [
        "# Text Data Export\n",
        "Export labels from text annotation projects."
      ]
    },
    {
      "cell_type": "code",
      "execution_count": null,
      "id": "manual-parks",
      "metadata": {
        "id": "manual-parks"
      },
      "outputs": [],
      "source": [
        "!pip install -q 'labelbox[data]'"
      ]
    },
    {
      "cell_type": "code",
      "execution_count": 2,
      "id": "supported-shield",
      "metadata": {
        "id": "supported-shield"
      },
      "outputs": [],
      "source": [
        "from labelbox import Client\n",
        "from labelbox.data.annotation_types import (\n",
        "    Label, LabelList, ObjectAnnotation,\n",
        "    TextData, TextEntity\n",
        ")\n",
        "from labelbox.data.serialization import NDJsonConverter\n",
        "import json"
      ]
    },
    {
      "cell_type": "code",
      "execution_count": 15,
      "id": "nominated-press",
      "metadata": {
        "id": "nominated-press"
      },
      "outputs": [],
      "source": [
        "# Pick a project that has entity tools in the ontology and has completed labels\n",
        "PROJECT_ID = \"\""
      ]
    },
    {
      "cell_type": "markdown",
      "id": "078de7d7",
      "metadata": {
        "id": "078de7d7"
      },
      "source": [
        "# API Key and Client\n",
        "Provide a valid api key below in order to properly connect to the Labelbox Client."
      ]
    },
    {
      "cell_type": "code",
      "execution_count": 16,
      "id": "aerial-general",
      "metadata": {
        "id": "aerial-general"
      },
      "outputs": [],
      "source": [
        "# Add your api key\n",
        "API_KEY = None\n",
        "client = Client(api_key=API_KEY)\n",
        "project = client.get_project(PROJECT_ID)"
      ]
    },
    {
      "cell_type": "markdown",
      "id": "finished-helicopter",
      "metadata": {
        "id": "finished-helicopter"
      },
      "source": [
        "### Export the labels"
      ]
    },
    {
      "cell_type": "code",
      "source": [
        "labels = project.label_generator()\n",
        "\n",
        "# Old export format:\n",
        "# labels = project.export_labels()\n",
        "\n",
        "# labels can also be exported with `start` and `end` filters\n",
        "# labels = project.label_generator(start=\"2020-01-01\", end=\"2020-01-02\")"
      ],
      "metadata": {
        "id": "qPGucY8V5WpG"
      },
      "id": "qPGucY8V5WpG",
      "execution_count": 17,
      "outputs": []
    },
    {
      "cell_type": "markdown",
      "source": [
        "Optionally, convert to a `LabelList` for small to medium-sized datasets.\n",
        "\n",
        "This is more convenient than the LabelGenerator, but less memory efficient. Read more about the differences [here](https://colab.research.google.com/github/Labelbox/labelbox-python/blob/develop/examples/annotation_types/label_containers.ipynb)."
      ],
      "metadata": {
        "id": "jCPjiaBIacpv"
      },
      "id": "jCPjiaBIacpv"
    },
    {
      "cell_type": "code",
      "source": [
        "labels = labels.as_list()"
      ],
      "metadata": {
        "id": "8nvKKLnTavzS"
      },
      "id": "8nvKKLnTavzS",
      "execution_count": null,
      "outputs": []
    },
    {
      "cell_type": "markdown",
      "source": [
        "### View the labels"
      ],
      "metadata": {
        "id": "VlwIczrf9G7Z"
      },
      "id": "VlwIczrf9G7Z"
    },
    {
      "cell_type": "code",
      "source": [
        "# Print first label\n",
        "label = next(labels)\n",
        "label"
      ],
      "metadata": {
        "id": "eFFgijvQ82_F"
      },
      "id": "eFFgijvQ82_F",
      "execution_count": null,
      "outputs": []
    },
    {
      "cell_type": "markdown",
      "id": "biblical-insured",
      "metadata": {
        "id": "biblical-insured"
      },
      "source": [
        "To get more information on the fields in the label payload, follow [our documentation here](https://docs.labelbox.com/docs/entity-json)."
      ]
    },
    {
      "cell_type": "code",
      "source": [
        "# View some specific fields of the label instance\n",
        "print(\"Label ID:\", label.uid)\n",
        "print(\"Created By:\", label.extra['Created By'])\n",
        "print(\"Created At:\", label.extra['Created At'])\n",
        "print(\"Media Type:\", label.extra['media_type'])\n",
        "print(\"Reviews:\", label.extra['Reviews'])"
      ],
      "metadata": {
        "id": "uhgmI1Dx9LBe"
      },
      "id": "uhgmI1Dx9LBe",
      "execution_count": null,
      "outputs": []
    },
    {
      "cell_type": "code",
      "source": [
        "# View a list of the annotations that comprise the label\n",
        "label.annotations"
      ],
      "metadata": {
        "id": "fJrUrglt_YOG"
      },
      "id": "fJrUrglt_YOG",
      "execution_count": null,
      "outputs": []
    },
    {
      "cell_type": "code",
      "source": [
        "# Grab elements of the first object annotation\n",
        "print(\"feature name:\", label.annotations[0].name)\n",
        "print(\"featureSchemaId:\", label.annotations[0].feature_schema_id)\n",
        "print(\"start index, end index:\", label.annotations[0].value.start, label.annotations[0].value.end)\n",
        "print(\"classifications:\", label.annotations[0].classifications)"
      ],
      "metadata": {
        "id": "ciKIKTGtWzIj"
      },
      "id": "ciKIKTGtWzIj",
      "execution_count": null,
      "outputs": []
    },
    {
      "cell_type": "markdown",
      "source": [
        "### Convert annotations to NDJSON\n",
        "We can utilize the `NDJsonConverter` class to turn annotation objects into NDJSON that is ready to be uploaded back into Labelbox."
      ],
      "metadata": {
        "id": "ptyrc9BN_RLE"
      },
      "id": "ptyrc9BN_RLE"
    },
    {
      "cell_type": "code",
      "source": [
        "# Run the converter\n",
        "annotations = NDJsonConverter.serialize(labels)"
      ],
      "metadata": {
        "id": "921pcXT58Le1"
      },
      "id": "921pcXT58Le1",
      "execution_count": null,
      "outputs": []
    },
    {
      "cell_type": "code",
      "execution_count": null,
      "id": "human-beginning",
      "metadata": {
        "id": "human-beginning"
      },
      "outputs": [],
      "source": [
        "# View the first annotation in NDJSON\n",
        "annotation = next(annotations)\n",
        "annotation"
      ]
    },
    {
      "cell_type": "code",
      "source": [
        "# Grab elements of the NDJSON annotation\n",
        "print(\"schemaId: \" + annotation['schemaId'])\n",
        "print(\"dataRow Id: \" + annotation['dataRow']['id'])"
      ],
      "metadata": {
        "id": "VCkINPObA7B4"
      },
      "id": "VCkINPObA7B4",
      "execution_count": null,
      "outputs": []
    }
  ],
  "metadata": {
    "kernelspec": {
      "display_name": "Python 3",
      "language": "python",
      "name": "python3"
    },
    "language_info": {
      "codemirror_mode": {
        "name": "ipython",
        "version": 3
      },
      "file_extension": ".py",
      "mimetype": "text/x-python",
      "name": "python",
      "nbconvert_exporter": "python",
      "pygments_lexer": "ipython3",
      "version": "3.8.2"
    },
    "colab": {
      "name": "[REVISED] text.ipynb",
      "provenance": [],
      "collapsed_sections": []
    }
  },
  "nbformat": 4,
  "nbformat_minor": 5
}
