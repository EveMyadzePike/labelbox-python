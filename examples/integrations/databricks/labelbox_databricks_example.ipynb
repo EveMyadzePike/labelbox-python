{
 "cells": [
  {
   "cell_type": "markdown",
   "source": [
    "# Labelbox Connector for Databricks Tutorial Notebook"
   ],
   "metadata": {
    "application/vnd.databricks.v1+cell": {
     "title": "",
     "showTitle": false,
     "inputWidgets": {},
     "nuid": "bd1df061-02be-4232-8016-4aeb27fd7691"
    }
   }
  },
  {
   "cell_type": "markdown",
   "source": [
    "#### Pre-requisites\n",
    "1. This tutorial notebook requires a Lablbox API Key. Please login to your [Labelbox Account](app.labelbox.com) and generate an [API Key](https://app.labelbox.com/account/api-keys)\n",
    "2. A few cells below will install the Labelbox SDK and Connector Library. This install is notebook-scoped and will not affect the rest of your cluster. \n",
    "3. Please make sure you are running at least the latest LTS version of Databricks. \n",
    "\n",
    "#### Notebook Preview\n",
    "This notebook will guide you through these steps: \n",
    "1. Connect to Labelbox via the SDK \n",
    "2. Create a labeling dataset from a table of unstructured data in Databricks\n",
    "3. Programmatically set up an ontology and labeling project in Labelbox\n",
    "4. Load Bronze and Silver annotation tables from an example labeled project \n",
    "5. Additional cells describe how to handle video annotations and use Labelbox Diagnostics and Catalog \n",
    "\n",
    "Additional documentation links are provided at the end of the notebook."
   ],
   "metadata": {
    "application/vnd.databricks.v1+cell": {
     "title": "",
     "showTitle": false,
     "inputWidgets": {},
     "nuid": "b3da60c1-5b0d-45f4-a56b-b001dd1b0ed6"
    }
   }
  },
  {
   "cell_type": "markdown",
   "source": [
    "Thanks for trying out the Databricks and Labelbox Connector! You or someone from your organization signed up for a Labelbox trial through Databricks Partner Connect. This notebook was loaded into your Shared directory to help illustrate how Labelbox and Databricks can be used together to power unstructured data workflows. \n",
    "\n",
    "Labelbox can be used to rapidly annotate a variety of unstructured data from your Data Lake ([images](https://labelbox.com/product/image), [video](https://labelbox.com/product/video), [text](https://labelbox.com/product/text), and [geospatial tiled imagery](https://docs.labelbox.com/docs/tiled-imagery-editor)) and the Labelbox Connector for Databricks makes it easy to bring the annotations back into your Lakehouse environment for AI/ML and analytical workflows. \n",
    "\n",
    "If you would like to watch a video of the workflow, check out our [Data & AI Summit Demo](https://databricks.com/session_na21/productionizing-unstructured-data-for-ai-and-analytics). \n",
    "\n",
    "\n",
    "<img src=\"https://labelbox.com/static/images/partnerships/collab-chart.svg\" alt=\"example-workflow\" width=\"800\"/>\n",
    "\n",
    "<h5>Questions or comments? Reach out to us at [ecosystem+databricks@labelbox.com](mailto:ecosystem+databricks@labelbox.com)"
   ],
   "metadata": {
    "application/vnd.databricks.v1+cell": {
     "title": "",
     "showTitle": false,
     "inputWidgets": {},
     "nuid": "889e8c34-5b3d-4063-bbc9-0099251817ca"
    }
   }
  },
  {
   "cell_type": "code",
   "source": [
    "%pip install labelbox labelspark"
   ],
   "metadata": {
    "application/vnd.databricks.v1+cell": {
     "title": "Install Labelbox Library & Labelbox Connector for Databricks",
     "showTitle": true,
     "inputWidgets": {},
     "nuid": "20ce88db-4682-4881-a5b6-2260a00203f3"
    }
   },
   "outputs": [
    {
     "output_type": "display_data",
     "metadata": {
      "application/vnd.databricks.v1+output": {
       "data": "",
       "errorSummary": "",
       "metadata": {},
       "errorTraceType": null,
       "type": "ipynbError",
       "arguments": {}
      }
     },
     "data": {
      "text/html": [
       "<style scoped>\n  .ansiout {\n    display: block;\n    unicode-bidi: embed;\n    white-space: pre-wrap;\n    word-wrap: break-word;\n    word-break: break-all;\n    font-family: \"Source Code Pro\", \"Menlo\", monospace;;\n    font-size: 13px;\n    color: #555;\n    margin-left: 4px;\n    line-height: 19px;\n  }\n</style>"
      ]
     },
     "transient": null
    }
   ],
   "execution_count": 0
  },
  {
   "cell_type": "markdown",
   "source": [
    "## Configure the SDK\n",
    "\n",
    "Now that Labelbox and the Databricks libraries have been installed, you will need to configure the SDK. You will need an API key that you can create through the app [here](https://app.labelbox.com/account/api-keys). You can also store the key using Databricks Secrets API. The SDK will attempt to use the env var `LABELBOX_API_KEY`"
   ],
   "metadata": {
    "application/vnd.databricks.v1+cell": {
     "title": "",
     "showTitle": false,
     "inputWidgets": {},
     "nuid": "06ff0dac-d4ab-4182-bd6a-735781250779"
    }
   }
  },
  {
   "cell_type": "code",
   "source": [
    "from labelbox import Client, Dataset\n",
    "from labelbox.schema.ontology import OntologyBuilder, Tool, Classification, Option\n",
    "import databricks.koalas as pd\n",
    "import labelspark\n",
    "\n",
    "API_KEY = \"\" \n",
    "\n",
    "if not(API_KEY):\n",
    "  raise ValueError(\"Go to Labelbox to get an API key\")\n",
    "  \n",
    "client = Client(API_KEY)"
   ],
   "metadata": {
    "application/vnd.databricks.v1+cell": {
     "title": "",
     "showTitle": true,
     "inputWidgets": {},
     "nuid": "acdfe8c6-1d76-46af-a945-162f5c8a1e26"
    }
   },
   "outputs": [
    {
     "output_type": "display_data",
     "metadata": {
      "application/vnd.databricks.v1+output": {
       "data": "",
       "errorSummary": "",
       "metadata": {},
       "errorTraceType": null,
       "type": "ipynbError",
       "arguments": {}
      }
     },
     "data": {
      "text/html": [
       "<style scoped>\n  .ansiout {\n    display: block;\n    unicode-bidi: embed;\n    white-space: pre-wrap;\n    word-wrap: break-word;\n    word-break: break-all;\n    font-family: \"Source Code Pro\", \"Menlo\", monospace;;\n    font-size: 13px;\n    color: #555;\n    margin-left: 4px;\n    line-height: 19px;\n  }\n</style>"
      ]
     },
     "transient": null
    }
   ],
   "execution_count": 0
  },
  {
   "cell_type": "markdown",
   "source": [
    "## Fetch seed data\n",
    "\n",
    "Next we'll load a demo dataset into a Spark table so you can see how to easily load assets into Labelbox via URL. For simplicity, you can get a Dataset ID from Labelbox and we'll load those URLs into a Spark table for you (so you don't need to worry about finding data to get this demo notebook to run). Below we'll grab the \"Example Nature Dataset\" included in Labelbox trials.\n",
    "\n",
    "Also, Labelbox has native support for AWS, Azure, and GCP cloud storage. You can connect Labelbox to your storage via [Delegated Access](https://docs.labelbox.com/docs/iam-delegated-access) and easily load those assets for annotation. For more information, you can watch this [video](https://youtu.be/wlWo6EmPDV4)."
   ],
   "metadata": {
    "application/vnd.databricks.v1+cell": {
     "title": "",
     "showTitle": false,
     "inputWidgets": {},
     "nuid": "a9d30902-fce5-494a-99d2-8b6c4780a8c9"
    }
   }
  },
  {
   "cell_type": "code",
   "source": [
    "sample_dataset = next(client.get_datasets(where=(Dataset.name == \"Example Nature Dataset\")))\n",
    "sample_dataset.uid"
   ],
   "metadata": {
    "application/vnd.databricks.v1+cell": {
     "title": "",
     "showTitle": false,
     "inputWidgets": {},
     "nuid": "4ffa24ed-d12c-46ac-92be-159bf5e09762"
    }
   },
   "outputs": [
    {
     "output_type": "display_data",
     "metadata": {
      "application/vnd.databricks.v1+output": {
       "data": "",
       "errorSummary": "",
       "metadata": {},
       "errorTraceType": null,
       "type": "ipynbError",
       "arguments": {}
      }
     },
     "data": {
      "text/html": [
       "<style scoped>\n  .ansiout {\n    display: block;\n    unicode-bidi: embed;\n    white-space: pre-wrap;\n    word-wrap: break-word;\n    word-break: break-all;\n    font-family: \"Source Code Pro\", \"Menlo\", monospace;;\n    font-size: 13px;\n    color: #555;\n    margin-left: 4px;\n    line-height: 19px;\n  }\n</style>"
      ]
     },
     "transient": null
    }
   ],
   "execution_count": 0
  },
  {
   "cell_type": "code",
   "source": [
    "# can parse the directory and make a Spark table of image URLs\n",
    "SAMPLE_TABLE = \"sample_unstructured_data\"\n",
    "\n",
    "tblList = spark.catalog.listTables()\n",
    "\n",
    "if not any([table.name == SAMPLE_TABLE for table in tblList]):\n",
    "   \n",
    "  df = pd.DataFrame([\n",
    "    {\n",
    "      \"external_id\": dr.external_id,\n",
    "      \"row_data\": dr.row_data\n",
    "    } for dr in sample_dataset.data_rows()\n",
    "  ]).to_spark()\n",
    "  df.registerTempTable(SAMPLE_TABLE)\n",
    "  print(f\"Registered table: {SAMPLE_TABLE}\")"
   ],
   "metadata": {
    "application/vnd.databricks.v1+cell": {
     "title": "",
     "showTitle": true,
     "inputWidgets": {},
     "nuid": "bfaaf86c-3497-4096-a04e-95fa1bb3a576"
    }
   },
   "outputs": [
    {
     "output_type": "display_data",
     "metadata": {
      "application/vnd.databricks.v1+output": {
       "data": "",
       "errorSummary": "",
       "metadata": {},
       "errorTraceType": null,
       "type": "ipynbError",
       "arguments": {}
      }
     },
     "data": {
      "text/html": [
       "<style scoped>\n  .ansiout {\n    display: block;\n    unicode-bidi: embed;\n    white-space: pre-wrap;\n    word-wrap: break-word;\n    word-break: break-all;\n    font-family: \"Source Code Pro\", \"Menlo\", monospace;;\n    font-size: 13px;\n    color: #555;\n    margin-left: 4px;\n    line-height: 19px;\n  }\n</style>"
      ]
     },
     "transient": null
    }
   ],
   "execution_count": 0
  },
  {
   "cell_type": "markdown",
   "source": [
    "You should now have a temporary table \"sample_unstructured_data\" which includes the file names and URLs for some demo images. We're going to share this table with Labelbox using the Labelbox Connector for Databricks!"
   ],
   "metadata": {
    "application/vnd.databricks.v1+cell": {
     "title": "",
     "showTitle": false,
     "inputWidgets": {},
     "nuid": "4709566b-9d52-4e47-beaa-449071928b24"
    }
   }
  },
  {
   "cell_type": "code",
   "source": [
    "display(sqlContext.sql(f\"select * from {SAMPLE_TABLE} LIMIT 5\"))"
   ],
   "metadata": {
    "application/vnd.databricks.v1+cell": {
     "title": "",
     "showTitle": false,
     "inputWidgets": {},
     "nuid": "9b2f6cc7-b8c8-4a42-a634-78d1ab9c7984"
    }
   },
   "outputs": [
    {
     "output_type": "display_data",
     "metadata": {
      "application/vnd.databricks.v1+output": {
       "data": "",
       "errorSummary": "",
       "metadata": {},
       "errorTraceType": null,
       "type": "ipynbError",
       "arguments": {}
      }
     },
     "data": {
      "text/html": [
       "<style scoped>\n  .ansiout {\n    display: block;\n    unicode-bidi: embed;\n    white-space: pre-wrap;\n    word-wrap: break-word;\n    word-break: break-all;\n    font-family: \"Source Code Pro\", \"Menlo\", monospace;;\n    font-size: 13px;\n    color: #555;\n    margin-left: 4px;\n    line-height: 19px;\n  }\n</style>"
      ]
     },
     "transient": null
    }
   ],
   "execution_count": 0
  },
  {
   "cell_type": "markdown",
   "source": [
    "## Create a Labeling Project\n",
    "\n",
    "Projects are where teams create labels. A project is requires a dataset of assets to be labeled and an ontology to configure the labeling interface.\n",
    "\n",
    "### Step 1: Create a dataaset\n",
    "\n",
    "The [Labelbox Connector for Databricks](https://pypi.org/project/labelspark/) expects a spark table with two columns; the first column \"external_id\" and second column \"row_data\"\n",
    "\n",
    "external_id is a filename, like \"birds.jpg\" or \"my_video.mp4\"\n",
    "\n",
    "row_data is the URL path to the file. Labelbox renders assets locally on your users' machines when they label, so your labeler will need permission to access that asset. \n",
    "\n",
    "Example: \n",
    "\n",
    "| external_id | row_data                             |\n",
    "|-------------|--------------------------------------|\n",
    "| image1.jpg  | https://url_to_your_asset/image1.jpg |\n",
    "| image2.jpg  | https://url_to_your_asset/image2.jpg |\n",
    "| image3.jpg  | https://url_to_your_asset/image3.jpg |"
   ],
   "metadata": {
    "application/vnd.databricks.v1+cell": {
     "title": "",
     "showTitle": false,
     "inputWidgets": {},
     "nuid": "b186a2ad-0640-435e-88e8-a94b7439b3c3"
    }
   }
  },
  {
   "cell_type": "code",
   "source": [
    "unstructured_data = spark.table(SAMPLE_TABLE)\n",
    "\n",
    "demo_dataset = labelspark.create_dataset(client, unstructured_data, \"Databricks Demo Dataset\")"
   ],
   "metadata": {
    "application/vnd.databricks.v1+cell": {
     "title": "",
     "showTitle": true,
     "inputWidgets": {},
     "nuid": "e711f5c6-c99f-449d-83ef-4de53b5c11d4"
    }
   },
   "outputs": [
    {
     "output_type": "display_data",
     "metadata": {
      "application/vnd.databricks.v1+output": {
       "data": "",
       "errorSummary": "",
       "metadata": {},
       "errorTraceType": null,
       "type": "ipynbError",
       "arguments": {}
      }
     },
     "data": {
      "text/html": [
       "<style scoped>\n  .ansiout {\n    display: block;\n    unicode-bidi: embed;\n    white-space: pre-wrap;\n    word-wrap: break-word;\n    word-break: break-all;\n    font-family: \"Source Code Pro\", \"Menlo\", monospace;;\n    font-size: 13px;\n    color: #555;\n    margin-left: 4px;\n    line-height: 19px;\n  }\n</style>"
      ]
     },
     "transient": null
    }
   ],
   "execution_count": 0
  },
  {
   "cell_type": "code",
   "source": [
    "print(\"Open the dataset in the App\")\n",
    "print(f\"https://app.labelbox.com/data/{demo_dataset.uid}\")"
   ],
   "metadata": {
    "application/vnd.databricks.v1+cell": {
     "title": "",
     "showTitle": false,
     "inputWidgets": {},
     "nuid": "cfea193f-fe59-4413-9bba-4bd37272bc4d"
    }
   },
   "outputs": [
    {
     "output_type": "display_data",
     "metadata": {
      "application/vnd.databricks.v1+output": {
       "data": "",
       "errorSummary": "",
       "metadata": {},
       "errorTraceType": null,
       "type": "ipynbError",
       "arguments": {}
      }
     },
     "data": {
      "text/html": [
       "<style scoped>\n  .ansiout {\n    display: block;\n    unicode-bidi: embed;\n    white-space: pre-wrap;\n    word-wrap: break-word;\n    word-break: break-all;\n    font-family: \"Source Code Pro\", \"Menlo\", monospace;;\n    font-size: 13px;\n    color: #555;\n    margin-left: 4px;\n    line-height: 19px;\n  }\n</style>"
      ]
     },
     "transient": null
    }
   ],
   "execution_count": 0
  },
  {
   "cell_type": "markdown",
   "source": [
    "### Step 2: Create a project\n",
    "\n",
    "You can use the labelbox SDK to build your ontology (we'll do that next) You can also set your project up entirely through our website at app.labelbox.com.\n",
    "\n",
    "Check out our [ontology creation documentation.](https://docs.labelbox.com/docs/configure-ontology)"
   ],
   "metadata": {
    "application/vnd.databricks.v1+cell": {
     "title": "",
     "showTitle": false,
     "inputWidgets": {},
     "nuid": "d15d1331-c969-4b8f-bc8c-04c0756fb2d2"
    }
   }
  },
  {
   "cell_type": "code",
   "source": [
    "# Create a new project\n",
    "project_demo = client.create_project(name=\"Labelbox and Databricks Example\")\n",
    "project_demo.datasets.connect(demo_dataset)  # add the dataset to the queue\n",
    "\n",
    "ontology = OntologyBuilder()\n",
    "\n",
    "tools = [\n",
    "  Tool(tool=Tool.Type.BBOX, name=\"Frog\"),\n",
    "  Tool(tool=Tool.Type.BBOX, name=\"Flower\"),\n",
    "  Tool(tool=Tool.Type.BBOX, name=\"Fruit\"),\n",
    "  Tool(tool=Tool.Type.BBOX, name=\"Plant\"),\n",
    "  Tool(tool=Tool.Type.SEGMENTATION, name=\"Bird\"),\n",
    "  Tool(tool=Tool.Type.SEGMENTATION, name=\"Person\"),\n",
    "  Tool(tool=Tool.Type.SEGMENTATION, name=\"Sleep\"),\n",
    "  Tool(tool=Tool.Type.SEGMENTATION, name=\"Yak\"),\n",
    "  Tool(tool=Tool.Type.SEGMENTATION, name=\"Gemstone\"),\n",
    "]\n",
    "for tool in tools: \n",
    "  ontology.add_tool(tool)\n",
    "\n",
    "conditions = [\"clear\", \"overcast\", \"rain\", \"other\"]\n",
    "\n",
    "weather_classification = Classification(\n",
    "    class_type=Classification.Type.RADIO,\n",
    "    instructions=\"what is the weather?\", \n",
    "    options=[Option(value=c) for c in conditions]\n",
    ")  \n",
    "ontology.add_classification(weather_classification)\n",
    "\n",
    "\n",
    "# Setup editor\n",
    "for editor in client.get_labeling_frontends():\n",
    "    if editor.name == 'Editor':\n",
    "        project_demo.setup(editor, ontology.asdict()) \n",
    "\n",
    "print(\"Project Setup is complete.\")"
   ],
   "metadata": {
    "application/vnd.databricks.v1+cell": {
     "title": "",
     "showTitle": true,
     "inputWidgets": {},
     "nuid": "a0eca58e-f98e-429e-95d9-74f67cf1464d"
    }
   },
   "outputs": [
    {
     "output_type": "display_data",
     "metadata": {
      "application/vnd.databricks.v1+output": {
       "data": "",
       "errorSummary": "",
       "metadata": {},
       "errorTraceType": null,
       "type": "ipynbError",
       "arguments": {}
      }
     },
     "data": {
      "text/html": [
       "<style scoped>\n  .ansiout {\n    display: block;\n    unicode-bidi: embed;\n    white-space: pre-wrap;\n    word-wrap: break-word;\n    word-break: break-all;\n    font-family: \"Source Code Pro\", \"Menlo\", monospace;;\n    font-size: 13px;\n    color: #555;\n    margin-left: 4px;\n    line-height: 19px;\n  }\n</style>"
      ]
     },
     "transient": null
    }
   ],
   "execution_count": 0
  },
  {
   "cell_type": "markdown",
   "source": [
    "### Step 3: Go label data"
   ],
   "metadata": {
    "application/vnd.databricks.v1+cell": {
     "title": "",
     "showTitle": false,
     "inputWidgets": {},
     "nuid": "0f22df34-988f-4048-9fa7-d7a0ebc6173c"
    }
   }
  },
  {
   "cell_type": "code",
   "source": [
    "print(\"Open the project to start labeling\")\n",
    "print(f\"https://app.labelbox.com/projects/{project_demo.uid}/overview\")"
   ],
   "metadata": {
    "application/vnd.databricks.v1+cell": {
     "title": "",
     "showTitle": false,
     "inputWidgets": {},
     "nuid": "9fcc8ca1-af39-4bb9-9e1e-fd5202a5e46c"
    }
   },
   "outputs": [
    {
     "output_type": "display_data",
     "metadata": {
      "application/vnd.databricks.v1+output": {
       "data": "",
       "errorSummary": "",
       "metadata": {},
       "errorTraceType": null,
       "type": "ipynbError",
       "arguments": {}
      }
     },
     "data": {
      "text/html": [
       "<style scoped>\n  .ansiout {\n    display: block;\n    unicode-bidi: embed;\n    white-space: pre-wrap;\n    word-wrap: break-word;\n    word-break: break-all;\n    font-family: \"Source Code Pro\", \"Menlo\", monospace;;\n    font-size: 13px;\n    color: #555;\n    margin-left: 4px;\n    line-height: 19px;\n  }\n</style>"
      ]
     },
     "transient": null
    }
   ],
   "execution_count": 0
  },
  {
   "cell_type": "code",
   "execution_count": null,
   "outputs": [],
   "source": [
    "raise ValueError(\"Go label some data before continuing\")"
   ],
   "metadata": {
    "collapsed": false,
    "pycharm": {
     "name": "#%%\n"
    }
   }
  },
  {
   "cell_type": "markdown",
   "source": [
    "##Exporting labels/annotations\n",
    "\n",
    "After creating labels in Labelbox you can export them to use in Databricks for model training and analysis."
   ],
   "metadata": {
    "application/vnd.databricks.v1+cell": {
     "title": "",
     "showTitle": false,
     "inputWidgets": {},
     "nuid": "19634126-4ccd-4372-a459-9db511785a22"
    }
   }
  },
  {
   "cell_type": "code",
   "source": [
    "LABEL_TABLE = \"exported_labels\""
   ],
   "metadata": {
    "application/vnd.databricks.v1+cell": {
     "title": "",
     "showTitle": false,
     "inputWidgets": {},
     "nuid": "96031aa4-b947-4c9b-ad5c-9a6422fa3ec0"
    }
   },
   "outputs": [
    {
     "output_type": "display_data",
     "metadata": {
      "application/vnd.databricks.v1+output": {
       "data": "",
       "errorSummary": "",
       "metadata": {},
       "errorTraceType": null,
       "type": "ipynbError",
       "arguments": {}
      }
     },
     "data": {
      "text/html": [
       "<style scoped>\n  .ansiout {\n    display: block;\n    unicode-bidi: embed;\n    white-space: pre-wrap;\n    word-wrap: break-word;\n    word-break: break-all;\n    font-family: \"Source Code Pro\", \"Menlo\", monospace;;\n    font-size: 13px;\n    color: #555;\n    margin-left: 4px;\n    line-height: 19px;\n  }\n</style>"
      ]
     },
     "transient": null
    }
   ],
   "execution_count": 0
  },
  {
   "cell_type": "code",
   "source": [
    "labels_table = labelspark.get_annotations(client, project_demo.uid, spark, sc)\nlabels_table.registerTempTable(LABEL_TABLE)\ndisplay(labels_table)"
   ],
   "metadata": {
    "application/vnd.databricks.v1+cell": {
     "title": "",
     "showTitle": true,
     "inputWidgets": {},
     "nuid": "09bab9cb-9271-4029-af20-df9bab287c72"
    }
   },
   "outputs": [
    {
     "output_type": "display_data",
     "metadata": {
      "application/vnd.databricks.v1+output": {
       "data": "",
       "errorSummary": "",
       "metadata": {},
       "errorTraceType": null,
       "type": "ipynbError",
       "arguments": {}
      }
     },
     "data": {
      "text/html": [
       "<style scoped>\n  .ansiout {\n    display: block;\n    unicode-bidi: embed;\n    white-space: pre-wrap;\n    word-wrap: break-word;\n    word-break: break-all;\n    font-family: \"Source Code Pro\", \"Menlo\", monospace;;\n    font-size: 13px;\n    color: #555;\n    margin-left: 4px;\n    line-height: 19px;\n  }\n</style>"
      ]
     },
     "transient": null
    }
   ],
   "execution_count": 0
  },
  {
   "cell_type": "markdown",
   "source": [
    "## Other features of Labelbox\n\n<h3> [Model Assisted Labeling](https://docs.labelbox.com/docs/model-assisted-labeling) </h3>\nOnce you train a model on your initial set of unstructured data, you can plug that model into Labelbox to support a Model Assisted Labeling workflow. Review the outputs of your model, make corrections, and retrain with ease! You can reduce future labeling costs by >50% by leveraging model assisted labeling.\n\n<img src=\"https://files.readme.io/4c65e12-model-assisted-labeling.png\" alt=\"MAL\" width=\"800\"/>\n\n<h3> [Catalog](https://docs.labelbox.com/docs/catalog) </h3>\nOnce you've created datasets and annotations in Labelbox, you can easily browse your datasets and curate new ones in Catalog. Use your model embeddings to find images by similarity search. \n\n<img src=\"https://files.readme.io/14f82d4-catalog-marketing.jpg\" alt=\"Catalog\" width=\"800\"/>\n\n<h3> [Model Diagnostics](https://labelbox.com/product/model-diagnostics) </h3>\nLabelbox complements your MLFlow experiment tracking with the ability to easily visualize experiment predictions at scale. Model Diagnostics helps you quickly identify areas where your model is weak so you can collect the right data and refine the next model iteration. \n\n<img src=\"https://images.ctfassets.net/j20krz61k3rk/4LfIELIjpN6cou4uoFptka/20cbdc38cc075b82f126c2c733fb7082/identify-patterns-in-your-model-behavior.png\" alt=\"Diagnostics\" width=\"800\"/>"
   ],
   "metadata": {
    "application/vnd.databricks.v1+cell": {
     "title": "",
     "showTitle": true,
     "inputWidgets": {},
     "nuid": "7f88d026-d4f3-4efc-929a-39f2d5393448"
    }
   }
  },
  {
   "cell_type": "markdown",
   "source": [
    "While using the Labelbox Connector for Databricks, you will likely use the Labelbox SDK (e.g. for programmatic ontology creation). These resources will help familiarize you with the Labelbox Python SDK: \n* [Visit our docs](https://labelbox.com/docs/python-api) to learn how the SDK works\n* Checkout our [notebook examples](https://github.com/Labelbox/labelspark/tree/master/notebooks) to follow along with interactive tutorials\n* view our [API reference](https://labelbox.com/docs/python-api/api-reference).\n\n<h4>Questions or comments? Reach out to us at [ecosystem+databricks@labelbox.com](mailto:ecosystem+databricks@labelbox.com)"
   ],
   "metadata": {
    "application/vnd.databricks.v1+cell": {
     "title": "More Info",
     "showTitle": true,
     "inputWidgets": {},
     "nuid": "8eaf3897-b0a8-44e9-aea4-fe58d5ee246f"
    }
   }
  },
  {
   "cell_type": "markdown",
   "source": [
    "Copyright Labelbox, Inc. 2021. The source in this notebook is provided subject to the [Labelbox Terms of Service](https://docs.labelbox.com/page/terms-of-service).  All included or referenced third party libraries are subject to the licenses set forth below.\n\n|Library Name|Library license | Library License URL | Library Source URL |\n|---|---|---|---|\n|Labelbox Python SDK|Apache-2.0 License |https://github.com/Labelbox/labelbox-python/blob/develop/LICENSE|https://github.com/Labelbox/labelbox-python\n|Labelbox Connector for Databricks|Apache-2.0 License |https://github.com/Labelbox/labelspark/blob/master/LICENSE|https://github.com/Labelbox/labelspark\n|Python|Python Software Foundation (PSF) |https://github.com/python/cpython/blob/master/LICENSE|https://github.com/python/cpython|\n|Apache Spark|Apache-2.0 License |https://github.com/apache/spark/blob/master/LICENSE|https://github.com/apache/spark|"
   ],
   "metadata": {
    "application/vnd.databricks.v1+cell": {
     "title": "",
     "showTitle": false,
     "inputWidgets": {},
     "nuid": "1e446cb2-0338-4e5a-9d03-fc24901b3109"
    }
   }
  }
 ],
 "metadata": {
  "application/vnd.databricks.v1+notebook": {
   "notebookName": "labelbox_databricks_example",
   "dashboards": [],
   "notebookMetadata": {
    "pythonIndentUnit": 2
   },
   "language": "python",
   "widgets": {},
   "notebookOrigID": 2370539071404524
  }
 },
 "nbformat": 4,
 "nbformat_minor": 0
}