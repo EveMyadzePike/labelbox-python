{
  "cells": [
    {
      "cell_type": "markdown",
      "source": [
        "<td>\n",
        "   <a target=\"_blank\" href=\"https://labelbox.com\" ><img src=\"https://labelbox.com/blog/content/images/2021/02/logo-v4.svg\" width=256/></a>\n",
        "</td>"
      ],
      "metadata": {
        "id": "SEAj6-X1YB5R"
      },
      "id": "SEAj6-X1YB5R"
    },
    {
      "cell_type": "markdown",
      "source": [
        "<td>\n",
        "<a href=\"https://colab.research.google.com/github/Labelbox/labelbox-python/blob/master/examples/basics/data_rows.ipynb\" target=\"_blank\"><img\n",
        "src=\"https://colab.research.google.com/assets/colab-badge.svg\" alt=\"Open In Colab\"></a>\n",
        "</td>\n",
        "\n",
        "<td>\n",
        "<a href=\"https://github.com/Labelbox/labelbox-python/tree/master/examples/basics/data_rows.ipynb\" target=\"_blank\"><img\n",
        "src=\"https://img.shields.io/badge/GitHub-100000?logo=github&logoColor=white\" alt=\"GitHub\"></a>\n",
        "</td>"
      ],
      "metadata": {
        "id": "k-eICeetYB5S"
      },
      "id": "k-eICeetYB5S"
    },
    {
      "cell_type": "markdown",
      "source": [
        "# Data rows"
      ],
      "metadata": {
        "id": "rlVGjL9iYB5T"
      },
      "id": "rlVGjL9iYB5T"
    },
    {
      "cell_type": "markdown",
      "source": [
        "* Data rows are the items that are actually being labeled. We currently support the following:\n",
        "    * Image\n",
        "    * Text\n",
        "    * Video\n",
        "    * Geospatial / Tiled Imagery\n",
        "    * Audio\n",
        "    * Documents (Beta)\n",
        "    * HTML (Beta)\n",
        "    * DICOM (Beta)\n",
        "* A data row is a member of a dataset \n",
        "* A data row cannot exist without belonging to a dataset.\n",
        "* DataRows are added to labeling tasks by first attaching them to datasets and then attaching datasets to projects."
      ],
      "metadata": {
        "id": "kTFGTrhrYB5T"
      },
      "id": "kTFGTrhrYB5T"
    },
    {
      "cell_type": "code",
      "execution_count": null,
      "source": [
        "!pip install labelbox"
      ],
      "outputs": [],
      "metadata": {
        "id": "0x6072mAYB5T"
      },
      "id": "0x6072mAYB5T"
    },
    {
      "cell_type": "code",
      "execution_count": null,
      "source": [
        "from labelbox import DataRow, Client\n",
        "from labelbox.schema.data_row_metadata import DataRowMetadataField\n",
        "import uuid\n",
        "import os"
      ],
      "outputs": [],
      "metadata": {
        "id": "6JTMvZhMYB5U"
      },
      "id": "6JTMvZhMYB5U"
    },
    {
      "cell_type": "markdown",
      "source": [
        "* Set the following cell with your data to run this notebook"
      ],
      "metadata": {
        "id": "h3qh0QMnYB5U"
      },
      "id": "h3qh0QMnYB5U"
    },
    {
      "cell_type": "code",
      "execution_count": null,
      "source": [
        "# Pick a project that has a dataset attached, data has external ids, and there are some labels\n",
        "# This will modify the project so just pick a dummy one that you don't care about\n",
        "PROJECT_ID = \"\""
      ],
      "outputs": [],
      "metadata": {
        "id": "ksl1sEK_YB5V"
      },
      "id": "ksl1sEK_YB5V"
    },
    {
      "cell_type": "markdown",
      "source": [
        "# API Key and Client\n",
        "Provide a valid api key below in order to properly connect to the Labelbox Client."
      ],
      "metadata": {
        "id": "epzTqOxYYB5V"
      },
      "id": "epzTqOxYYB5V"
    },
    {
      "cell_type": "code",
      "execution_count": null,
      "source": [
        "# Add your api key\n",
        "API_KEY = None\n",
        "client = Client(api_key=API_KEY)"
      ],
      "outputs": [],
      "metadata": {
        "id": "EIAvYiyZYB5W"
      },
      "id": "EIAvYiyZYB5W"
    },
    {
      "cell_type": "code",
      "execution_count": null,
      "source": [
        "project = client.get_project(PROJECT_ID)\n",
        "dataset = next(project.datasets())\n",
        "# This is the same as\n",
        "# -> dataset = client.get_dataset(dataset_id)"
      ],
      "outputs": [],
      "metadata": {
        "id": "VgApty6oYB5W"
      },
      "id": "VgApty6oYB5W"
    },
    {
      "cell_type": "markdown",
      "source": [
        "### Read"
      ],
      "metadata": {
        "id": "nnR9tUATYB5W"
      },
      "id": "nnR9tUATYB5W"
    },
    {
      "cell_type": "code",
      "execution_count": null,
      "source": [
        "data_rows = dataset.data_rows()\n",
        "data_row = next(data_rows)"
      ],
      "outputs": [],
      "metadata": {
        "id": "Tt-AZDRjYB5W"
      },
      "id": "Tt-AZDRjYB5W"
    },
    {
      "cell_type": "code",
      "execution_count": null,
      "source": [
        "# Url\n",
        "print(\"Associated dataset\", data_row.dataset())\n",
        "print(\"Associated label(s)\", next(data_row.labels()))\n",
        "print(\"External id\", data_row.external_id)"
      ],
      "outputs": [],
      "metadata": {
        "id": "51KZrT55YB5W"
      },
      "id": "51KZrT55YB5W"
    },
    {
      "cell_type": "code",
      "source": [
        ""
      ],
      "metadata": {
        "id": "X5nx7N1_ajmx"
      },
      "id": "X5nx7N1_ajmx",
      "execution_count": null,
      "outputs": []
    },
    {
      "cell_type": "code",
      "execution_count": null,
      "source": [
        "# External ids can be a reference to your internal datasets\n",
        "data_row = dataset.data_row_for_external_id(data_row.external_id)\n",
        "print(data_row)"
      ],
      "outputs": [],
      "metadata": {
        "id": "UR8nm01JYB5X"
      },
      "id": "UR8nm01JYB5X"
    },
    {
      "cell_type": "markdown",
      "source": [
        "### Create\n",
        "* Create a single data row at a time"
      ],
      "metadata": {
        "id": "xK1A0bAEYB5X"
      },
      "id": "xK1A0bAEYB5X"
    },
    {
      "cell_type": "code",
      "execution_count": null,
      "source": [
        "dataset = client.create_dataset(name=\"testing-dataset\")\n",
        "dataset.create_data_row(row_data=\"https://picsum.photos/200/300\")\n",
        "\n",
        "# It is reccomended that you use external ids but optional.\n",
        "# These are useful for users to maintain references to a data_row.\n",
        "dataset.create_data_row(row_data=\"https://picsum.photos/200/300\",\n",
        "                        external_id=str(uuid.uuid4()))\n",
        "\n",
        "# You can also upload metadata along with your data_row\n",
        "mdo = client.get_data_row_metadata_ontology()\n",
        "dataset.create_data_row(row_data=\"https://picsum.photos/200/300\",\n",
        "                        external_id=str(uuid.uuid4()),\n",
        "                        metadata_fields=[\n",
        "                            DataRowMetadataField(\n",
        "                              schema_id=mdo.reserved_by_name[\"tag\"].uid,  # specify the schema id\n",
        "                              value=\"tag_string\", # typed inputs\n",
        "                            ),\n",
        "                        ], \n",
        ")"
      ],
      "outputs": [],
      "metadata": {
        "id": "3QrqfrsNYB5X"
      },
      "id": "3QrqfrsNYB5X"
    },
    {
      "cell_type": "markdown",
      "source": [
        "* Bulk create data rows (This is much faster than creating individual data rows)"
      ],
      "metadata": {
        "id": "JtwpnspkYB5X"
      },
      "id": "JtwpnspkYB5X"
    },
    {
      "cell_type": "code",
      "execution_count": null,
      "source": [
        "task1 = dataset.create_data_rows([{\n",
        "    DataRow.row_data: \"https://picsum.photos/200/300\"\n",
        "}, {\n",
        "    DataRow.row_data: \"https://picsum.photos/200/300\"\n",
        "}])"
      ],
      "outputs": [],
      "metadata": {
        "id": "z2fiyC8IYB5Y"
      },
      "id": "z2fiyC8IYB5Y"
    },
    {
      "cell_type": "code",
      "execution_count": null,
      "source": [
        "# Local paths\n",
        "local_data_path = '/tmp/test_data_row.txt'\n",
        "with open(local_data_path, 'w') as file:\n",
        "    file.write(\"sample data\")\n",
        "\n",
        "task2 = dataset.create_data_rows([local_data_path])"
      ],
      "outputs": [],
      "metadata": {
        "id": "z4bx-B-qYB5Y"
      },
      "id": "z4bx-B-qYB5Y"
    },
    {
      "cell_type": "code",
      "execution_count": null,
      "source": [
        "# You can mix local files with urls\n",
        "task3 = dataset.create_data_rows([{\n",
        "    DataRow.row_data: \"https://picsum.photos/200/300\"\n",
        "}, local_data_path])"
      ],
      "outputs": [],
      "metadata": {
        "id": "vbF81oenYB5Y"
      },
      "id": "vbF81oenYB5Y"
    },
    {
      "cell_type": "code",
      "execution_count": null,
      "source": [
        "# Note that you cannot set external_ids at this time when uploading from local files.\n",
        "# To do this you have to first\n",
        "item_url = client.upload_file(local_data_path)\n",
        "task4 = dataset.create_data_rows([{\n",
        "    DataRow.row_data: item_url,\n",
        "    DataRow.external_id: str(uuid.uuid4())\n",
        "}])"
      ],
      "outputs": [],
      "metadata": {
        "id": "WAFNsejKYB5Y"
      },
      "id": "WAFNsejKYB5Y"
    },
    {
      "cell_type": "code",
      "source": [
        "# You can bulk upload Data Rows with metadata\n",
        "task5 = dataset.create_data_rows([{\n",
        "    DataRow.row_data: \"https://picsum.photos/200/300\",\n",
        "    DataRow.external_id: str(uuid.uuid4()),\n",
        "    \"metadata_fields\": [\n",
        "      DataRowMetadataField(\n",
        "        schema_id=mdo.reserved_by_name[\"tag\"].uid,  # specify the schema id\n",
        "        value=\"tag_string\", # typed inputs\n",
        "      ),\n",
        "    ], \n",
        "}])"
      ],
      "metadata": {
        "id": "rwS6O0HZcI-8"
      },
      "id": "rwS6O0HZcI-8",
      "execution_count": null,
      "outputs": []
    },
    {
      "cell_type": "code",
      "execution_count": null,
      "source": [
        "# Blocking wait until complete\n",
        "task1.wait_till_done()\n",
        "task2.wait_till_done()\n",
        "task3.wait_till_done()\n",
        "task4.wait_till_done()\n",
        "task5.wait_till_done()\n",
        "\n",
        "print(task1.status, task2.status, task3.status, task4.status, task5.status)"
      ],
      "outputs": [],
      "metadata": {
        "id": "Ia4AArzBYB5Y"
      },
      "id": "Ia4AArzBYB5Y"
    },
    {
      "cell_type": "markdown",
      "source": [
        "### Update"
      ],
      "metadata": {
        "id": "VgQCeZOdYB5Y"
      },
      "id": "VgQCeZOdYB5Y"
    },
    {
      "cell_type": "code",
      "execution_count": null,
      "source": [
        "# Useful for resigning urls\n",
        "new_id = str(uuid.uuid4())\n",
        "data_row.update(external_id=new_id)\n",
        "print(data_row.external_id, new_id)"
      ],
      "outputs": [],
      "metadata": {
        "id": "fZPeKs8vYB5Y"
      },
      "id": "fZPeKs8vYB5Y"
    },
    {
      "cell_type": "code",
      "execution_count": null,
      "source": [
        "# We can also create attachments\n",
        "# Attachments are visible for all projects connected to the data_row\n",
        "data_row.create_attachment(attachment_type=\"TEXT\",\n",
        "                           attachment_value=\"LABELERS WILL SEE THIS \")\n",
        "# See more information here:\n",
        "# https://docs.labelbox.com/reference/type-image\n",
        "# Note that attachment_value must always be a string (url to a video/image or a text value to display)"
      ],
      "outputs": [
        {
          "output_type": "execute_result",
          "data": {
            "text/plain": [
              "<AssetAttachment ID: ckporcvj61dni0y632e6cb217>"
            ]
          },
          "metadata": {},
          "execution_count": 16
        }
      ],
      "metadata": {
        "id": "xQOT5GApYB5Y",
        "outputId": "8df4a68c-546e-4a9d-fb94-3841d36abaf6"
      },
      "id": "xQOT5GApYB5Y"
    },
    {
      "cell_type": "markdown",
      "source": [
        "### Delete"
      ],
      "metadata": {
        "id": "G-FeGmJfYB5Y"
      },
      "id": "G-FeGmJfYB5Y"
    },
    {
      "cell_type": "code",
      "execution_count": null,
      "source": [
        "data_row.delete()\n",
        "# Will remove from the dataset too"
      ],
      "outputs": [],
      "metadata": {
        "id": "1ujXfIIcYB5Y"
      },
      "id": "1ujXfIIcYB5Y"
    },
    {
      "cell_type": "code",
      "execution_count": null,
      "source": [
        "# Bulk delete a list of data_rows (in this case all of them we just uploaded)\n",
        "DataRow.bulk_delete(list(dataset.data_rows()))"
      ],
      "outputs": [],
      "metadata": {
        "id": "e5R1gru2YB5Z"
      },
      "id": "e5R1gru2YB5Z"
    }
  ],
  "metadata": {
    "kernelspec": {
      "display_name": "Python 3",
      "language": "python",
      "name": "python3"
    },
    "language_info": {
      "codemirror_mode": {
        "name": "ipython",
        "version": 3
      },
      "file_extension": ".py",
      "mimetype": "text/x-python",
      "name": "python",
      "nbconvert_exporter": "python",
      "pygments_lexer": "ipython3",
      "version": "3.8.5"
    },
    "colab": {
      "name": "Copy of data_rows.ipynb",
      "provenance": [],
      "collapsed_sections": []
    }
  },
  "nbformat": 4,
  "nbformat_minor": 5
}