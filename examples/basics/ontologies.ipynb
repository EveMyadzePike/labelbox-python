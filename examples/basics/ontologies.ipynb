{
    "cells": [
        {
            "cell_type": "markdown",
            "id": "db768cda",
            "metadata": {},
            "source": [
                "<td>\n",
                "   <a target=\"_blank\" href=\"https://labelbox.com\" ><img src=\"https://labelbox.com/blog/content/images/2021/02/logo-v4.svg\" width=256/></a>\n",
                "</td>"
            ]
        },
        {
            "cell_type": "markdown",
            "id": "cb5611d0",
            "metadata": {},
            "source": [
                "<td>\n",
                "<a href=\"https://colab.research.google.com/github/Labelbox/labelbox-python/blob/develop/examples/basics/ontologies.ipynb\" target=\"_blank\"><img\n",
                "src=\"https://colab.research.google.com/assets/colab-badge.svg\" alt=\"Open In Colab\"></a>\n",
                "</td>\n",
                "\n",
                "<td>\n",
                "<a href=\"https://github.com/Labelbox/labelbox-python/tree/develop/examples/basics/ontologies.ipynb\" target=\"_blank\"><img\n",
                "src=\"https://img.shields.io/badge/GitHub-100000?logo=github&logoColor=white\" alt=\"GitHub\"></a>\n",
                "</td>"
            ]
        },
        {
            "cell_type": "markdown",
            "id": "north-mountain",
            "metadata": {},
            "source": [
                "# Ontologies\n",
                "* An ontology is a collection different tools and classifications that can be used within a project's editor. Each tool or classification is called a \"Feature Schema\". \n",
                "* Feature Schemas contain information about the tool such as the kind, the name, all subclasses, and other information related to a tool. Feature Schemas can be shared between ontologies. \n",
                "\n",
                "* Helpful Links:\n",
                "    * [Ontology documentation](https://docs.labelbox.com/docs/ontology-json)\n",
                "    * [Project Setup Using Ontologies](https://github.com/Labelbox/labelbox-python/blob/develop/examples/project_configuration/project_setup.ipynb)"
            ]
        },
        {
            "cell_type": "code",
            "execution_count": 1,
            "id": "continuous-syndrome",
            "metadata": {
                "scrolled": true
            },
            "outputs": [],
            "source": "!pip install labelbox"
        },
        {
            "cell_type": "code",
            "execution_count": 2,
            "id": "passing-question",
            "metadata": {
                "scrolled": true
            },
            "outputs": [],
            "source": "from labelbox import Client, OntologyBuilder, Tool, Classification, Option\nimport json"
        },
        {
            "cell_type": "code",
            "execution_count": 3,
            "id": "baking-recipient",
            "metadata": {
                "scrolled": true
            },
            "outputs": [],
            "source": "# Add your api key\nAPI_KEY = None\nENDPOINT = \"https://api.labelbox.com/graphql\"\nclient = Client(api_key=API_KEY, endpoint=ENDPOINT)"
        },
        {
            "cell_type": "markdown",
            "id": "18d7cb3b",
            "metadata": {},
            "source": [
                "### Create Ontology From Normalized Data\n",
                "* Users can create ontologies from a json definition of the ontology\n",
                "* See below `OntologyBuilder` section for more details on constructing the normalized ontology"
            ]
        },
        {
            "cell_type": "code",
            "execution_count": 4,
            "id": "refined-welsh",
            "metadata": {
                "scrolled": true
            },
            "outputs": [],
            "source": "# This will automatically create new feature schema\nontology_name = \"sdk-ontology\"\nfeature_schema_cat_normalized = {\n    'tool': 'polygon',\n    'name': 'cat',\n    'color': 'black'\n}\n\nontology_normalized_json = {\n    \"tools\": [feature_schema_cat_normalized],\n    \"classifications\": []\n}\nontology = client.create_ontology(name=ontology_name,\n                                  normalized=ontology_normalized_json)\nprint(ontology)"
        },
        {
            "cell_type": "markdown",
            "id": "2c9ad9b8",
            "metadata": {},
            "source": [
                "### Create Ontology From Existing Feature Schemas\n",
                "* It is often useful to support the same features in multiple ontologies. \n",
                "* Labelbox supports this workflow by allowing users to create ontologies using existing feature schemas."
            ]
        },
        {
            "cell_type": "code",
            "execution_count": 5,
            "id": "faced-genome",
            "metadata": {
                "scrolled": true
            },
            "outputs": [],
            "source": "# First create the feature schema\nfeature_schema_cat = client.create_feature_schema(feature_schema_cat_normalized)\n# When we create the ontology it will not re-create the feature schema\nprint(feature_schema_cat.uid)\nontology = client.create_ontology_from_feature_schemas(ontology_name,\n                                                       [feature_schema_cat.uid])"
        },
        {
            "cell_type": "markdown",
            "id": "8c647804",
            "metadata": {},
            "source": [
                "### Create Ontology From a Mix of New and Existing Feature Schemas\n",
                "* If we want to create a new ontology that expands upon a previous ontology it is helpful to be able to share a portion of the features.\n",
                "* To do this we will create the new schema ids that we want. Then we will create an ontology from the new list of ids.\n",
                "* Note that for additional customization you can also combine the normalized json and use the create_ontology() method (not covered here)."
            ]
        },
        {
            "cell_type": "code",
            "execution_count": 6,
            "id": "pacific-combining",
            "metadata": {
                "scrolled": true
            },
            "outputs": [],
            "source": "# Create new dog schema id\nfeature_schema_dog_normalized = {\n    'tool': 'polygon',\n    'name': 'dog',\n    'color': 'black',\n    'classifications': [],\n}\nfeature_schema_dog = client.create_feature_schema(feature_schema_dog_normalized)\n# The cat is shared between this new ontology and the one we created previously\n# (ie. the cat feature schema will not be re-created)\nontology = client.create_ontology_from_feature_schemas(\n    ontology_name, [feature_schema_cat.uid, feature_schema_dog.uid])"
        },
        {
            "cell_type": "markdown",
            "id": "boring-detail",
            "metadata": {},
            "source": [
                "### Read\n",
                "* We can directly query by id for ontologies and feature schemas\n",
                "* We also can search for both by name"
            ]
        },
        {
            "cell_type": "code",
            "execution_count": 7,
            "id": "d746a962",
            "metadata": {
                "scrolled": true
            },
            "outputs": [],
            "source": "#### Fetch by ID\nfeature_schema = client.get_feature_schema(feature_schema_cat.uid)\nontology = client.get_ontology(ontology.uid)\nprint(feature_schema)\nprint(ontology)"
        },
        {
            "cell_type": "code",
            "execution_count": 8,
            "id": "05f8f22c",
            "metadata": {
                "scrolled": true
            },
            "outputs": [],
            "source": "#### Search by name\nfeature_schema = next(client.get_feature_schemas(\"cat\"))\nontology = next(client.get_ontologies(ontology_name))\nprint(feature_schema)\nprint(ontology)"
        },
        {
            "cell_type": "markdown",
            "id": "relevant-transfer",
            "metadata": {},
            "source": [
                "### Update and Delete\n",
                "- At this time, these options are not supported from the SDK.\n",
                "- Updating an ontology is dangerous and could cause labels to be hidden. \n",
                "    - Use caution when doing so"
            ]
        },
        {
            "cell_type": "markdown",
            "id": "8ccb7742",
            "metadata": {},
            "source": [
                "### Ontology Builder\n",
                "* The ontology builder is a tool for creating and modifying normalized json"
            ]
        },
        {
            "cell_type": "code",
            "execution_count": 9,
            "id": "aaa47614",
            "metadata": {
                "scrolled": true
            },
            "outputs": [],
            "source": "# Create normalized json with a bounding box and segmentation tool\nontology_builder = OntologyBuilder(tools=[\n    Tool(tool=Tool.Type.BBOX, name=\"dog\"),\n    Tool(tool=Tool.Type.SEGMENTATION, name=\"cat\"),\n])\n# Creating an ontology from this is easy\nontology = client.create_ontology(\"ontology-builder-ontology\",\n                                  ontology_builder.asdict())\nprint(json.dumps(ontology.normalized, indent=2))"
        },
        {
            "cell_type": "markdown",
            "id": "0dbc543d",
            "metadata": {},
            "source": [
                "* Alternative syntax for defining the ontology via the OntologyBuilder"
            ]
        },
        {
            "cell_type": "code",
            "execution_count": 10,
            "id": "912a0445",
            "metadata": {
                "scrolled": true
            },
            "outputs": [],
            "source": "# Create\nontology_builder = OntologyBuilder()\n# Append tools\ntool_dog = Tool(tool=Tool.Type.BBOX, name=\"dog\")\ntool_cat = Tool(tool=Tool.Type.SEGMENTATION, name=\"cat\")\nontology_builder.add_tool(tool_dog)\nontology_builder.add_tool(tool_cat)\nontology = client.create_ontology(\"ontology-builder-ontology\",\n                                  ontology_builder.asdict())\nprint(json.dumps(ontology.normalized, indent=2))"
        },
        {
            "cell_type": "markdown",
            "id": "460c30f8",
            "metadata": {},
            "source": [
                "* Classifications are supported too (Both for top level and as subclassifications)"
            ]
        },
        {
            "cell_type": "code",
            "execution_count": 11,
            "id": "e212df2b",
            "metadata": {
                "scrolled": true
            },
            "outputs": [],
            "source": "ontology_builder = OntologyBuilder(\n    tools=[\n        Tool(tool=Tool.Type.BBOX, name=\"dog\"),\n        Tool(tool=Tool.Type.SEGMENTATION,\n             name=\"cat\",\n             classifications=[\n                 Classification(class_type=Classification.Type.TEXT,\n                                instructions=\"name\")\n             ])\n    ],\n    classifications=[\n        Classification(class_type=Classification.Type.RADIO,\n                       instructions=\"image_quality\",\n                       options=[Option(value=\"clear\"),\n                                Option(value=\"blurry\")])\n    ])\nprint(json.dumps(ontology_builder.asdict(), indent=2))"
        },
        {
            "cell_type": "markdown",
            "id": "b2ebb94a",
            "metadata": {},
            "source": [
                "* All Tool objects are constructed the same way:"
            ]
        },
        {
            "cell_type": "code",
            "execution_count": 12,
            "id": "df8e624c",
            "metadata": {
                "scrolled": true
            },
            "outputs": [],
            "source": "bbox_tool = Tool(tool=Tool.Type.BBOX, name=\"dog_box\")\npoly_tool = Tool(tool=Tool.Type.POLYGON, name=\"dog_poly\")\nseg_tool = Tool(tool=Tool.Type.SEGMENTATION, name=\"dog_seg\")\npoint_tool = Tool(tool=Tool.Type.POINT, name=\"dog_center\")\nline_tool = Tool(tool=Tool.Type.LINE, name=\"dog_orientation\")\nner_tool = Tool(tool=Tool.Type.NER, name=\"dog_reference\")"
        },
        {
            "cell_type": "markdown",
            "id": "8f0c38be",
            "metadata": {},
            "source": [
                "* Classifications are all constructed the same way (except text which doesn't require options)\n",
                "* Classifications can be global or subclasses to a tool (ie dog bounding box, with a breed classification)"
            ]
        },
        {
            "cell_type": "code",
            "execution_count": 13,
            "id": "9ada8aef",
            "metadata": {
                "scrolled": true
            },
            "outputs": [],
            "source": "text_classification = Classification(class_type=Classification.Type.TEXT,\n                                     instructions=\"dog_name\")\nradio_classification = Classification(class_type=Classification.Type.CHECKLIST,\n                                      instructions=\"dog_breed\",\n                                      options=[Option(\"poodle\")])\ndropdown_classification = Classification(\n    class_type=Classification.Type.DROPDOWN,\n    instructions=\"dog_features\",\n    options=[Option(\"short\"), Option(\"fluffy\")])\nchecklist_classification = Classification(\n    class_type=Classification.Type.CHECKLIST,\n    instructions=\"background\",\n    options=[Option(\"at_park\"), Option(\"has_leash\")])"
        }
    ],
    "metadata": {
        "kernelspec": {
            "display_name": "Python 3 (ipykernel)",
            "language": "python",
            "name": "python3"
        },
        "language_info": {
            "codemirror_mode": {
                "name": "ipython",
                "version": 3
            },
            "file_extension": ".py",
            "mimetype": "text/x-python",
            "name": "python",
            "nbconvert_exporter": "python",
            "pygments_lexer": "ipython3",
            "version": "3.8.2"
        }
    },
    "nbformat": 4,
    "nbformat_minor": 5
}