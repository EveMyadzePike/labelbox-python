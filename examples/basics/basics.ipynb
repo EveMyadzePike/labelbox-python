{
  "cells": [
    {
      "cell_type": "markdown",
      "id": "db768cda",
      "metadata": {
        "id": "db768cda"
      },
      "source": [
        "<td>\n",
        "   <a target=\"_blank\" href=\"https://labelbox.com\" ><img src=\"https://labelbox.com/blog/content/images/2021/02/logo-v4.svg\" width=190/></a>\n",
        "</td>"
      ]
    },
    {
      "cell_type": "markdown",
      "id": "cb5611d0",
      "metadata": {
        "id": "cb5611d0"
      },
      "source": [
        "<td>\n",
        "<a href=\"https://colab.research.google.com/github/Labelbox/labelbox-python/blob/develop/examples/basics/basics.ipynb\" target=\"_blank\"><img\n",
        "src=\"https://colab.research.google.com/assets/colab-badge.svg\" alt=\"Open In Colab\"></a>\n",
        "</td>\n",
        "\n",
        "<td>\n",
        "<a href=\"https://github.com/Labelbox/labelbox-python/tree/develop/examples/basics/basics.ipynb\" target=\"_blank\"><img\n",
        "src=\"https://img.shields.io/badge/GitHub-100000?logo=github&logoColor=white\" alt=\"GitHub\"></a>\n",
        "</td>"
      ]
    },
    {
      "cell_type": "markdown",
      "id": "complimentary-passing",
      "metadata": {
        "id": "complimentary-passing"
      },
      "source": [
        "# Basic project setup\n",
        "\n",
        "This notebook is used to go over the basic of the Python SDK, what a db object is, and how to interact with it. \n",
        "\n"
      ]
    },
    {
      "cell_type": "code",
      "execution_count": null,
      "id": "indie-bracket",
      "metadata": {
        "id": "indie-bracket"
      },
      "outputs": [],
      "source": [
        "!pip install labelbox"
      ]
    },
    {
      "cell_type": "code",
      "execution_count": 2,
      "id": "everyday-street",
      "metadata": {
        "id": "everyday-street"
      },
      "outputs": [],
      "source": [
        "from labelbox import Project, Dataset, Client, DataRow\n",
        "from labelbox.schema.queue_mode import QueueMode\n",
        "from labelbox.schema.media_type import MediaType\n",
        "import random\n",
        "import uuid\n",
        "import os"
      ]
    },
    {
      "cell_type": "markdown",
      "id": "485451ad",
      "metadata": {
        "id": "485451ad"
      },
      "source": [
        "# API Key and Client\n",
        "Provide a valid api key below in order to properly connect to the Labelbox Client."
      ]
    },
    {
      "cell_type": "code",
      "execution_count": 3,
      "id": "thick-gasoline",
      "metadata": {
        "id": "thick-gasoline"
      },
      "outputs": [],
      "source": [
        "# Add your api key\n",
        "API_KEY=None\n",
        "# To get your API key go to: Workspace settings -> API -> Create API Key\n",
        "client = Client(api_key=API_KEY)"
      ]
    },
    {
      "cell_type": "code",
      "source": [
        "# For the purpose of this demo get a single project/dataset id from your organization\n",
        "\n",
        "# Get a single Project id\n",
        "projects = client.get_projects()\n",
        "project_id=list(projects)[0].uid\n",
        "project_name=list(projects)[0].name\n",
        "print(\"Project ID: \", project_id)\n",
        "print(\"Project Name:\", project_name)\n",
        "print(\"Number of projects in your org:\", len(list(projects)))\n",
        "\n",
        "print(\"-\" * 40)\n",
        "\n",
        "# Get a single dataset id\n",
        "datasets = client.get_datasets()\n",
        "dataset_id = list(datasets)[0].uid\n",
        "dataset_name = list(datasets)[0].name\n",
        "print(\"Dataset ID: \", dataset_id)\n",
        "print(\"Dataset Name:\" , dataset_name)\n",
        "print(\"Number of datasets in your org:\", len(list(datasets)))"
      ],
      "metadata": {
        "colab": {
          "base_uri": "https://localhost:8080/"
        },
        "id": "F_payZKCiX56",
        "outputId": "45123f80-6d04-4c83-8390-ec1d2f82ff3f"
      },
      "id": "F_payZKCiX56",
      "execution_count": 4,
      "outputs": [
        {
          "output_type": "stream",
          "name": "stdout",
          "text": [
            "Project ID:  cl9rmkr5a4hiy07v5ey34ahtk\n",
            "Project Name: label_import_project_demo\n",
            "Number of projects in your org: 88\n",
            "----------------------------------------\n",
            "Dataset ID:  cl9rmksvo3wv207y6h158giqo\n",
            "Dataset Name: annotation_import_demo_dataset\n",
            "Number of datasets in your org: 78\n"
          ]
        }
      ]
    },
    {
      "cell_type": "code",
      "execution_count": 5,
      "id": "victorian-consumer",
      "metadata": {
        "id": "victorian-consumer"
      },
      "outputs": [],
      "source": [
        "# Fetch the project and dataset by using the IDs fetched in the previous cell\n",
        "project = client.get_project(project_id)\n",
        "dataset = client.get_dataset(dataset_id)"
      ]
    },
    {
      "cell_type": "code",
      "execution_count": 6,
      "id": "industrial-onion",
      "metadata": {
        "id": "industrial-onion",
        "outputId": "340c857a-8aba-428c-ae0e-04d5565ccb8f",
        "colab": {
          "base_uri": "https://localhost:8080/"
        }
      },
      "outputs": [
        {
          "output_type": "stream",
          "name": "stdout",
          "text": [
            "Project:  <Project {'auto_audit_number_of_labels': 1, 'auto_audit_percentage': 1, 'created_at': datetime.datetime(2022, 10, 27, 22, 16, 33, tzinfo=datetime.timezone.utc), 'description': '', 'last_activity_time': datetime.datetime(2022, 10, 27, 22, 16, 46, tzinfo=datetime.timezone.utc), 'media_type': <MediaType.Image: 'IMAGE'>, 'name': 'label_import_project_demo', 'queue_mode': <QueueMode.Batch: 'BATCH'>, 'setup_complete': datetime.datetime(2022, 10, 27, 22, 16, 45, tzinfo=datetime.timezone.utc), 'uid': 'cl9rmkr5a4hiy07v5ey34ahtk', 'updated_at': datetime.datetime(2022, 10, 27, 22, 16, 46, tzinfo=datetime.timezone.utc)}>\n",
            "Dataset:  <Dataset {'created_at': datetime.datetime(2022, 10, 27, 22, 16, 36, tzinfo=datetime.timezone.utc), 'description': '', 'name': 'annotation_import_demo_dataset', 'row_count': 5, 'uid': 'cl9rmksvo3wv207y6h158giqo', 'updated_at': datetime.datetime(2022, 10, 27, 22, 16, 37, tzinfo=datetime.timezone.utc)}>\n"
          ]
        }
      ],
      "source": [
        "print(\"Project: \", project)\n",
        "print(\"Dataset: \", dataset)"
      ]
    },
    {
      "cell_type": "markdown",
      "id": "popular-nylon",
      "metadata": {
        "id": "popular-nylon"
      },
      "source": [
        "### Fields\n",
        "* All db objects have fields (look at the source code to see them https://github.com/Labelbox/labelbox-python/blob/develop/labelbox/schema/project.py)\n",
        "* These fields are attributes of the object"
      ]
    },
    {
      "cell_type": "code",
      "execution_count": 7,
      "id": "guided-institute",
      "metadata": {
        "id": "guided-institute",
        "outputId": "9fe66adc-8336-431a-cea1-91942e4939bc",
        "colab": {
          "base_uri": "https://localhost:8080/"
        }
      },
      "outputs": [
        {
          "output_type": "stream",
          "name": "stdout",
          "text": [
            "label_import_project_demo\n",
            "annotation_import_demo_dataset\n"
          ]
        }
      ],
      "source": [
        "print(project.name)\n",
        "print(dataset.name)"
      ]
    },
    {
      "cell_type": "markdown",
      "id": "protective-multimedia",
      "metadata": {
        "id": "protective-multimedia"
      },
      "source": [
        "* Fields can be updated. This will be reflected server side (you will see it in labelbox) "
      ]
    },
    {
      "cell_type": "code",
      "execution_count": 8,
      "id": "according-subdivision",
      "metadata": {
        "id": "according-subdivision",
        "colab": {
          "base_uri": "https://localhost:8080/"
        },
        "outputId": "9bc9e80d-3bce-43f5-a18d-554174fb8a7a"
      },
      "outputs": [
        {
          "output_type": "stream",
          "name": "stdout",
          "text": [
            "new description field\n"
          ]
        }
      ],
      "source": [
        "project.update(description=\"new description field\")\n",
        "print(project.description)"
      ]
    },
    {
      "cell_type": "markdown",
      "id": "viral-power",
      "metadata": {
        "id": "viral-power"
      },
      "source": [
        "### Pagination\n",
        "* Queries that return a list of database objects are return as a PaginatedCollection\n",
        "* Limits the data that is being returned for better performance"
      ]
    },
    {
      "cell_type": "code",
      "execution_count": 9,
      "id": "ideal-processing",
      "metadata": {
        "id": "ideal-processing",
        "outputId": "c1d7ac49-31d4-4949-896d-8765f5954436",
        "colab": {
          "base_uri": "https://localhost:8080/"
        }
      },
      "outputs": [
        {
          "output_type": "stream",
          "name": "stdout",
          "text": [
            "Type of collection:  <class 'labelbox.pagination.PaginatedCollection'>\n",
            "Number of labels : 0\n"
          ]
        }
      ],
      "source": [
        "labels_paginated_collection = project.labels()\n",
        "print(\"Type of collection: \", type(labels_paginated_collection))\n",
        "\n",
        "# A paginated collection can be parsed by using list()\n",
        "# list(paginated...) should be avoided for queries that could return more than a dozen results\n",
        "print(\"Number of labels :\", len(list(labels_paginated_collection)))"
      ]
    },
    {
      "cell_type": "code",
      "execution_count": 10,
      "id": "convinced-force",
      "metadata": {
        "id": "convinced-force",
        "colab": {
          "base_uri": "https://localhost:8080/"
        },
        "outputId": "3aff953b-efc4-4f1e-f2cd-575c3e78c01a"
      },
      "outputs": [
        {
          "output_type": "stream",
          "name": "stdout",
          "text": [
            "Project has no labels !\n"
          ]
        }
      ],
      "source": [
        "# Note that if you selected a `project_id` without any labels this will raise `StopIteration`\n",
        "# Iterate over the paginated collection\n",
        "try: \n",
        "  single_label = next(project.labels())\n",
        "  print(single_label)\n",
        "except StopIteration: \n",
        "  print(\"Project has no labels !\")"
      ]
    },
    {
      "cell_type": "markdown",
      "id": "widespread-startup",
      "metadata": {
        "id": "widespread-startup"
      },
      "source": [
        "### Query parameters\n",
        "* Query with the following conventions:\n",
        "    * `DbObject.Field`"
      ]
    },
    {
      "cell_type": "code",
      "execution_count": 11,
      "id": "cubic-joint",
      "metadata": {
        "id": "cubic-joint",
        "outputId": "f02e5758-6db7-44a3-cf2b-937164e18bda",
        "colab": {
          "base_uri": "https://localhost:8080/"
        }
      },
      "outputs": [
        {
          "output_type": "stream",
          "name": "stdout",
          "text": [
            "<labelbox.pagination.PaginatedCollection object at 0x7f463f4e70d0>\n",
            "<Project {'auto_audit_number_of_labels': 1, 'auto_audit_percentage': 1, 'created_at': datetime.datetime(2022, 10, 27, 22, 16, 33, tzinfo=datetime.timezone.utc), 'description': 'new description field', 'last_activity_time': datetime.datetime(2022, 10, 28, 13, 20, 59, tzinfo=datetime.timezone.utc), 'media_type': <MediaType.Image: 'IMAGE'>, 'name': 'label_import_project_demo', 'queue_mode': <QueueMode.Batch: 'BATCH'>, 'setup_complete': datetime.datetime(2022, 10, 27, 22, 16, 45, tzinfo=datetime.timezone.utc), 'uid': 'cl9rmkr5a4hiy07v5ey34ahtk', 'updated_at': datetime.datetime(2022, 10, 28, 13, 20, 59, tzinfo=datetime.timezone.utc)}>\n",
            "None\n",
            "None\n"
          ]
        }
      ],
      "source": [
        "datasets = client.get_datasets(where=Dataset.name == dataset_name)\n",
        "\n",
        "projects = client.get_projects(\n",
        "    where=((Project.name == project_name) &\n",
        "           (Project.description == \"new description field\")))\n",
        "\n",
        "# The above two queries return PaginatedCollections because the filter parameters aren't guaranteed to be unique.\n",
        "# So even if there is one element returned it is in a paginatedCollection.\n",
        "print(projects)\n",
        "print(next(projects, None))\n",
        "print(next(projects, None))\n",
        "print(next(projects, None))\n",
        "# We can see there is only one."
      ]
    },
    {
      "cell_type": "markdown",
      "id": "french-toner",
      "metadata": {
        "id": "french-toner"
      },
      "source": [
        "### Querying Limitations\n",
        "* The DbObject used for the query must be the same as the DbObject returned by the querying function.  \n",
        "* The below query is not valid since get_project returns a project not a dataset\n",
        ">  `>>> projects = client.get_projects(where = Dataset.name == \"dataset_name\")`\n"
      ]
    },
    {
      "cell_type": "markdown",
      "source": [
        "# Relationships between projects and batches/datasets\n",
        "\n"
      ],
      "metadata": {
        "id": "PtEddH7nq7qy"
      },
      "id": "PtEddH7nq7qy"
    },
    {
      "cell_type": "code",
      "execution_count": 21,
      "id": "future-bargain",
      "metadata": {
        "id": "future-bargain",
        "outputId": "f4c2980b-9b06-41c9-be36-7dfb5b4429bf",
        "colab": {
          "base_uri": "https://localhost:8080/"
        }
      },
      "outputs": [
        {
          "output_type": "stream",
          "name": "stdout",
          "text": [
            " Name of project : label_import_project_demo\n",
            " Name of batches in project: first-batch-LI-demo\n"
          ]
        }
      ],
      "source": [
        "# Since the project we created only has batches, we can't query for datasets. \n",
        "# sample_project_datasets = project.datasets() --> Run if project is in dataset mode\n",
        "sample_project_batches = project.batches()\n",
        "\n",
        "list(sample_project_batches)\n",
        "\n",
        "for b in sample_project_batches:\n",
        "  print(f\" Name of project : {b.project().name}\")\n",
        "  print(f\" Name of batches in project: {b.name}\")"
      ]
    }
  ],
  "metadata": {
    "kernelspec": {
      "display_name": "Python 3",
      "language": "python",
      "name": "python3"
    },
    "language_info": {
      "codemirror_mode": {
        "name": "ipython",
        "version": 3
      },
      "file_extension": ".py",
      "mimetype": "text/x-python",
      "name": "python",
      "nbconvert_exporter": "python",
      "pygments_lexer": "ipython3",
      "version": "3.8.2"
    },
    "colab": {
      "provenance": [],
      "collapsed_sections": []
    }
  },
  "nbformat": 4,
  "nbformat_minor": 5
}
